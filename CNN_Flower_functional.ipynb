{
 "cells": [
  {
   "cell_type": "code",
   "execution_count": 14,
   "metadata": {},
   "outputs": [],
   "source": [
    "import os, shutil\n",
    "original_dataset_dir = 'D://flowers'\n",
    "original_dataset_dir = os.path.join(original_dataset_dir,'flowers')"
   ]
  },
  {
   "cell_type": "markdown",
   "metadata": {},
   "source": [
    "https://machinelearningmastery.com/keras-functional-api-deep-learning/"
   ]
  },
  {
   "cell_type": "code",
   "execution_count": 15,
   "metadata": {},
   "outputs": [
    {
     "name": "stdout",
     "output_type": "stream",
     "text": [
      "D://flowers\\flowers\n"
     ]
    }
   ],
   "source": [
    "print(original_dataset_dir)"
   ]
  },
  {
   "cell_type": "code",
   "execution_count": 16,
   "metadata": {},
   "outputs": [],
   "source": [
    "\n",
    "flower_names = os.listdir(original_dataset_dir)"
   ]
  },
  {
   "cell_type": "code",
   "execution_count": 20,
   "metadata": {},
   "outputs": [],
   "source": [
    "flower_train = os.path.join(original_dataset_dir,'train')\n",
    "#os.mkdir(flower_train)\n"
   ]
  },
  {
   "cell_type": "code",
   "execution_count": 21,
   "metadata": {},
   "outputs": [],
   "source": [
    "flower_test = os.path.join(original_dataset_dir,'test')\n",
    "#os.mkdir(flower_test)"
   ]
  },
  {
   "cell_type": "code",
   "execution_count": 46,
   "metadata": {},
   "outputs": [],
   "source": [
    "def create_flower_dir():\n",
    "    for flower_name in flower_names:\n",
    "        flower_path = os.path.join(original_dataset_dir,flower_name)\n",
    "        flowerslist = os.listdir(flower_path)\n",
    "        flower_train = os.path.join(original_dataset_dir,'train')\n",
    "        flower_train = os.path.join(flower_train,flower_name)\n",
    "        flower_test = os.path.join(original_dataset_dir,'test')\n",
    "        flower_test = os.path.join(flower_test,flower_name)\n",
    "        os.mkdir(flower_train)\n",
    "        os.mkdir(flower_test)\n",
    "        print(len(flowerslist))\n",
    "    \n",
    "\n"
   ]
  },
  {
   "cell_type": "code",
   "execution_count": 81,
   "metadata": {},
   "outputs": [],
   "source": [
    "def total_flower_in_set():\n",
    "    train_count = 0\n",
    "    test_count =0\n",
    "    dsttest = os.path.join(original_dataset_dir,'test')\n",
    "    dsttrain = os.path.join(original_dataset_dir,'train')\n",
    "    flower_names = os.listdir(dsttest)\n",
    "    for flower_name in flower_names:\n",
    "        test_dst = os.path.join(dsttest,flower_name)\n",
    "        test_count = test_count + len(os.listdir(test_dst))\n",
    "        train_dst = os.path.join(dsttrain,flower_name)\n",
    "        train_count = train_count + len(os.listdir(train_dst))\n",
    "        print(flower_name)\n",
    "        print(test_dst)\n",
    "        print(len(os.listdir(test_dst)))\n",
    "    return train_count,test_count"
   ]
  },
  {
   "cell_type": "code",
   "execution_count": 82,
   "metadata": {},
   "outputs": [
    {
     "name": "stdout",
     "output_type": "stream",
     "text": [
      "daisy\n",
      "D://flowers\\flowers\\test\\daisy\n",
      "101\n",
      "dandelion\n",
      "D://flowers\\flowers\\test\\dandelion\n",
      "101\n",
      "rose\n",
      "D://flowers\\flowers\\test\\rose\n",
      "101\n",
      "sunflower\n",
      "D://flowers\\flowers\\test\\sunflower\n",
      "101\n",
      "tulip\n",
      "D://flowers\\flowers\\test\\tulip\n",
      "101\n"
     ]
    }
   ],
   "source": [
    "train_c,test_c=total_flower_in_set()"
   ]
  },
  {
   "cell_type": "code",
   "execution_count": 83,
   "metadata": {},
   "outputs": [
    {
     "data": {
      "text/plain": [
       "(3821, 505)"
      ]
     },
     "execution_count": 83,
     "metadata": {},
     "output_type": "execute_result"
    }
   ],
   "source": [
    "train_c,test_c"
   ]
  },
  {
   "cell_type": "code",
   "execution_count": 22,
   "metadata": {},
   "outputs": [],
   "source": [
    "# lets talk 100 each in test set and rest in training set\n",
    "#create_flower_dir()"
   ]
  },
  {
   "cell_type": "code",
   "execution_count": 23,
   "metadata": {},
   "outputs": [],
   "source": [
    "def copy_flower_per_cat():\n",
    "    for flower_name in flower_names:\n",
    "        flower_path = os.path.join(original_dataset_dir,flower_name)\n",
    "        flowerslist = os.listdir(flower_path)\n",
    "        for i,flower in enumerate(flowerslist):\n",
    "            print(flower)\n",
    "            if(i<=100):\n",
    "                #copy in test\n",
    "                src = os.path.join(original_dataset_dir,flower_name)\n",
    "                src = os.path.join(src,flower)\n",
    "                test_dst = os.path.join(original_dataset_dir,'test')\n",
    "                test_dst = os.path.join(test_dst,flower_name)\n",
    "                test_dst = os.path.join(test_dst,flower)\n",
    "                #print(test_dst)\n",
    "                shutil.copyfile(src, test_dst)\n",
    "            else:\n",
    "                #copy in train\n",
    "                src = os.path.join(original_dataset_dir,flower_name)\n",
    "                src = os.path.join(src,flower)\n",
    "                train_dst = os.path.join(original_dataset_dir,'train')\n",
    "                train_dst = os.path.join(train_dst,flower_name)\n",
    "                train_dst = os.path.join(train_dst,flower)\n",
    "                shutil.copyfile(src, train_dst)\n",
    "                \n",
    "                \n",
    "             \n",
    "            \n",
    "        \n",
    "   "
   ]
  },
  {
   "cell_type": "code",
   "execution_count": 24,
   "metadata": {},
   "outputs": [],
   "source": [
    "#copy_flower_per_cat()"
   ]
  },
  {
   "cell_type": "code",
   "execution_count": 25,
   "metadata": {},
   "outputs": [],
   "source": [
    "from keras.preprocessing.image import ImageDataGenerator\n",
    "train_datagen = ImageDataGenerator(\n",
    "        rescale=1./255,\n",
    "        shear_range=0.2,\n",
    "        zoom_range=0.2,\n",
    "        horizontal_flip=True)\n",
    "\n",
    "test_datagen = ImageDataGenerator(rescale=1./255)\n"
   ]
  },
  {
   "cell_type": "code",
   "execution_count": 26,
   "metadata": {},
   "outputs": [
    {
     "name": "stdout",
     "output_type": "stream",
     "text": [
      "Found 3818 images belonging to 5 classes.\n"
     ]
    }
   ],
   "source": [
    "train_generator = train_datagen.flow_from_directory(\n",
    "        flower_train,\n",
    "        target_size=(150, 150),\n",
    "        batch_size=500,\n",
    "        class_mode='categorical')"
   ]
  },
  {
   "cell_type": "code",
   "execution_count": 32,
   "metadata": {},
   "outputs": [
    {
     "data": {
      "text/plain": [
       "array([[0., 0.],\n",
       "       [0., 0.]])"
      ]
     },
     "execution_count": 32,
     "metadata": {},
     "output_type": "execute_result"
    }
   ],
   "source": [
    "import numpy as np\n",
    "sample_change = np.zeros(shape=(2,2))\n",
    "sample_change\n"
   ]
  },
  {
   "cell_type": "code",
   "execution_count": 28,
   "metadata": {},
   "outputs": [],
   "source": [
    "sample_change[1]=[2,4]\n",
    "sample_change[0]=[1,5]"
   ]
  },
  {
   "cell_type": "code",
   "execution_count": 29,
   "metadata": {},
   "outputs": [
    {
     "data": {
      "text/plain": [
       "array([[1., 5.],\n",
       "       [2., 4.]])"
      ]
     },
     "execution_count": 29,
     "metadata": {},
     "output_type": "execute_result"
    }
   ],
   "source": [
    "sample_change"
   ]
  },
  {
   "cell_type": "code",
   "execution_count": 30,
   "metadata": {},
   "outputs": [
    {
     "name": "stdout",
     "output_type": "stream",
     "text": [
      "(500, 150, 150, 3)\n",
      "(500, 5)\n",
      "(500, 150, 150, 3)\n",
      "(500, 5)\n"
     ]
    }
   ],
   "source": [
    "i=0\n",
    "for data,label in train_generator:\n",
    "    if i<2:\n",
    "         print(data.shape)\n",
    "         print(label.shape)\n",
    "    else:\n",
    "        break\n",
    "    i = i+1\n",
    "        "
   ]
  },
  {
   "cell_type": "code",
   "execution_count": 84,
   "metadata": {},
   "outputs": [
    {
     "data": {
      "text/plain": [
       "(3821, 505)"
      ]
     },
     "execution_count": 84,
     "metadata": {},
     "output_type": "execute_result"
    }
   ],
   "source": [
    "train_c,test_c"
   ]
  },
  {
   "cell_type": "code",
   "execution_count": 93,
   "metadata": {},
   "outputs": [],
   "source": [
    "import numpy as np\n",
    "train_data_feature = np.zeros(shape=(3821, 150, 150, 3))\n",
    "train_data_label = np.zeros(shape=(3821,5))\n",
    "test_data_feature = np.zeros(shape=(505, 150, 150, 3))\n",
    "test_data_label = np.zeros(shape=(505, 5))"
   ]
  },
  {
   "cell_type": "code",
   "execution_count": 99,
   "metadata": {},
   "outputs": [],
   "source": [
    "i=0\n",
    "batch_size=500\n",
    "for input_batch,label_batch in train_generator:\n",
    "    if ((i*batch_size) < 3821):\n",
    "        train_data_feature[i*batch_size:(i+1)*batch_size] = input_batch\n",
    "        train_data_label[i*batch_size:(i+1)*batch_size] = label_batch\n",
    "    if(len(input_batch)<batch_size):\n",
    "        size=len(input_batch)\n",
    "        train_data_feature[i*batch_size:size] = input_batch\n",
    "        train_data_label[i*batch_size:size] = label_batch\n",
    "    else:\n",
    "        break\n",
    "    i=i+1\n",
    "    "
   ]
  },
  {
   "cell_type": "code",
   "execution_count": 100,
   "metadata": {},
   "outputs": [
    {
     "data": {
      "text/plain": [
       "(array([[[0.40827894, 0.32857603, 0.00160943],\n",
       "         [0.29716432, 0.21372734, 0.01414239],\n",
       "         [0.41895887, 0.31208545, 0.00793715],\n",
       "         ...,\n",
       "         [0.59679985, 0.63192016, 0.02739165],\n",
       "         [0.5920794 , 0.62664396, 0.00895715],\n",
       "         [0.59074223, 0.62270266, 0.01100016]],\n",
       " \n",
       "        [[0.2555562 , 0.20310466, 0.01341108],\n",
       "         [0.13182573, 0.10339394, 0.0312696 ],\n",
       "         [0.27083352, 0.21186383, 0.0052064 ],\n",
       "         ...,\n",
       "         [0.63630277, 0.67188847, 0.03541632],\n",
       "         [0.61951745, 0.65149957, 0.04119094],\n",
       "         [0.60355365, 0.63651693, 0.02290446]],\n",
       " \n",
       "        [[0.11538032, 0.09405175, 0.02143819],\n",
       "         [0.06052946, 0.06135727, 0.0474686 ],\n",
       "         [0.1863907 , 0.15679474, 0.00179192],\n",
       "         ...,\n",
       "         [0.65511942, 0.68342489, 0.04205416],\n",
       "         [0.64715606, 0.68007082, 0.06799167],\n",
       "         [0.62780273, 0.65781975, 0.03910025]],\n",
       " \n",
       "        ...,\n",
       " \n",
       "        [[0.89406461, 0.88713264, 0.89308643],\n",
       "         [0.57785422, 0.46477965, 0.28166187],\n",
       "         [0.42035261, 0.40164009, 0.11861884],\n",
       "         ...,\n",
       "         [0.51381999, 0.69847423, 0.98082715],\n",
       "         [0.51045823, 0.69477195, 0.97712493],\n",
       "         [0.50437313, 0.68868685, 0.97103983]],\n",
       " \n",
       "        [[0.93652284, 0.85657322, 0.75994104],\n",
       "         [0.53554559, 0.42225149, 0.11523554],\n",
       "         [0.42837498, 0.40393999, 0.1225964 ],\n",
       "         ...,\n",
       "         [0.51110482, 0.69585353, 0.97820652],\n",
       "         [0.50783938, 0.69215316, 0.97450608],\n",
       "         [0.50312501, 0.68743879, 0.96979171]],\n",
       " \n",
       "        [[0.74980301, 0.72841066, 0.79606968],\n",
       "         [0.4746224 , 0.39768812, 0.14507633],\n",
       "         [0.41193432, 0.38930404, 0.0582765 ],\n",
       "         ...,\n",
       "         [0.50787294, 0.69455266, 0.97690558],\n",
       "         [0.5097906 , 0.68904245, 0.97320336],\n",
       "         [0.50717086, 0.68497998, 0.96613073]]]), array([0., 0., 0., 1., 0.]))"
      ]
     },
     "execution_count": 100,
     "metadata": {},
     "output_type": "execute_result"
    }
   ],
   "source": [
    "train_data_feature[4],train_data_label[4]"
   ]
  },
  {
   "cell_type": "code",
   "execution_count": 104,
   "metadata": {},
   "outputs": [
    {
     "name": "stdout",
     "output_type": "stream",
     "text": [
      "Found 505 images belonging to 5 classes.\n"
     ]
    }
   ],
   "source": [
    "validation_generator = test_datagen.flow_from_directory(\n",
    "        flower_test,\n",
    "        target_size=(150, 150),\n",
    "        batch_size=50,\n",
    "        class_mode='categorical')"
   ]
  },
  {
   "cell_type": "code",
   "execution_count": 105,
   "metadata": {},
   "outputs": [],
   "source": [
    "i=0\n",
    "batch_size=50\n",
    "for input_batch,label_batch in validation_generator:\n",
    "    if ((i*batch_size) < 3821):\n",
    "        test_data_feature[i*batch_size:(i+1)*batch_size] = input_batch\n",
    "        test_data_label[i*batch_size:(i+1)*batch_size] = label_batch\n",
    "    if(len(input_batch)<batch_size):\n",
    "        size=len(input_batch)\n",
    "        test_data_feature[i*batch_size:size] = input_batch\n",
    "        test_data_label[i*batch_size:size] = label_batch\n",
    "    else:\n",
    "        break\n",
    "    i=i+1"
   ]
  },
  {
   "cell_type": "code",
   "execution_count": 106,
   "metadata": {},
   "outputs": [
    {
     "data": {
      "text/plain": [
       "(array([[[0.7843138 , 0.78039223, 0.84313732],\n",
       "         [0.7843138 , 0.78039223, 0.84313732],\n",
       "         [0.78823537, 0.7843138 , 0.84705889],\n",
       "         ...,\n",
       "         [0.72549021, 0.72941178, 0.80784321],\n",
       "         [0.72156864, 0.72549021, 0.80392164],\n",
       "         [0.72156864, 0.72549021, 0.80392164]],\n",
       " \n",
       "        [[0.78039223, 0.77647066, 0.83921576],\n",
       "         [0.78039223, 0.77647066, 0.83921576],\n",
       "         [0.7843138 , 0.78039223, 0.84313732],\n",
       "         ...,\n",
       "         [0.72549021, 0.72941178, 0.80784321],\n",
       "         [0.72156864, 0.72549021, 0.80392164],\n",
       "         [0.72156864, 0.72549021, 0.80392164]],\n",
       " \n",
       "        [[0.77254909, 0.78039223, 0.83921576],\n",
       "         [0.77254909, 0.78039223, 0.83921576],\n",
       "         [0.77647066, 0.7843138 , 0.84313732],\n",
       "         ...,\n",
       "         [0.72549021, 0.72941178, 0.80784321],\n",
       "         [0.72549021, 0.72941178, 0.80784321],\n",
       "         [0.72156864, 0.72549021, 0.80392164]],\n",
       " \n",
       "        ...,\n",
       " \n",
       "        [[0.41176474, 0.48627454, 0.40784317],\n",
       "         [0.07058824, 0.12156864, 0.05490196],\n",
       "         [0.37647063, 0.40000004, 0.36078432],\n",
       "         ...,\n",
       "         [0.39607847, 0.33725491, 0.26274511],\n",
       "         [0.25882354, 0.18823531, 0.14117648],\n",
       "         [0.17647059, 0.23137257, 0.17254902]],\n",
       " \n",
       "        [[0.25882354, 0.27058825, 0.0627451 ],\n",
       "         [0.1254902 , 0.1137255 , 0.07843138],\n",
       "         [0.5411765 , 0.6156863 , 0.52941179],\n",
       "         ...,\n",
       "         [0.34901962, 0.34509805, 0.26666668],\n",
       "         [0.23529413, 0.21176472, 0.14901961],\n",
       "         [0.07450981, 0.09803922, 0.05882353]],\n",
       " \n",
       "        [[0.81176478, 0.61960787, 0.1137255 ],\n",
       "         [0.49411768, 0.5529412 , 0.43921572],\n",
       "         [0.6156863 , 0.63921571, 0.52941179],\n",
       "         ...,\n",
       "         [0.19215688, 0.1137255 , 0.08627451],\n",
       "         [0.22352943, 0.15686275, 0.11764707],\n",
       "         [0.16078432, 0.21568629, 0.16470589]]]), array([0., 0., 0., 1., 0.]))"
      ]
     },
     "execution_count": 106,
     "metadata": {},
     "output_type": "execute_result"
    }
   ],
   "source": [
    "test_data_feature[4],test_data_label[4]"
   ]
  },
  {
   "cell_type": "code",
   "execution_count": 111,
   "metadata": {},
   "outputs": [
    {
     "name": "stderr",
     "output_type": "stream",
     "text": [
      "c:\\python3\\lib\\site-packages\\ipykernel_launcher.py:14: UserWarning: Update your `Model` call to the Keras 2 API: `Model(inputs=Tensor(\"in..., outputs=Tensor(\"de...)`\n",
      "  \n"
     ]
    }
   ],
   "source": [
    "from keras.layers import Dense,Dropout,Conv2D,MaxPool2D,Flatten,Input\n",
    "from keras.models import Model\n",
    "\n",
    "vision= Input(shape=(150,150,3))\n",
    "conv2d_1=Conv2D(32,(3,3),activation='relu')(vision)\n",
    "maxpool1=MaxPool2D(2,2)(conv2d_1)\n",
    "conv2d_2=Conv2D(32,(3,3),activation='relu')(maxpool1)\n",
    "maxpool2=MaxPool2D(2,2)(conv2d_2)\n",
    "conv2d_3=Conv2D(32,(3,3),activation='relu')(maxpool2)\n",
    "maxpool3=MaxPool2D(2,2)(conv2d_3)\n",
    "flat=Flatten()(maxpool3)\n",
    "dense=Dense(512,activation='relu')(flat)\n",
    "output= Dense(5,activation='softmax')(dense)\n",
    "model_func = Model(input=vision,output=output)\n",
    "model_func.compile(loss='categorical_crossentropy',optimizer='rmsprop',metrics=['acc'])\n",
    "\n"
   ]
  },
  {
   "cell_type": "code",
   "execution_count": 112,
   "metadata": {},
   "outputs": [
    {
     "name": "stdout",
     "output_type": "stream",
     "text": [
      "_________________________________________________________________\n",
      "Layer (type)                 Output Shape              Param #   \n",
      "=================================================================\n",
      "input_3 (InputLayer)         (None, 150, 150, 3)       0         \n",
      "_________________________________________________________________\n",
      "conv2d_7 (Conv2D)            (None, 148, 148, 32)      896       \n",
      "_________________________________________________________________\n",
      "max_pooling2d_7 (MaxPooling2 (None, 74, 74, 32)        0         \n",
      "_________________________________________________________________\n",
      "conv2d_8 (Conv2D)            (None, 72, 72, 32)        9248      \n",
      "_________________________________________________________________\n",
      "max_pooling2d_8 (MaxPooling2 (None, 36, 36, 32)        0         \n",
      "_________________________________________________________________\n",
      "conv2d_9 (Conv2D)            (None, 34, 34, 32)        9248      \n",
      "_________________________________________________________________\n",
      "max_pooling2d_9 (MaxPooling2 (None, 17, 17, 32)        0         \n",
      "_________________________________________________________________\n",
      "flatten_3 (Flatten)          (None, 9248)              0         \n",
      "_________________________________________________________________\n",
      "dense_5 (Dense)              (None, 512)               4735488   \n",
      "_________________________________________________________________\n",
      "dense_6 (Dense)              (None, 5)                 2565      \n",
      "=================================================================\n",
      "Total params: 4,757,445\n",
      "Trainable params: 4,757,445\n",
      "Non-trainable params: 0\n",
      "_________________________________________________________________\n"
     ]
    }
   ],
   "source": [
    "model_func.summary()"
   ]
  },
  {
   "cell_type": "code",
   "execution_count": 113,
   "metadata": {},
   "outputs": [
    {
     "name": "stderr",
     "output_type": "stream",
     "text": [
      "W0814 10:43:55.386344  5480 deprecation.py:323] From c:\\python3\\lib\\site-packages\\tensorflow\\python\\ops\\math_grad.py:1250: add_dispatch_support.<locals>.wrapper (from tensorflow.python.ops.array_ops) is deprecated and will be removed in a future version.\n",
      "Instructions for updating:\n",
      "Use tf.where in 2.0, which has the same broadcast rule as np.where\n",
      "W0814 10:43:55.547546  5480 deprecation_wrapper.py:119] From c:\\python3\\lib\\site-packages\\keras\\backend\\tensorflow_backend.py:986: The name tf.assign_add is deprecated. Please use tf.compat.v1.assign_add instead.\n",
      "\n"
     ]
    },
    {
     "name": "stdout",
     "output_type": "stream",
     "text": [
      "Train on 3821 samples, validate on 505 samples\n",
      "Epoch 1/12\n",
      "3821/3821 [==============================] - 64s 17ms/step - loss: 0.2130 - acc: 0.1955 - val_loss: 0.1339 - val_acc: 0.0455\n",
      "Epoch 2/12\n",
      "3821/3821 [==============================] - 65s 17ms/step - loss: 0.1795 - acc: 0.2319 - val_loss: 0.1404 - val_acc: 0.9584\n",
      "Epoch 3/12\n",
      "3821/3821 [==============================] - 72s 19ms/step - loss: 0.1398 - acc: 0.3156 - val_loss: 0.1153 - val_acc: 0.0515\n",
      "Epoch 4/12\n",
      "3821/3821 [==============================] - 68s 18ms/step - loss: 0.1119 - acc: 0.1175 - val_loss: 0.1115 - val_acc: 0.0535\n",
      "Epoch 5/12\n",
      "3821/3821 [==============================] - 75s 20ms/step - loss: 0.0690 - acc: 0.1065 - val_loss: 0.2037 - val_acc: 0.0535\n",
      "Epoch 6/12\n",
      "3821/3821 [==============================] - 68s 18ms/step - loss: 0.0376 - acc: 0.1183 - val_loss: 0.2326 - val_acc: 0.0495\n",
      "Epoch 7/12\n",
      "3821/3821 [==============================] - 73s 19ms/step - loss: 0.0279 - acc: 0.1222 - val_loss: 0.2989 - val_acc: 0.0554\n",
      "Epoch 8/12\n",
      "3821/3821 [==============================] - 67s 18ms/step - loss: 0.0168 - acc: 0.1361 - val_loss: 0.2969 - val_acc: 0.0475\n",
      "Epoch 9/12\n",
      "3821/3821 [==============================] - 66s 17ms/step - loss: 0.0172 - acc: 0.2625 - val_loss: 0.3315 - val_acc: 0.0475\n",
      "Epoch 10/12\n",
      "3821/3821 [==============================] - 73s 19ms/step - loss: 0.0109 - acc: 0.1403 - val_loss: 0.6081 - val_acc: 0.0337\n",
      "Epoch 11/12\n",
      "3821/3821 [==============================] - 71s 19ms/step - loss: 0.0142 - acc: 0.1282 - val_loss: 0.3780 - val_acc: 0.0495\n",
      "Epoch 12/12\n",
      "3821/3821 [==============================] - 69s 18ms/step - loss: 0.0297 - acc: 0.1398 - val_loss: 0.5731 - val_acc: 0.0436\n"
     ]
    },
    {
     "data": {
      "text/plain": [
       "<keras.callbacks.History at 0x21573208>"
      ]
     },
     "execution_count": 113,
     "metadata": {},
     "output_type": "execute_result"
    }
   ],
   "source": [
    "\n",
    "model_func.fit(train_data_feature,train_data_label,batch_size=50,epochs=12,validation_data=(test_data_feature,test_data_label))"
   ]
  },
  {
   "cell_type": "code",
   "execution_count": 114,
   "metadata": {},
   "outputs": [
    {
     "name": "stdout",
     "output_type": "stream",
     "text": [
      "505/505 [==============================] - 2s 5ms/step\n"
     ]
    }
   ],
   "source": [
    "score = model_func.evaluate(test_data_feature,test_data_label)"
   ]
  },
  {
   "cell_type": "code",
   "execution_count": 115,
   "metadata": {},
   "outputs": [
    {
     "name": "stdout",
     "output_type": "stream",
     "text": [
      "loss: 0.5730922283512531 accuracy :  0.04356435643564356\n"
     ]
    }
   ],
   "source": [
    "print('loss:' , score[0], 'accuracy : ',score[1])"
   ]
  },
  {
   "cell_type": "markdown",
   "metadata": {},
   "source": [
    "4% accuracy is horrible lets try new more complicated model"
   ]
  },
  {
   "cell_type": "code",
   "execution_count": 116,
   "metadata": {},
   "outputs": [
    {
     "name": "stderr",
     "output_type": "stream",
     "text": [
      "W0814 11:03:24.091115  5480 deprecation.py:506] From c:\\python3\\lib\\site-packages\\keras\\backend\\tensorflow_backend.py:3445: calling dropout (from tensorflow.python.ops.nn_ops) with keep_prob is deprecated and will be removed in a future version.\n",
      "Instructions for updating:\n",
      "Please use `rate` instead of `keep_prob`. Rate should be set to `rate = 1 - keep_prob`.\n"
     ]
    },
    {
     "name": "stdout",
     "output_type": "stream",
     "text": [
      "_________________________________________________________________\n",
      "Layer (type)                 Output Shape              Param #   \n",
      "=================================================================\n",
      "input_4 (InputLayer)         (None, 150, 150, 3)       0         \n",
      "_________________________________________________________________\n",
      "conv2d_10 (Conv2D)           (None, 150, 150, 32)      896       \n",
      "_________________________________________________________________\n",
      "conv2d_11 (Conv2D)           (None, 150, 150, 32)      9248      \n",
      "_________________________________________________________________\n",
      "max_pooling2d_10 (MaxPooling (None, 75, 75, 32)        0         \n",
      "_________________________________________________________________\n",
      "dropout_1 (Dropout)          (None, 75, 75, 32)        0         \n",
      "_________________________________________________________________\n",
      "conv2d_12 (Conv2D)           (None, 75, 75, 32)        9248      \n",
      "_________________________________________________________________\n",
      "conv2d_13 (Conv2D)           (None, 75, 75, 32)        9248      \n",
      "_________________________________________________________________\n",
      "max_pooling2d_11 (MaxPooling (None, 37, 37, 32)        0         \n",
      "_________________________________________________________________\n",
      "dropout_2 (Dropout)          (None, 37, 37, 32)        0         \n",
      "_________________________________________________________________\n",
      "flatten_4 (Flatten)          (None, 43808)             0         \n",
      "_________________________________________________________________\n",
      "dense_7 (Dense)              (None, 512)               22430208  \n",
      "_________________________________________________________________\n",
      "dropout_3 (Dropout)          (None, 512)               0         \n",
      "_________________________________________________________________\n",
      "dense_8 (Dense)              (None, 5)                 2565      \n",
      "=================================================================\n",
      "Total params: 22,461,413\n",
      "Trainable params: 22,461,413\n",
      "Non-trainable params: 0\n",
      "_________________________________________________________________\n",
      "None\n"
     ]
    },
    {
     "name": "stderr",
     "output_type": "stream",
     "text": [
      "c:\\python3\\lib\\site-packages\\ipykernel_launcher.py:16: UserWarning: Update your `Model` call to the Keras 2 API: `Model(inputs=Tensor(\"in..., outputs=Tensor(\"de...)`\n",
      "  app.launch_new_instance()\n"
     ]
    }
   ],
   "source": [
    "visible= Input(shape=(150,150,3))\n",
    "conv2d_1 = Conv2D(32,(3,3),activation='relu',padding='same')(visible)\n",
    "conv2d_2 = Conv2D(32,(3,3),activation='relu',padding='same')(conv2d_1)\n",
    "pool1= MaxPool2D(pool_size=(2,2))(conv2d_2)\n",
    "dropout1=Dropout(0.5)(pool1)\n",
    "\n",
    "conv2d_3 = Conv2D(32,(3,3),activation='relu',padding='same')(dropout1)\n",
    "conv2d_4 = Conv2D(32,(3,3),activation='relu',padding='same')(conv2d_3)\n",
    "pool2= MaxPool2D(pool_size=(2,2))(conv2d_4)\n",
    "dropout2=Dropout(0.5)(pool2)\n",
    "\n",
    "flat=Flatten()(dropout2)\n",
    "dense= Dense(512,activation='relu')(flat)\n",
    "dropout3=Dropout(0.5)(dense)\n",
    "output = Dense(5,activation='softmax')(dropout3)\n",
    "model = Model(input=visible,output=output)\n",
    "print(model.summary())"
   ]
  },
  {
   "cell_type": "code",
   "execution_count": 117,
   "metadata": {},
   "outputs": [
    {
     "name": "stdout",
     "output_type": "stream",
     "text": [
      "Train on 3821 samples, validate on 505 samples\n",
      "Epoch 1/12\n",
      "3821/3821 [==============================] - 206s 54ms/step - loss: 1.7433 - acc: 0.0348 - val_loss: 1.2733 - val_acc: 0.0198\n",
      "Epoch 2/12\n",
      "3821/3821 [==============================] - 222s 58ms/step - loss: 1.7464 - acc: 0.0225 - val_loss: 1.2741 - val_acc: 0.0198\n",
      "Epoch 3/12\n",
      "3821/3821 [==============================] - 214s 56ms/step - loss: 1.7464 - acc: 0.0225 - val_loss: 1.2741 - val_acc: 0.0198\n",
      "Epoch 4/12\n",
      "3821/3821 [==============================] - 211s 55ms/step - loss: 1.7464 - acc: 0.0225 - val_loss: 1.2741 - val_acc: 0.0198\n",
      "Epoch 5/12\n",
      "3821/3821 [==============================] - 213s 56ms/step - loss: 1.2999 - acc: 0.1717 - val_loss: 0.1583 - val_acc: 0.9307\n",
      "Epoch 6/12\n",
      "3821/3821 [==============================] - 215s 56ms/step - loss: 0.2058 - acc: 0.2978 - val_loss: 0.1418 - val_acc: 0.0297\n",
      "Epoch 7/12\n",
      "3821/3821 [==============================] - 205s 54ms/step - loss: 0.1907 - acc: 0.1662 - val_loss: 0.1379 - val_acc: 0.0376\n",
      "Epoch 8/12\n",
      "3821/3821 [==============================] - 213s 56ms/step - loss: 0.1780 - acc: 0.6171 - val_loss: 0.1185 - val_acc: 0.9446\n",
      "Epoch 9/12\n",
      "3821/3821 [==============================] - 228s 60ms/step - loss: 0.1756 - acc: 0.6770 - val_loss: 0.1184 - val_acc: 0.0396\n",
      "Epoch 10/12\n",
      "3821/3821 [==============================] - 219s 57ms/step - loss: 0.1578 - acc: 0.5198 - val_loss: 0.1281 - val_acc: 0.9604\n",
      "Epoch 11/12\n",
      "3821/3821 [==============================] - 208s 54ms/step - loss: 0.1436 - acc: 0.3716 - val_loss: 0.1223 - val_acc: 0.0515\n",
      "Epoch 12/12\n",
      "3821/3821 [==============================] - 217s 57ms/step - loss: 0.1199 - acc: 0.1348 - val_loss: 0.1230 - val_acc: 0.0574\n"
     ]
    },
    {
     "data": {
      "text/plain": [
       "<keras.callbacks.History at 0x21b2a888>"
      ]
     },
     "execution_count": 117,
     "metadata": {},
     "output_type": "execute_result"
    }
   ],
   "source": [
    "model.compile(loss='categorical_crossentropy',optimizer='rmsprop',metrics=['acc'])\n",
    "model.fit(train_data_feature,train_data_label,batch_size=50,epochs=12,validation_data=(test_data_feature,test_data_label))"
   ]
  },
  {
   "cell_type": "code",
   "execution_count": 118,
   "metadata": {},
   "outputs": [
    {
     "name": "stdout",
     "output_type": "stream",
     "text": [
      "505/505 [==============================] - 2s 5ms/step\n",
      "loss: 0.5730922283512531 accuracy :  0.04356435643564356\n"
     ]
    }
   ],
   "source": [
    "score = model_func.evaluate(test_data_feature,test_data_label)\n",
    "print('loss:' , score[0], 'accuracy : ',score[1])"
   ]
  },
  {
   "cell_type": "code",
   "execution_count": 117,
   "metadata": {},
   "outputs": [],
   "source": [
    "from keras.layers import Dense,Dropout,Conv2D,MaxPool2D,Flatten,Input\n",
    "from keras.models import Model"
   ]
  },
  {
   "cell_type": "code",
   "execution_count": 119,
   "metadata": {},
   "outputs": [],
   "source": [
    "from keras.models import Sequential"
   ]
  },
  {
   "cell_type": "code",
   "execution_count": 120,
   "metadata": {},
   "outputs": [
    {
     "name": "stdout",
     "output_type": "stream",
     "text": [
      "_________________________________________________________________\n",
      "Layer (type)                 Output Shape              Param #   \n",
      "=================================================================\n",
      "conv2d_14 (Conv2D)           (None, 148, 148, 32)      896       \n",
      "_________________________________________________________________\n",
      "max_pooling2d_12 (MaxPooling (None, 74, 74, 32)        0         \n",
      "_________________________________________________________________\n",
      "conv2d_15 (Conv2D)           (None, 72, 72, 64)        18496     \n",
      "_________________________________________________________________\n",
      "max_pooling2d_13 (MaxPooling (None, 36, 36, 64)        0         \n",
      "_________________________________________________________________\n",
      "conv2d_16 (Conv2D)           (None, 34, 34, 64)        36928     \n",
      "_________________________________________________________________\n",
      "max_pooling2d_14 (MaxPooling (None, 17, 17, 64)        0         \n",
      "_________________________________________________________________\n",
      "flatten_5 (Flatten)          (None, 18496)             0         \n",
      "_________________________________________________________________\n",
      "dense_9 (Dense)              (None, 512)               9470464   \n",
      "_________________________________________________________________\n",
      "dense_10 (Dense)             (None, 5)                 2565      \n",
      "=================================================================\n",
      "Total params: 9,529,349\n",
      "Trainable params: 9,529,349\n",
      "Non-trainable params: 0\n",
      "_________________________________________________________________\n"
     ]
    }
   ],
   "source": [
    "model = Sequential()\n",
    "model.add(Conv2D(32,(3,3),activation='relu',input_shape=(150,150,3)))\n",
    "model.add(MaxPool2D(2,2))\n",
    "model.add(Conv2D(64,(3,3),activation='relu'))\n",
    "model.add(MaxPool2D(2,2))\n",
    "model.add(Conv2D(64,(3,3),activation='relu'))\n",
    "model.add(MaxPool2D(2,2))\n",
    "model.add(Flatten())\n",
    "model.add(Dense(512,activation='relu'))\n",
    "model.add(Dense(5,activation='softmax'))\n",
    "model.summary()\n",
    "        \n"
   ]
  },
  {
   "cell_type": "code",
   "execution_count": 121,
   "metadata": {},
   "outputs": [],
   "source": [
    "model.compile(loss='categorical_crossentropy',optimizer='rmsprop',metrics=['acc'])"
   ]
  },
  {
   "cell_type": "code",
   "execution_count": null,
   "metadata": {},
   "outputs": [],
   "source": []
  },
  {
   "cell_type": "code",
   "execution_count": 123,
   "metadata": {},
   "outputs": [
    {
     "name": "stdout",
     "output_type": "stream",
     "text": [
      "Epoch 1/20\n",
      "10/10 [==============================] - 151s 15s/step - loss: 1.0887 - acc: 0.5653 - val_loss: 1.0838 - val_acc: 0.5853\n",
      "Epoch 2/20\n",
      "10/10 [==============================] - 136s 14s/step - loss: 1.0784 - acc: 0.5791 - val_loss: 1.1039 - val_acc: 0.5789\n",
      "Epoch 3/20\n",
      "10/10 [==============================] - 140s 14s/step - loss: 1.0336 - acc: 0.6006 - val_loss: 1.0476 - val_acc: 0.6129\n",
      "Epoch 4/20\n",
      "10/10 [==============================] - 132s 13s/step - loss: 0.9766 - acc: 0.6100 - val_loss: 1.2758 - val_acc: 0.5389\n",
      "Epoch 5/20\n",
      "10/10 [==============================] - 141s 14s/step - loss: 0.9399 - acc: 0.6301 - val_loss: 1.1195 - val_acc: 0.5763\n",
      "Epoch 6/20\n",
      "10/10 [==============================] - 157s 16s/step - loss: 0.9569 - acc: 0.6291 - val_loss: 1.0850 - val_acc: 0.6101\n",
      "Epoch 7/20\n",
      "10/10 [==============================] - 143s 14s/step - loss: 0.9821 - acc: 0.6260 - val_loss: 1.1865 - val_acc: 0.5332\n",
      "Epoch 8/20\n",
      "10/10 [==============================] - 132s 13s/step - loss: 0.8744 - acc: 0.6639 - val_loss: 0.9145 - val_acc: 0.6527\n",
      "Epoch 9/20\n",
      "10/10 [==============================] - 145s 15s/step - loss: 0.8236 - acc: 0.6791 - val_loss: 1.0542 - val_acc: 0.5793\n",
      "Epoch 10/20\n",
      "10/10 [==============================] - 143s 14s/step - loss: 0.8384 - acc: 0.6723 - val_loss: 1.0324 - val_acc: 0.6289\n",
      "Epoch 11/20\n",
      "10/10 [==============================] - 142s 14s/step - loss: 0.7732 - acc: 0.7020 - val_loss: 1.0860 - val_acc: 0.6022\n",
      "Epoch 12/20\n",
      "10/10 [==============================] - 142s 14s/step - loss: 0.8077 - acc: 0.6881 - val_loss: 0.9220 - val_acc: 0.6724\n",
      "Epoch 13/20\n",
      "10/10 [==============================] - 147s 15s/step - loss: 0.7503 - acc: 0.7185 - val_loss: 0.9588 - val_acc: 0.6444\n",
      "Epoch 14/20\n",
      "10/10 [==============================] - 141s 14s/step - loss: 0.6919 - acc: 0.7302 - val_loss: 1.0113 - val_acc: 0.6293\n",
      "Epoch 15/20\n",
      "10/10 [==============================] - 135s 13s/step - loss: 0.7251 - acc: 0.7192 - val_loss: 0.8984 - val_acc: 0.6747\n",
      "Epoch 16/20\n",
      "10/10 [==============================] - 132s 13s/step - loss: 0.6598 - acc: 0.7430 - val_loss: 1.0390 - val_acc: 0.6638\n",
      "Epoch 17/20\n",
      "10/10 [==============================] - 135s 14s/step - loss: 0.6875 - acc: 0.7392 - val_loss: 0.9756 - val_acc: 0.6611\n",
      "Epoch 18/20\n",
      "10/10 [==============================] - 137s 14s/step - loss: 0.6742 - acc: 0.7425 - val_loss: 0.9539 - val_acc: 0.6772\n",
      "Epoch 19/20\n",
      "10/10 [==============================] - 142s 14s/step - loss: 0.5495 - acc: 0.7908 - val_loss: 1.1823 - val_acc: 0.5767\n",
      "Epoch 20/20\n",
      "10/10 [==============================] - 134s 13s/step - loss: 0.6359 - acc: 0.7560 - val_loss: 0.9169 - val_acc: 0.6690\n"
     ]
    }
   ],
   "source": [
    "history=model.fit_generator(train_generator,steps_per_epoch=10,epochs=20,validation_data=validation_generator,validation_steps=50)"
   ]
  },
  {
   "cell_type": "code",
   "execution_count": 126,
   "metadata": {},
   "outputs": [
    {
     "data": {
      "image/png": "[encoded data removed]",
      "text/plain": [
       "<Figure size 432x288 with 1 Axes>"
      ]
     },
     "metadata": {
      "needs_background": "light"
     },
     "output_type": "display_data"
    }
   ],
   "source": [
    "import matplotlib.pyplot as plt\n",
    "acc = history.history['acc']\n",
    "val_acc = history.history['val_acc']\n",
    "loss = history.history['loss']\n",
    "val_loss = history.history['val_loss']\n",
    "epochs = range(1, len(acc) + 1)\n",
    "plt.plot(epochs, acc, 'bo', label='Training acc')\n",
    "plt.plot(epochs, val_acc, 'b', label='Validation acc')\n",
    "plt.title('Training and validation accuracy')\n",
    "plt.legend()\n",
    "plt.show()"
   ]
  },
  {
   "cell_type": "code",
   "execution_count": 127,
   "metadata": {},
   "outputs": [
    {
     "name": "stdout",
     "output_type": "stream",
     "text": [
      "505/505 [==============================] - 3s 6ms/step\n",
      "loss: 0.0816497783849735 accuracy :  0.06930693069306931\n"
     ]
    }
   ],
   "source": [
    "score = model.evaluate(test_data_feature,test_data_label)\n",
    "print('loss:' , score[0], 'accuracy : ',score[1])"
   ]
  },
  {
   "cell_type": "markdown",
   "metadata": {},
   "source": [
    "#### try with VGG16"
   ]
  },
  {
   "cell_type": "code",
   "execution_count": 128,
   "metadata": {},
   "outputs": [],
   "source": [
    "from keras.applications import VGG16"
   ]
  },
  {
   "cell_type": "code",
   "execution_count": 129,
   "metadata": {},
   "outputs": [],
   "source": [
    "conv_base = VGG16(weights='imagenet',include_top=False,input_shape=(150, 150, 3))"
   ]
  },
  {
   "cell_type": "code",
   "execution_count": 130,
   "metadata": {},
   "outputs": [
    {
     "ename": "ValueError",
     "evalue": "could not broadcast input array from shape (500,4,4,512) into shape (500,150,150,3)",
     "output_type": "error",
     "traceback": [
      "\u001b[1;31m---------------------------------------------------------------------------\u001b[0m",
      "\u001b[1;31mValueError\u001b[0m                                Traceback (most recent call last)",
      "\u001b[1;32m<ipython-input-130-e3239d20852a>\u001b[0m in \u001b[0;36m<module>\u001b[1;34m\u001b[0m\n\u001b[0;32m      4\u001b[0m     \u001b[1;32mif\u001b[0m \u001b[1;33m(\u001b[0m\u001b[1;33m(\u001b[0m\u001b[0mi\u001b[0m\u001b[1;33m*\u001b[0m\u001b[0mbatch_size\u001b[0m\u001b[1;33m)\u001b[0m \u001b[1;33m<\u001b[0m \u001b[1;36m3821\u001b[0m\u001b[1;33m)\u001b[0m\u001b[1;33m:\u001b[0m\u001b[1;33m\u001b[0m\u001b[1;33m\u001b[0m\u001b[0m\n\u001b[0;32m      5\u001b[0m         \u001b[0mfeature_batch\u001b[0m \u001b[1;33m=\u001b[0m \u001b[0mconv_base\u001b[0m\u001b[1;33m.\u001b[0m\u001b[0mpredict\u001b[0m\u001b[1;33m(\u001b[0m\u001b[0minput_batch\u001b[0m\u001b[1;33m)\u001b[0m\u001b[1;33m\u001b[0m\u001b[1;33m\u001b[0m\u001b[0m\n\u001b[1;32m----> 6\u001b[1;33m         \u001b[0mtrain_data_feature\u001b[0m\u001b[1;33m[\u001b[0m\u001b[0mi\u001b[0m\u001b[1;33m*\u001b[0m\u001b[0mbatch_size\u001b[0m\u001b[1;33m:\u001b[0m\u001b[1;33m(\u001b[0m\u001b[0mi\u001b[0m\u001b[1;33m+\u001b[0m\u001b[1;36m1\u001b[0m\u001b[1;33m)\u001b[0m\u001b[1;33m*\u001b[0m\u001b[0mbatch_size\u001b[0m\u001b[1;33m]\u001b[0m \u001b[1;33m=\u001b[0m \u001b[0mfeature_batch\u001b[0m\u001b[1;33m\u001b[0m\u001b[1;33m\u001b[0m\u001b[0m\n\u001b[0m\u001b[0;32m      7\u001b[0m         \u001b[0mtrain_data_label\u001b[0m\u001b[1;33m[\u001b[0m\u001b[0mi\u001b[0m\u001b[1;33m*\u001b[0m\u001b[0mbatch_size\u001b[0m\u001b[1;33m:\u001b[0m\u001b[1;33m(\u001b[0m\u001b[0mi\u001b[0m\u001b[1;33m+\u001b[0m\u001b[1;36m1\u001b[0m\u001b[1;33m)\u001b[0m\u001b[1;33m*\u001b[0m\u001b[0mbatch_size\u001b[0m\u001b[1;33m]\u001b[0m \u001b[1;33m=\u001b[0m \u001b[0mlabel_batch\u001b[0m\u001b[1;33m\u001b[0m\u001b[1;33m\u001b[0m\u001b[0m\n\u001b[0;32m      8\u001b[0m     \u001b[1;32mif\u001b[0m\u001b[1;33m(\u001b[0m\u001b[0mlen\u001b[0m\u001b[1;33m(\u001b[0m\u001b[0minput_batch\u001b[0m\u001b[1;33m)\u001b[0m\u001b[1;33m<\u001b[0m\u001b[0mbatch_size\u001b[0m\u001b[1;33m)\u001b[0m\u001b[1;33m:\u001b[0m\u001b[1;33m\u001b[0m\u001b[1;33m\u001b[0m\u001b[0m\n",
      "\u001b[1;31mValueError\u001b[0m: could not broadcast input array from shape (500,4,4,512) into shape (500,150,150,3)"
     ]
    }
   ],
   "source": [
    "i=0\n",
    "batch_size=500\n",
    "for input_batch,label_batch in train_generator:\n",
    "    if ((i*batch_size) < 3821):\n",
    "        feature_batch = conv_base.predict(input_batch)\n",
    "        train_data_feature[i*batch_size:(i+1)*batch_size] = feature_batch\n",
    "        train_data_label[i*batch_size:(i+1)*batch_size] = label_batch\n",
    "    if(len(input_batch)<batch_size):\n",
    "        size=len(input_batch)\n",
    "        feature_batch = conv_base.predict(input_batch)\n",
    "        train_data_feature[i*batch_size:size] = feature_batch\n",
    "        train_data_label[i*batch_size:size] = label_batch\n",
    "    else:\n",
    "        break\n",
    "    i=i+1\n",
    "    "
   ]
  },
  {
   "cell_type": "code",
   "execution_count": null,
   "metadata": {},
   "outputs": [],
   "source": [
    "i=0\n",
    "batch_size=50\n",
    "for input_batch,label_batch in validation_generator:\n",
    "    if ((i*batch_size) < 3821):\n",
    "        feature_batch = conv_base.predict(input_batch)\n",
    "        test_data_feature[i*batch_size:(i+1)*batch_size] = feature_batch\n",
    "        test_data_label[i*batch_size:(i+1)*batch_size] = label_batch\n",
    "    if(len(input_batch)<batch_size):\n",
    "        feature_batch = conv_base.predict(input_batch)\n",
    "        size=len(input_batch)\n",
    "        test_data_feature[i*batch_size:size] = feature_batch\n",
    "        test_data_label[i*batch_size:size] = label_batch\n",
    "    else:\n",
    "        break\n",
    "    i=i+1"
   ]
  },
  {
   "cell_type": "code",
   "execution_count": 131,
   "metadata": {},
   "outputs": [
    {
     "name": "stdout",
     "output_type": "stream",
     "text": [
      "_________________________________________________________________\n",
      "Layer (type)                 Output Shape              Param #   \n",
      "=================================================================\n",
      "input_6 (InputLayer)         (None, 150, 150, 3)       0         \n",
      "_________________________________________________________________\n",
      "conv2d_17 (Conv2D)           (None, 150, 150, 32)      896       \n",
      "_________________________________________________________________\n",
      "conv2d_18 (Conv2D)           (None, 150, 150, 32)      9248      \n",
      "_________________________________________________________________\n",
      "max_pooling2d_15 (MaxPooling (None, 75, 75, 32)        0         \n",
      "_________________________________________________________________\n",
      "dropout_4 (Dropout)          (None, 75, 75, 32)        0         \n",
      "_________________________________________________________________\n",
      "conv2d_19 (Conv2D)           (None, 75, 75, 32)        9248      \n",
      "_________________________________________________________________\n",
      "conv2d_20 (Conv2D)           (None, 75, 75, 32)        9248      \n",
      "_________________________________________________________________\n",
      "max_pooling2d_16 (MaxPooling (None, 37, 37, 32)        0         \n",
      "_________________________________________________________________\n",
      "dropout_5 (Dropout)          (None, 37, 37, 32)        0         \n",
      "_________________________________________________________________\n",
      "flatten_6 (Flatten)          (None, 43808)             0         \n",
      "_________________________________________________________________\n",
      "dense_11 (Dense)             (None, 512)               22430208  \n",
      "_________________________________________________________________\n",
      "dropout_6 (Dropout)          (None, 512)               0         \n",
      "_________________________________________________________________\n",
      "dense_12 (Dense)             (None, 5)                 2565      \n",
      "=================================================================\n",
      "Total params: 22,461,413\n",
      "Trainable params: 22,461,413\n",
      "Non-trainable params: 0\n",
      "_________________________________________________________________\n",
      "None\n"
     ]
    },
    {
     "name": "stderr",
     "output_type": "stream",
     "text": [
      "c:\\python3\\lib\\site-packages\\ipykernel_launcher.py:16: UserWarning: Update your `Model` call to the Keras 2 API: `Model(inputs=Tensor(\"in..., outputs=Tensor(\"de...)`\n",
      "  app.launch_new_instance()\n"
     ]
    }
   ],
   "source": [
    "visible= Input(shape=(150,150,3))\n",
    "conv2d_1 = Conv2D(32,(3,3),activation='relu',padding='same')(visible)\n",
    "conv2d_2 = Conv2D(32,(3,3),activation='relu',padding='same')(conv2d_1)\n",
    "pool1= MaxPool2D(pool_size=(2,2))(conv2d_2)\n",
    "dropout1=Dropout(0.5)(pool1)\n",
    "\n",
    "conv2d_3 = Conv2D(32,(3,3),activation='relu',padding='same')(dropout1)\n",
    "conv2d_4 = Conv2D(32,(3,3),activation='relu',padding='same')(conv2d_3)\n",
    "pool2= MaxPool2D(pool_size=(2,2))(conv2d_4)\n",
    "dropout2=Dropout(0.5)(pool2)\n",
    "\n",
    "flat=Flatten()(dropout2)\n",
    "dense= Dense(512,activation='relu')(flat)\n",
    "dropout3=Dropout(0.5)(dense)\n",
    "output = Dense(5,activation='softmax')(dropout3)\n",
    "model = Model(input=visible,output=output)\n",
    "print(model.summary())"
   ]
  },
  {
   "cell_type": "code",
   "execution_count": 132,
   "metadata": {},
   "outputs": [
    {
     "name": "stdout",
     "output_type": "stream",
     "text": [
      "Train on 3821 samples, validate on 505 samples\n",
      "Epoch 1/12\n",
      "3821/3821 [==============================] - 228s 60ms/step - loss: 0.2374 - acc: 0.2620 - val_loss: 0.1535 - val_acc: 0.0317\n",
      "Epoch 2/12\n",
      "3821/3821 [==============================] - 241s 63ms/step - loss: 0.1949 - acc: 0.0803 - val_loss: 0.1411 - val_acc: 0.0356\n",
      "Epoch 3/12\n",
      "3821/3821 [==============================] - 234s 61ms/step - loss: 0.1783 - acc: 0.1856 - val_loss: 0.1266 - val_acc: 0.0317\n",
      "Epoch 4/12\n",
      "3821/3821 [==============================] - 225s 59ms/step - loss: 0.1748 - acc: 0.2748 - val_loss: 0.1376 - val_acc: 0.9406\n",
      "Epoch 5/12\n",
      "3821/3821 [==============================] - 216s 56ms/step - loss: 0.1579 - acc: 0.6880 - val_loss: 0.1243 - val_acc: 0.9446\n",
      "Epoch 6/12\n",
      "3821/3821 [==============================] - 210s 55ms/step - loss: 0.1548 - acc: 0.7864 - val_loss: 0.1413 - val_acc: 0.0356\n",
      "Epoch 7/12\n",
      "3821/3821 [==============================] - 211s 55ms/step - loss: 0.1448 - acc: 0.7867 - val_loss: 0.0974 - val_acc: 0.9485\n",
      "Epoch 8/12\n",
      "3821/3821 [==============================] - 220s 58ms/step - loss: 0.1272 - acc: 0.6443 - val_loss: 0.1044 - val_acc: 0.0535\n",
      "Epoch 9/12\n",
      "3821/3821 [==============================] - 210s 55ms/step - loss: 0.1135 - acc: 0.3549 - val_loss: 0.1090 - val_acc: 0.0495\n",
      "Epoch 10/12\n",
      "3821/3821 [==============================] - 216s 56ms/step - loss: 0.1010 - acc: 0.1073 - val_loss: 0.1192 - val_acc: 0.0515\n",
      "Epoch 11/12\n",
      "3821/3821 [==============================] - 253s 66ms/step - loss: 0.0796 - acc: 0.1180 - val_loss: 0.0878 - val_acc: 0.0634\n",
      "Epoch 12/12\n",
      "3821/3821 [==============================] - 213s 56ms/step - loss: 0.0656 - acc: 0.1152 - val_loss: 0.1001 - val_acc: 0.0614\n"
     ]
    },
    {
     "data": {
      "text/plain": [
       "<keras.callbacks.History at 0x235bbd88>"
      ]
     },
     "execution_count": 132,
     "metadata": {},
     "output_type": "execute_result"
    }
   ],
   "source": [
    "model.compile(loss='categorical_crossentropy',optimizer='rmsprop',metrics=['acc'])\n",
    "model.fit(train_data_feature,train_data_label,batch_size=50,epochs=12,validation_data=(test_data_feature,test_data_label))"
   ]
  },
  {
   "cell_type": "code",
   "execution_count": 133,
   "metadata": {},
   "outputs": [
    {
     "name": "stdout",
     "output_type": "stream",
     "text": [
      "505/505 [==============================] - 5s 11ms/step\n",
      "loss: 0.100077751839515 accuracy :  0.061386138613861385\n"
     ]
    }
   ],
   "source": [
    "score = model.evaluate(test_data_feature,test_data_label)\n",
    "print('loss:' , score[0], 'accuracy : ',score[1])"
   ]
  },
  {
   "cell_type": "code",
   "execution_count": null,
   "metadata": {},
   "outputs": [],
   "source": []
  }
 ],
 "metadata": {
  "kernelspec": {
   "display_name": "Python 3",
   "language": "python",
   "name": "python3"
  },
  "language_info": {
   "codemirror_mode": {
    "name": "ipython",
    "version": 3
   },
   "file_extension": ".py",
   "mimetype": "text/x-python",
   "name": "python",
   "nbconvert_exporter": "python",
   "pygments_lexer": "ipython3",
   "version": "3.7.4"
  }
 },
 "nbformat": 4,
 "nbformat_minor": 2
}
