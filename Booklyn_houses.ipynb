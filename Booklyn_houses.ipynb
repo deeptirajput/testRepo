{
 "cells": [
  {
   "cell_type": "code",
   "execution_count": 44,
   "metadata": {},
   "outputs": [],
   "source": [
    "import pandas as pd"
   ]
  },
  {
   "cell_type": "markdown",
   "metadata": {},
   "source": [
    "### source - https://hackernoon.com/predicting-the-price-of-houses-in-brooklyn-using-python-1abd7997083b"
   ]
  },
  {
   "cell_type": "code",
   "execution_count": 132,
   "metadata": {},
   "outputs": [],
   "source": [
    "housing_data = pd.read_csv(\"datasets/housing/brooklyn_sales_map.csv\")"
   ]
  },
  {
   "cell_type": "code",
   "execution_count": 133,
   "metadata": {},
   "outputs": [
    {
     "name": "stdout",
     "output_type": "stream",
     "text": [
      "<class 'pandas.core.frame.DataFrame'>\n",
      "RangeIndex: 390883 entries, 0 to 390882\n",
      "Columns: 111 entries, Unnamed: 0 to SHAPE_Area\n",
      "dtypes: float64(64), int64(11), object(36)\n",
      "memory usage: 331.0+ MB\n"
     ]
    }
   ],
   "source": [
    "housing_data.info()"
   ]
  },
  {
   "cell_type": "code",
   "execution_count": 134,
   "metadata": {},
   "outputs": [
    {
     "data": {
      "text/html": [
       "<div>\n",
       "<style scoped>\n",
       "    .dataframe tbody tr th:only-of-type {\n",
       "        vertical-align: middle;\n",
       "    }\n",
       "\n",
       "    .dataframe tbody tr th {\n",
       "        vertical-align: top;\n",
       "    }\n",
       "\n",
       "    .dataframe thead th {\n",
       "        text-align: right;\n",
       "    }\n",
       "</style>\n",
       "<table border=\"1\" class=\"dataframe\">\n",
       "  <thead>\n",
       "    <tr style=\"text-align: right;\">\n",
       "      <th></th>\n",
       "      <th>Unnamed: 0</th>\n",
       "      <th>borough</th>\n",
       "      <th>block</th>\n",
       "      <th>lot</th>\n",
       "      <th>easement</th>\n",
       "      <th>zip_code</th>\n",
       "      <th>residential_units</th>\n",
       "      <th>commercial_units</th>\n",
       "      <th>total_units</th>\n",
       "      <th>land_sqft</th>\n",
       "      <th>...</th>\n",
       "      <th>XCoord</th>\n",
       "      <th>YCoord</th>\n",
       "      <th>TaxMap</th>\n",
       "      <th>APPBBL</th>\n",
       "      <th>PLUTOMapID</th>\n",
       "      <th>FIRM07_FLA</th>\n",
       "      <th>PFIRM15_FL</th>\n",
       "      <th>MAPPLUTO_F</th>\n",
       "      <th>SHAPE_Leng</th>\n",
       "      <th>SHAPE_Area</th>\n",
       "    </tr>\n",
       "  </thead>\n",
       "  <tbody>\n",
       "    <tr>\n",
       "      <th>count</th>\n",
       "      <td>390883.000000</td>\n",
       "      <td>390883.0</td>\n",
       "      <td>390883.000000</td>\n",
       "      <td>390883.000000</td>\n",
       "      <td>0.0</td>\n",
       "      <td>390883.000000</td>\n",
       "      <td>390883.000000</td>\n",
       "      <td>390883.000000</td>\n",
       "      <td>390883.000000</td>\n",
       "      <td>3.908830e+05</td>\n",
       "      <td>...</td>\n",
       "      <td>3.037280e+05</td>\n",
       "      <td>303728.000000</td>\n",
       "      <td>303710.000000</td>\n",
       "      <td>3.037280e+05</td>\n",
       "      <td>303728.000000</td>\n",
       "      <td>8653.0</td>\n",
       "      <td>27773.0</td>\n",
       "      <td>303728.000000</td>\n",
       "      <td>303728.000000</td>\n",
       "      <td>3.037280e+05</td>\n",
       "    </tr>\n",
       "    <tr>\n",
       "      <th>mean</th>\n",
       "      <td>195442.000000</td>\n",
       "      <td>3.0</td>\n",
       "      <td>4275.651169</td>\n",
       "      <td>272.509986</td>\n",
       "      <td>NaN</td>\n",
       "      <td>11208.429087</td>\n",
       "      <td>2.486138</td>\n",
       "      <td>0.174142</td>\n",
       "      <td>2.673227</td>\n",
       "      <td>2.368464e+03</td>\n",
       "      <td>...</td>\n",
       "      <td>9.921077e+05</td>\n",
       "      <td>175146.073694</td>\n",
       "      <td>31396.728152</td>\n",
       "      <td>1.927884e+08</td>\n",
       "      <td>1.000145</td>\n",
       "      <td>1.0</td>\n",
       "      <td>1.0</td>\n",
       "      <td>0.000244</td>\n",
       "      <td>337.445796</td>\n",
       "      <td>8.645885e+03</td>\n",
       "    </tr>\n",
       "    <tr>\n",
       "      <th>std</th>\n",
       "      <td>112838.346973</td>\n",
       "      <td>0.0</td>\n",
       "      <td>2642.765332</td>\n",
       "      <td>484.658837</td>\n",
       "      <td>NaN</td>\n",
       "      <td>361.207836</td>\n",
       "      <td>48.200178</td>\n",
       "      <td>1.653362</td>\n",
       "      <td>48.233343</td>\n",
       "      <td>2.509129e+04</td>\n",
       "      <td>...</td>\n",
       "      <td>7.391759e+04</td>\n",
       "      <td>18390.569903</td>\n",
       "      <td>754.905314</td>\n",
       "      <td>7.409608e+08</td>\n",
       "      <td>0.017021</td>\n",
       "      <td>0.0</td>\n",
       "      <td>0.0</td>\n",
       "      <td>0.036740</td>\n",
       "      <td>329.587401</td>\n",
       "      <td>3.116106e+04</td>\n",
       "    </tr>\n",
       "    <tr>\n",
       "      <th>min</th>\n",
       "      <td>1.000000</td>\n",
       "      <td>3.0</td>\n",
       "      <td>1.000000</td>\n",
       "      <td>1.000000</td>\n",
       "      <td>NaN</td>\n",
       "      <td>0.000000</td>\n",
       "      <td>0.000000</td>\n",
       "      <td>0.000000</td>\n",
       "      <td>0.000000</td>\n",
       "      <td>0.000000e+00</td>\n",
       "      <td>...</td>\n",
       "      <td>0.000000e+00</td>\n",
       "      <td>0.000000</td>\n",
       "      <td>3.000000</td>\n",
       "      <td>0.000000e+00</td>\n",
       "      <td>1.000000</td>\n",
       "      <td>1.0</td>\n",
       "      <td>1.0</td>\n",
       "      <td>0.000000</td>\n",
       "      <td>2.143758</td>\n",
       "      <td>1.007072e-01</td>\n",
       "    </tr>\n",
       "    <tr>\n",
       "      <th>25%</th>\n",
       "      <td>97721.500000</td>\n",
       "      <td>3.0</td>\n",
       "      <td>1786.000000</td>\n",
       "      <td>21.000000</td>\n",
       "      <td>NaN</td>\n",
       "      <td>11209.000000</td>\n",
       "      <td>1.000000</td>\n",
       "      <td>0.000000</td>\n",
       "      <td>1.000000</td>\n",
       "      <td>0.000000e+00</td>\n",
       "      <td>...</td>\n",
       "      <td>9.892368e+05</td>\n",
       "      <td>165334.750000</td>\n",
       "      <td>30611.000000</td>\n",
       "      <td>0.000000e+00</td>\n",
       "      <td>1.000000</td>\n",
       "      <td>1.0</td>\n",
       "      <td>1.0</td>\n",
       "      <td>0.000000</td>\n",
       "      <td>238.997798</td>\n",
       "      <td>1.938904e+03</td>\n",
       "    </tr>\n",
       "    <tr>\n",
       "      <th>50%</th>\n",
       "      <td>195442.000000</td>\n",
       "      <td>3.0</td>\n",
       "      <td>4305.000000</td>\n",
       "      <td>45.000000</td>\n",
       "      <td>NaN</td>\n",
       "      <td>11219.000000</td>\n",
       "      <td>1.000000</td>\n",
       "      <td>0.000000</td>\n",
       "      <td>1.000000</td>\n",
       "      <td>1.900000e+03</td>\n",
       "      <td>...</td>\n",
       "      <td>9.975955e+05</td>\n",
       "      <td>175906.000000</td>\n",
       "      <td>31506.000000</td>\n",
       "      <td>0.000000e+00</td>\n",
       "      <td>1.000000</td>\n",
       "      <td>1.0</td>\n",
       "      <td>1.0</td>\n",
       "      <td>0.000000</td>\n",
       "      <td>249.411350</td>\n",
       "      <td>2.316886e+03</td>\n",
       "    </tr>\n",
       "    <tr>\n",
       "      <th>75%</th>\n",
       "      <td>293162.500000</td>\n",
       "      <td>3.0</td>\n",
       "      <td>6585.000000</td>\n",
       "      <td>94.000000</td>\n",
       "      <td>NaN</td>\n",
       "      <td>11230.000000</td>\n",
       "      <td>2.000000</td>\n",
       "      <td>0.000000</td>\n",
       "      <td>2.000000</td>\n",
       "      <td>2.500000e+03</td>\n",
       "      <td>...</td>\n",
       "      <td>1.005059e+06</td>\n",
       "      <td>187140.000000</td>\n",
       "      <td>32005.000000</td>\n",
       "      <td>0.000000e+00</td>\n",
       "      <td>1.000000</td>\n",
       "      <td>1.0</td>\n",
       "      <td>1.0</td>\n",
       "      <td>0.000000</td>\n",
       "      <td>283.169119</td>\n",
       "      <td>3.478477e+03</td>\n",
       "    </tr>\n",
       "    <tr>\n",
       "      <th>max</th>\n",
       "      <td>390883.000000</td>\n",
       "      <td>3.0</td>\n",
       "      <td>8955.000000</td>\n",
       "      <td>9133.000000</td>\n",
       "      <td>NaN</td>\n",
       "      <td>33803.000000</td>\n",
       "      <td>20811.000000</td>\n",
       "      <td>355.000000</td>\n",
       "      <td>20811.000000</td>\n",
       "      <td>7.446955e+06</td>\n",
       "      <td>...</td>\n",
       "      <td>1.024202e+06</td>\n",
       "      <td>208406.000000</td>\n",
       "      <td>32605.000000</td>\n",
       "      <td>3.089321e+09</td>\n",
       "      <td>3.000000</td>\n",
       "      <td>1.0</td>\n",
       "      <td>1.0</td>\n",
       "      <td>7.000000</td>\n",
       "      <td>19861.521019</td>\n",
       "      <td>7.149338e+06</td>\n",
       "    </tr>\n",
       "  </tbody>\n",
       "</table>\n",
       "<p>8 rows × 75 columns</p>\n",
       "</div>"
      ],
      "text/plain": [
       "          Unnamed: 0   borough          block            lot  easement  \\\n",
       "count  390883.000000  390883.0  390883.000000  390883.000000       0.0   \n",
       "mean   195442.000000       3.0    4275.651169     272.509986       NaN   \n",
       "std    112838.346973       0.0    2642.765332     484.658837       NaN   \n",
       "min         1.000000       3.0       1.000000       1.000000       NaN   \n",
       "25%     97721.500000       3.0    1786.000000      21.000000       NaN   \n",
       "50%    195442.000000       3.0    4305.000000      45.000000       NaN   \n",
       "75%    293162.500000       3.0    6585.000000      94.000000       NaN   \n",
       "max    390883.000000       3.0    8955.000000    9133.000000       NaN   \n",
       "\n",
       "            zip_code  residential_units  commercial_units    total_units  \\\n",
       "count  390883.000000      390883.000000     390883.000000  390883.000000   \n",
       "mean    11208.429087           2.486138          0.174142       2.673227   \n",
       "std       361.207836          48.200178          1.653362      48.233343   \n",
       "min         0.000000           0.000000          0.000000       0.000000   \n",
       "25%     11209.000000           1.000000          0.000000       1.000000   \n",
       "50%     11219.000000           1.000000          0.000000       1.000000   \n",
       "75%     11230.000000           2.000000          0.000000       2.000000   \n",
       "max     33803.000000       20811.000000        355.000000   20811.000000   \n",
       "\n",
       "          land_sqft  ...        XCoord         YCoord         TaxMap  \\\n",
       "count  3.908830e+05  ...  3.037280e+05  303728.000000  303710.000000   \n",
       "mean   2.368464e+03  ...  9.921077e+05  175146.073694   31396.728152   \n",
       "std    2.509129e+04  ...  7.391759e+04   18390.569903     754.905314   \n",
       "min    0.000000e+00  ...  0.000000e+00       0.000000       3.000000   \n",
       "25%    0.000000e+00  ...  9.892368e+05  165334.750000   30611.000000   \n",
       "50%    1.900000e+03  ...  9.975955e+05  175906.000000   31506.000000   \n",
       "75%    2.500000e+03  ...  1.005059e+06  187140.000000   32005.000000   \n",
       "max    7.446955e+06  ...  1.024202e+06  208406.000000   32605.000000   \n",
       "\n",
       "             APPBBL     PLUTOMapID  FIRM07_FLA  PFIRM15_FL     MAPPLUTO_F  \\\n",
       "count  3.037280e+05  303728.000000      8653.0     27773.0  303728.000000   \n",
       "mean   1.927884e+08       1.000145         1.0         1.0       0.000244   \n",
       "std    7.409608e+08       0.017021         0.0         0.0       0.036740   \n",
       "min    0.000000e+00       1.000000         1.0         1.0       0.000000   \n",
       "25%    0.000000e+00       1.000000         1.0         1.0       0.000000   \n",
       "50%    0.000000e+00       1.000000         1.0         1.0       0.000000   \n",
       "75%    0.000000e+00       1.000000         1.0         1.0       0.000000   \n",
       "max    3.089321e+09       3.000000         1.0         1.0       7.000000   \n",
       "\n",
       "          SHAPE_Leng    SHAPE_Area  \n",
       "count  303728.000000  3.037280e+05  \n",
       "mean      337.445796  8.645885e+03  \n",
       "std       329.587401  3.116106e+04  \n",
       "min         2.143758  1.007072e-01  \n",
       "25%       238.997798  1.938904e+03  \n",
       "50%       249.411350  2.316886e+03  \n",
       "75%       283.169119  3.478477e+03  \n",
       "max     19861.521019  7.149338e+06  \n",
       "\n",
       "[8 rows x 75 columns]"
      ]
     },
     "execution_count": 134,
     "metadata": {},
     "output_type": "execute_result"
    }
   ],
   "source": [
    "housing_data.describe()"
   ]
  },
  {
   "cell_type": "code",
   "execution_count": 135,
   "metadata": {},
   "outputs": [],
   "source": [
    "features = housing_data.columns.array"
   ]
  },
  {
   "cell_type": "code",
   "execution_count": 136,
   "metadata": {},
   "outputs": [
    {
     "name": "stdout",
     "output_type": "stream",
     "text": [
      "Unnamed: 0\n",
      "borough\n",
      "neighborhood\n",
      "building_class_category\n",
      "tax_class\n",
      "block\n",
      "lot\n",
      "easement\n",
      "building_class\n",
      "address\n",
      "apartment_number\n",
      "zip_code\n",
      "residential_units\n",
      "commercial_units\n",
      "total_units\n",
      "land_sqft\n",
      "gross_sqft\n",
      "year_built\n",
      "tax_class_at_sale\n",
      "building_class_at_sale\n",
      "sale_price\n",
      "sale_date\n",
      "year_of_sale\n",
      "Borough\n",
      "CD\n",
      "CT2010\n",
      "CB2010\n",
      "SchoolDist\n",
      "Council\n",
      "ZipCode\n",
      "FireComp\n",
      "PolicePrct\n",
      "HealthCent\n",
      "HealthArea\n",
      "SanitBoro\n",
      "SanitDistr\n",
      "SanitSub\n",
      "Address\n",
      "ZoneDist1\n",
      "ZoneDist2\n",
      "ZoneDist3\n",
      "ZoneDist4\n",
      "Overlay1\n",
      "Overlay2\n",
      "SPDist1\n",
      "SPDist2\n",
      "SPDist3\n",
      "LtdHeight\n",
      "SplitZone\n",
      "BldgClass\n",
      "LandUse\n",
      "Easements\n",
      "OwnerType\n",
      "OwnerName\n",
      "LotArea\n",
      "BldgArea\n",
      "ComArea\n",
      "ResArea\n",
      "OfficeArea\n",
      "RetailArea\n",
      "GarageArea\n",
      "StrgeArea\n",
      "FactryArea\n",
      "OtherArea\n",
      "AreaSource\n",
      "NumBldgs\n",
      "NumFloors\n",
      "UnitsRes\n",
      "UnitsTotal\n",
      "LotFront\n",
      "LotDepth\n",
      "BldgFront\n",
      "BldgDepth\n",
      "Ext\n",
      "ProxCode\n",
      "IrrLotCode\n",
      "LotType\n",
      "BsmtCode\n",
      "AssessLand\n",
      "AssessTot\n",
      "ExemptLand\n",
      "ExemptTot\n",
      "YearBuilt\n",
      "YearAlter1\n",
      "YearAlter2\n",
      "HistDist\n",
      "Landmark\n",
      "BuiltFAR\n",
      "ResidFAR\n",
      "CommFAR\n",
      "FacilFAR\n",
      "BoroCode\n",
      "BBL\n",
      "CondoNo\n",
      "Tract2010\n",
      "XCoord\n",
      "YCoord\n",
      "ZoneMap\n",
      "ZMCode\n",
      "Sanborn\n",
      "TaxMap\n",
      "EDesigNum\n",
      "APPBBL\n",
      "APPDate\n",
      "PLUTOMapID\n",
      "FIRM07_FLA\n",
      "PFIRM15_FL\n",
      "Version\n",
      "MAPPLUTO_F\n",
      "SHAPE_Leng\n",
      "SHAPE_Area\n"
     ]
    }
   ],
   "source": [
    "for feature in features:\n",
    "    print(feature)"
   ]
  },
  {
   "cell_type": "markdown",
   "metadata": {},
   "source": [
    "### First unnamed one is sequence number in csv.Lets drop it."
   ]
  },
  {
   "cell_type": "code",
   "execution_count": 137,
   "metadata": {},
   "outputs": [
    {
     "data": {
      "text/plain": [
       "pandas.core.frame.DataFrame"
      ]
     },
     "execution_count": 137,
     "metadata": {},
     "output_type": "execute_result"
    }
   ],
   "source": [
    "type(housing_data)"
   ]
  },
  {
   "cell_type": "code",
   "execution_count": 138,
   "metadata": {},
   "outputs": [],
   "source": [
    "housing_data =housing_data.drop([\"Unnamed: 0\"],axis=1)"
   ]
  },
  {
   "cell_type": "code",
   "execution_count": 139,
   "metadata": {},
   "outputs": [
    {
     "data": {
      "text/html": [
       "<div>\n",
       "<style scoped>\n",
       "    .dataframe tbody tr th:only-of-type {\n",
       "        vertical-align: middle;\n",
       "    }\n",
       "\n",
       "    .dataframe tbody tr th {\n",
       "        vertical-align: top;\n",
       "    }\n",
       "\n",
       "    .dataframe thead th {\n",
       "        text-align: right;\n",
       "    }\n",
       "</style>\n",
       "<table border=\"1\" class=\"dataframe\">\n",
       "  <thead>\n",
       "    <tr style=\"text-align: right;\">\n",
       "      <th></th>\n",
       "      <th>borough</th>\n",
       "      <th>neighborhood</th>\n",
       "      <th>building_class_category</th>\n",
       "      <th>tax_class</th>\n",
       "      <th>block</th>\n",
       "      <th>lot</th>\n",
       "      <th>easement</th>\n",
       "      <th>building_class</th>\n",
       "      <th>address</th>\n",
       "      <th>apartment_number</th>\n",
       "      <th>...</th>\n",
       "      <th>EDesigNum</th>\n",
       "      <th>APPBBL</th>\n",
       "      <th>APPDate</th>\n",
       "      <th>PLUTOMapID</th>\n",
       "      <th>FIRM07_FLA</th>\n",
       "      <th>PFIRM15_FL</th>\n",
       "      <th>Version</th>\n",
       "      <th>MAPPLUTO_F</th>\n",
       "      <th>SHAPE_Leng</th>\n",
       "      <th>SHAPE_Area</th>\n",
       "    </tr>\n",
       "  </thead>\n",
       "  <tbody>\n",
       "    <tr>\n",
       "      <th>0</th>\n",
       "      <td>3</td>\n",
       "      <td>DOWNTOWN-METROTECH</td>\n",
       "      <td>28  COMMERCIAL CONDOS</td>\n",
       "      <td>4</td>\n",
       "      <td>140</td>\n",
       "      <td>1001</td>\n",
       "      <td>NaN</td>\n",
       "      <td>R5</td>\n",
       "      <td>330 JAY STREET</td>\n",
       "      <td>COURT</td>\n",
       "      <td>...</td>\n",
       "      <td>NaN</td>\n",
       "      <td>NaN</td>\n",
       "      <td>NaN</td>\n",
       "      <td>NaN</td>\n",
       "      <td>NaN</td>\n",
       "      <td>NaN</td>\n",
       "      <td>NaN</td>\n",
       "      <td>NaN</td>\n",
       "      <td>NaN</td>\n",
       "      <td>NaN</td>\n",
       "    </tr>\n",
       "  </tbody>\n",
       "</table>\n",
       "<p>1 rows × 110 columns</p>\n",
       "</div>"
      ],
      "text/plain": [
       "   borough        neighborhood building_class_category tax_class  block   lot  \\\n",
       "0        3  DOWNTOWN-METROTECH   28  COMMERCIAL CONDOS         4    140  1001   \n",
       "\n",
       "   easement building_class         address apartment_number  ...  EDesigNum  \\\n",
       "0       NaN             R5  330 JAY STREET            COURT  ...        NaN   \n",
       "\n",
       "   APPBBL  APPDate  PLUTOMapID  FIRM07_FLA  PFIRM15_FL  Version  MAPPLUTO_F  \\\n",
       "0     NaN      NaN         NaN         NaN         NaN      NaN         NaN   \n",
       "\n",
       "  SHAPE_Leng  SHAPE_Area  \n",
       "0        NaN         NaN  \n",
       "\n",
       "[1 rows x 110 columns]"
      ]
     },
     "execution_count": 139,
     "metadata": {},
     "output_type": "execute_result"
    }
   ],
   "source": [
    "housing_data.head(1)"
   ]
  },
  {
   "cell_type": "markdown",
   "metadata": {},
   "source": [
    "### Reading all features and try to get sense of what feature means what"
   ]
  },
  {
   "cell_type": "code",
   "execution_count": 140,
   "metadata": {},
   "outputs": [],
   "source": [
    "tax_class=housing_data[\"tax_class\"]"
   ]
  },
  {
   "cell_type": "code",
   "execution_count": 141,
   "metadata": {},
   "outputs": [
    {
     "data": {
      "text/plain": [
       "1     198969\n",
       "2      87640\n",
       "4      35331\n",
       "2A     25956\n",
       "2C     14402\n",
       "1A      7814\n",
       "2B      7302\n",
       "1B      5067\n",
       "1C      1450\n",
       "3         18\n",
       "Name: tax_class, dtype: int64"
      ]
     },
     "execution_count": 141,
     "metadata": {},
     "output_type": "execute_result"
    }
   ],
   "source": [
    "tax_class.value_counts()"
   ]
  },
  {
   "cell_type": "code",
   "execution_count": 142,
   "metadata": {},
   "outputs": [],
   "source": [
    "from matplotlib import pyplot as plt"
   ]
  },
  {
   "cell_type": "code",
   "execution_count": 143,
   "metadata": {},
   "outputs": [
    {
     "data": {
      "text/plain": [
       "<matplotlib.collections.PathCollection at 0x221b4c50>"
      ]
     },
     "execution_count": 143,
     "metadata": {},
     "output_type": "execute_result"
    },
    {
     "data": {
      "image/png": "[encoded data removed]",
      "text/plain": [
       "<Figure size 432x288 with 1 Axes>"
      ]
     },
     "metadata": {
      "needs_background": "light"
     },
     "output_type": "display_data"
    }
   ],
   "source": [
    "plt.scatter(x=housing_data[\"year_of_sale\"],y=housing_data[\"sale_price\"])"
   ]
  },
  {
   "cell_type": "code",
   "execution_count": 144,
   "metadata": {},
   "outputs": [
    {
     "data": {
      "text/html": [
       "<div>\n",
       "<style scoped>\n",
       "    .dataframe tbody tr th:only-of-type {\n",
       "        vertical-align: middle;\n",
       "    }\n",
       "\n",
       "    .dataframe tbody tr th {\n",
       "        vertical-align: top;\n",
       "    }\n",
       "\n",
       "    .dataframe thead th {\n",
       "        text-align: right;\n",
       "    }\n",
       "</style>\n",
       "<table border=\"1\" class=\"dataframe\">\n",
       "  <thead>\n",
       "    <tr style=\"text-align: right;\">\n",
       "      <th></th>\n",
       "      <th>borough</th>\n",
       "      <th>neighborhood</th>\n",
       "      <th>building_class_category</th>\n",
       "      <th>tax_class</th>\n",
       "      <th>block</th>\n",
       "      <th>lot</th>\n",
       "      <th>easement</th>\n",
       "      <th>building_class</th>\n",
       "      <th>address</th>\n",
       "      <th>apartment_number</th>\n",
       "      <th>...</th>\n",
       "      <th>EDesigNum</th>\n",
       "      <th>APPBBL</th>\n",
       "      <th>APPDate</th>\n",
       "      <th>PLUTOMapID</th>\n",
       "      <th>FIRM07_FLA</th>\n",
       "      <th>PFIRM15_FL</th>\n",
       "      <th>Version</th>\n",
       "      <th>MAPPLUTO_F</th>\n",
       "      <th>SHAPE_Leng</th>\n",
       "      <th>SHAPE_Area</th>\n",
       "    </tr>\n",
       "  </thead>\n",
       "  <tbody>\n",
       "    <tr>\n",
       "      <th>195441</th>\n",
       "      <td>3</td>\n",
       "      <td>FLATLANDS</td>\n",
       "      <td>02 TWO FAMILY HOMES</td>\n",
       "      <td>1</td>\n",
       "      <td>7761</td>\n",
       "      <td>45</td>\n",
       "      <td>NaN</td>\n",
       "      <td>B1</td>\n",
       "      <td>5712 AVENUE H</td>\n",
       "      <td>NaN</td>\n",
       "      <td>...</td>\n",
       "      <td>NaN</td>\n",
       "      <td>0.0</td>\n",
       "      <td>NaN</td>\n",
       "      <td>1.0</td>\n",
       "      <td>NaN</td>\n",
       "      <td>NaN</td>\n",
       "      <td>17V1.1</td>\n",
       "      <td>0.0</td>\n",
       "      <td>227.222452</td>\n",
       "      <td>1724.950388</td>\n",
       "    </tr>\n",
       "  </tbody>\n",
       "</table>\n",
       "<p>1 rows × 110 columns</p>\n",
       "</div>"
      ],
      "text/plain": [
       "        borough neighborhood building_class_category tax_class  block  lot  \\\n",
       "195441        3    FLATLANDS     02 TWO FAMILY HOMES         1   7761   45   \n",
       "\n",
       "        easement building_class        address apartment_number  ...  \\\n",
       "195441       NaN             B1  5712 AVENUE H              NaN  ...   \n",
       "\n",
       "        EDesigNum  APPBBL  APPDate  PLUTOMapID  FIRM07_FLA  PFIRM15_FL  \\\n",
       "195441        NaN     0.0      NaN         1.0         NaN         NaN   \n",
       "\n",
       "        Version  MAPPLUTO_F  SHAPE_Leng   SHAPE_Area  \n",
       "195441   17V1.1         0.0  227.222452  1724.950388  \n",
       "\n",
       "[1 rows x 110 columns]"
      ]
     },
     "execution_count": 144,
     "metadata": {},
     "output_type": "execute_result"
    }
   ],
   "source": [
    "housing_data.sort_values(by=\"sale_price\",ascending=False).tail(1)"
   ]
  },
  {
   "cell_type": "code",
   "execution_count": 145,
   "metadata": {},
   "outputs": [
    {
     "data": {
      "text/plain": [
       "count       390883.000000\n",
       "mean        506754.477693\n",
       "std        2353964.664225\n",
       "min              0.000000\n",
       "25%              0.000000\n",
       "50%         275000.000000\n",
       "75%         593000.000000\n",
       "max      499401179.000000\n",
       "Name: sale_price, dtype: object"
      ]
     },
     "execution_count": 145,
     "metadata": {},
     "output_type": "execute_result"
    }
   ],
   "source": [
    "housing_data['sale_price'].describe().apply(lambda x: format(x,'f'))"
   ]
  },
  {
   "cell_type": "code",
   "execution_count": 146,
   "metadata": {},
   "outputs": [],
   "source": [
    "zero_price_houses = housing_data[housing_data['sale_price']==0]"
   ]
  },
  {
   "cell_type": "code",
   "execution_count": 147,
   "metadata": {},
   "outputs": [
    {
     "data": {
      "text/plain": [
       "140143"
      ]
     },
     "execution_count": 147,
     "metadata": {},
     "output_type": "execute_result"
    }
   ],
   "source": [
    "len(zero_price_houses)"
   ]
  },
  {
   "cell_type": "code",
   "execution_count": 148,
   "metadata": {},
   "outputs": [
    {
     "name": "stdout",
     "output_type": "stream",
     "text": [
      "<class 'pandas.core.frame.DataFrame'>\n",
      "RangeIndex: 390883 entries, 0 to 390882\n",
      "Columns: 110 entries, borough to SHAPE_Area\n",
      "dtypes: float64(64), int64(10), object(36)\n",
      "memory usage: 328.0+ MB\n"
     ]
    }
   ],
   "source": [
    "housing_data.info()"
   ]
  },
  {
   "cell_type": "markdown",
   "metadata": {},
   "source": [
    "### There are 140143 instances where sale price is zero. Remove them"
   ]
  },
  {
   "cell_type": "code",
   "execution_count": 149,
   "metadata": {},
   "outputs": [],
   "source": [
    "housing_data = housing_data[housing_data['sale_price']>0]"
   ]
  },
  {
   "cell_type": "code",
   "execution_count": 150,
   "metadata": {},
   "outputs": [
    {
     "data": {
      "text/plain": [
       "count       250740.000000\n",
       "mean        789988.476127\n",
       "std        2900768.102545\n",
       "min              1.000000\n",
       "25%         300000.000000\n",
       "50%         496860.000000\n",
       "75%         755000.000000\n",
       "max      499401179.000000\n",
       "Name: sale_price, dtype: object"
      ]
     },
     "execution_count": 150,
     "metadata": {},
     "output_type": "execute_result"
    }
   ],
   "source": [
    "housing_data['sale_price'].describe().apply(lambda x: format(x,'f'))"
   ]
  },
  {
   "cell_type": "code",
   "execution_count": 151,
   "metadata": {},
   "outputs": [
    {
     "data": {
      "text/plain": [
       "([bad, bad, medium, good, good]\n",
       " Categories (3, object): [bad < medium < good], array([ 0,  5, 10, 16]))"
      ]
     },
     "execution_count": 151,
     "metadata": {},
     "output_type": "execute_result"
    }
   ],
   "source": [
    "import numpy as np\n",
    "pd.cut(np.array([1,4,8,12,16]), bins=[0,5,10,16], retbins=True,labels=['bad','medium','good'])"
   ]
  },
  {
   "cell_type": "markdown",
   "metadata": {},
   "source": [
    "### Using cut function to put price values in bins"
   ]
  },
  {
   "cell_type": "code",
   "execution_count": 152,
   "metadata": {},
   "outputs": [],
   "source": [
    "price_range_label = ['0-200k','200k-500k','500k-800k','800k-1min','1min-10min','10min-100min','100min-500min']\n",
    "bins_range = [0,200000,500000,800000,1000000,10000000,100000000,500000000]\n",
    "housing_data['price_range']=pd.cut(housing_data['sale_price'],bins=bins_range,labels=price_range_label)"
   ]
  },
  {
   "cell_type": "code",
   "execution_count": 154,
   "metadata": {},
   "outputs": [
    {
     "data": {
      "text/html": [
       "<div>\n",
       "<style scoped>\n",
       "    .dataframe tbody tr th:only-of-type {\n",
       "        vertical-align: middle;\n",
       "    }\n",
       "\n",
       "    .dataframe tbody tr th {\n",
       "        vertical-align: top;\n",
       "    }\n",
       "\n",
       "    .dataframe thead th {\n",
       "        text-align: right;\n",
       "    }\n",
       "</style>\n",
       "<table border=\"1\" class=\"dataframe\">\n",
       "  <thead>\n",
       "    <tr style=\"text-align: right;\">\n",
       "      <th></th>\n",
       "      <th>price_range</th>\n",
       "      <th>sale_price</th>\n",
       "    </tr>\n",
       "  </thead>\n",
       "  <tbody>\n",
       "    <tr>\n",
       "      <th>0</th>\n",
       "      <td>100min-500min</td>\n",
       "      <td>499401179.0</td>\n",
       "    </tr>\n",
       "    <tr>\n",
       "      <th>1</th>\n",
       "      <td>100min-500min</td>\n",
       "      <td>345000000.0</td>\n",
       "    </tr>\n",
       "    <tr>\n",
       "      <th>2</th>\n",
       "      <td>100min-500min</td>\n",
       "      <td>340000000.0</td>\n",
       "    </tr>\n",
       "    <tr>\n",
       "      <th>3</th>\n",
       "      <td>100min-500min</td>\n",
       "      <td>276947000.0</td>\n",
       "    </tr>\n",
       "    <tr>\n",
       "      <th>4</th>\n",
       "      <td>100min-500min</td>\n",
       "      <td>202500000.0</td>\n",
       "    </tr>\n",
       "  </tbody>\n",
       "</table>\n",
       "</div>"
      ],
      "text/plain": [
       "     price_range   sale_price\n",
       "0  100min-500min  499401179.0\n",
       "1  100min-500min  345000000.0\n",
       "2  100min-500min  340000000.0\n",
       "3  100min-500min  276947000.0\n",
       "4  100min-500min  202500000.0"
      ]
     },
     "execution_count": 154,
     "metadata": {},
     "output_type": "execute_result"
    }
   ],
   "source": [
    "housing_data[['price_range','sale_price']].head()"
   ]
  },
  {
   "cell_type": "code",
   "execution_count": 155,
   "metadata": {},
   "outputs": [
    {
     "name": "stderr",
     "output_type": "stream",
     "text": [
      "Exception KeyboardInterrupt in 'zmq.backend.cython.message.Frame.__dealloc__' ignored\n"
     ]
    },
    {
     "ename": "KeyboardInterrupt",
     "evalue": "",
     "output_type": "error",
     "traceback": [
      "\u001b[1;31m---------------------------------------------------------------------------\u001b[0m",
      "\u001b[1;31mKeyboardInterrupt\u001b[0m                         Traceback (most recent call last)",
      "\u001b[1;32m<ipython-input-155-67357467f06a>\u001b[0m in \u001b[0;36m<module>\u001b[1;34m()\u001b[0m\n\u001b[0;32m      1\u001b[0m \u001b[1;31m# Lets plot them\u001b[0m\u001b[1;33m\u001b[0m\u001b[1;33m\u001b[0m\u001b[0m\n\u001b[1;32m----> 2\u001b[1;33m \u001b[0mplt\u001b[0m\u001b[1;33m.\u001b[0m\u001b[0mbar\u001b[0m\u001b[1;33m(\u001b[0m\u001b[0mhousing_data\u001b[0m\u001b[1;33m[\u001b[0m\u001b[1;34m'price_range'\u001b[0m\u001b[1;33m]\u001b[0m\u001b[1;33m,\u001b[0m\u001b[0mheight\u001b[0m \u001b[1;33m=\u001b[0m \u001b[0mhousing_data\u001b[0m\u001b[1;33m[\u001b[0m\u001b[1;34m'sale_price'\u001b[0m\u001b[1;33m]\u001b[0m\u001b[1;33m)\u001b[0m\u001b[1;33m\u001b[0m\u001b[0m\n\u001b[0m",
      "\u001b[1;32mc:\\python27\\lib\\site-packages\\matplotlib\\pyplot.pyc\u001b[0m in \u001b[0;36mbar\u001b[1;34m(*args, **kwargs)\u001b[0m\n\u001b[0;32m   2773\u001b[0m                       mplDeprecation)\n\u001b[0;32m   2774\u001b[0m     \u001b[1;32mtry\u001b[0m\u001b[1;33m:\u001b[0m\u001b[1;33m\u001b[0m\u001b[0m\n\u001b[1;32m-> 2775\u001b[1;33m         \u001b[0mret\u001b[0m \u001b[1;33m=\u001b[0m \u001b[0max\u001b[0m\u001b[1;33m.\u001b[0m\u001b[0mbar\u001b[0m\u001b[1;33m(\u001b[0m\u001b[1;33m*\u001b[0m\u001b[0margs\u001b[0m\u001b[1;33m,\u001b[0m \u001b[1;33m**\u001b[0m\u001b[0mkwargs\u001b[0m\u001b[1;33m)\u001b[0m\u001b[1;33m\u001b[0m\u001b[0m\n\u001b[0m\u001b[0;32m   2776\u001b[0m     \u001b[1;32mfinally\u001b[0m\u001b[1;33m:\u001b[0m\u001b[1;33m\u001b[0m\u001b[0m\n\u001b[0;32m   2777\u001b[0m         \u001b[0max\u001b[0m\u001b[1;33m.\u001b[0m\u001b[0m_hold\u001b[0m \u001b[1;33m=\u001b[0m \u001b[0mwashold\u001b[0m\u001b[1;33m\u001b[0m\u001b[0m\n",
      "\u001b[1;32mc:\\python27\\lib\\site-packages\\matplotlib\\__init__.pyc\u001b[0m in \u001b[0;36minner\u001b[1;34m(ax, *args, **kwargs)\u001b[0m\n\u001b[0;32m   1865\u001b[0m                         \u001b[1;34m\"the Matplotlib list!)\"\u001b[0m \u001b[1;33m%\u001b[0m \u001b[1;33m(\u001b[0m\u001b[0mlabel_namer\u001b[0m\u001b[1;33m,\u001b[0m \u001b[0mfunc\u001b[0m\u001b[1;33m.\u001b[0m\u001b[0m__name__\u001b[0m\u001b[1;33m)\u001b[0m\u001b[1;33m,\u001b[0m\u001b[1;33m\u001b[0m\u001b[0m\n\u001b[0;32m   1866\u001b[0m                         RuntimeWarning, stacklevel=2)\n\u001b[1;32m-> 1867\u001b[1;33m             \u001b[1;32mreturn\u001b[0m \u001b[0mfunc\u001b[0m\u001b[1;33m(\u001b[0m\u001b[0max\u001b[0m\u001b[1;33m,\u001b[0m \u001b[1;33m*\u001b[0m\u001b[0margs\u001b[0m\u001b[1;33m,\u001b[0m \u001b[1;33m**\u001b[0m\u001b[0mkwargs\u001b[0m\u001b[1;33m)\u001b[0m\u001b[1;33m\u001b[0m\u001b[0m\n\u001b[0m\u001b[0;32m   1868\u001b[0m \u001b[1;33m\u001b[0m\u001b[0m\n\u001b[0;32m   1869\u001b[0m         inner.__doc__ = _add_data_doc(inner.__doc__,\n",
      "\u001b[1;32mc:\\python27\\lib\\site-packages\\matplotlib\\axes\\_axes.pyc\u001b[0m in \u001b[0;36mbar\u001b[1;34m(self, *args, **kwargs)\u001b[0m\n\u001b[0;32m   2331\u001b[0m             \u001b[0mymin\u001b[0m \u001b[1;33m=\u001b[0m \u001b[0mmax\u001b[0m\u001b[1;33m(\u001b[0m\u001b[0mymin\u001b[0m \u001b[1;33m*\u001b[0m \u001b[1;36m0.9\u001b[0m\u001b[1;33m,\u001b[0m \u001b[1;36m1e-100\u001b[0m\u001b[1;33m)\u001b[0m\u001b[1;33m\u001b[0m\u001b[0m\n\u001b[0;32m   2332\u001b[0m             \u001b[0mself\u001b[0m\u001b[1;33m.\u001b[0m\u001b[0mdataLim\u001b[0m\u001b[1;33m.\u001b[0m\u001b[0mintervaly\u001b[0m \u001b[1;33m=\u001b[0m \u001b[1;33m(\u001b[0m\u001b[0mymin\u001b[0m\u001b[1;33m,\u001b[0m \u001b[0mymax\u001b[0m\u001b[1;33m)\u001b[0m\u001b[1;33m\u001b[0m\u001b[0m\n\u001b[1;32m-> 2333\u001b[1;33m         \u001b[0mself\u001b[0m\u001b[1;33m.\u001b[0m\u001b[0mautoscale_view\u001b[0m\u001b[1;33m(\u001b[0m\u001b[1;33m)\u001b[0m\u001b[1;33m\u001b[0m\u001b[0m\n\u001b[0m\u001b[0;32m   2334\u001b[0m \u001b[1;33m\u001b[0m\u001b[0m\n\u001b[0;32m   2335\u001b[0m         \u001b[0mbar_container\u001b[0m \u001b[1;33m=\u001b[0m \u001b[0mBarContainer\u001b[0m\u001b[1;33m(\u001b[0m\u001b[0mpatches\u001b[0m\u001b[1;33m,\u001b[0m \u001b[0merrorbar\u001b[0m\u001b[1;33m,\u001b[0m \u001b[0mlabel\u001b[0m\u001b[1;33m=\u001b[0m\u001b[0mlabel\u001b[0m\u001b[1;33m)\u001b[0m\u001b[1;33m\u001b[0m\u001b[0m\n",
      "\u001b[1;32mc:\\python27\\lib\\site-packages\\matplotlib\\axes\\_base.pyc\u001b[0m in \u001b[0;36mautoscale_view\u001b[1;34m(self, tight, scalex, scaley)\u001b[0m\n\u001b[0;32m   2544\u001b[0m         handle_single_axis(\n\u001b[0;32m   2545\u001b[0m             \u001b[0mscalex\u001b[0m\u001b[1;33m,\u001b[0m \u001b[0mself\u001b[0m\u001b[1;33m.\u001b[0m\u001b[0m_autoscaleXon\u001b[0m\u001b[1;33m,\u001b[0m \u001b[0mself\u001b[0m\u001b[1;33m.\u001b[0m\u001b[0m_shared_x_axes\u001b[0m\u001b[1;33m,\u001b[0m \u001b[1;34m'intervalx'\u001b[0m\u001b[1;33m,\u001b[0m\u001b[1;33m\u001b[0m\u001b[0m\n\u001b[1;32m-> 2546\u001b[1;33m             'minposx', self.xaxis, self._xmargin, x_stickies, self.set_xbound)\n\u001b[0m\u001b[0;32m   2547\u001b[0m         handle_single_axis(\n\u001b[0;32m   2548\u001b[0m             \u001b[0mscaley\u001b[0m\u001b[1;33m,\u001b[0m \u001b[0mself\u001b[0m\u001b[1;33m.\u001b[0m\u001b[0m_autoscaleYon\u001b[0m\u001b[1;33m,\u001b[0m \u001b[0mself\u001b[0m\u001b[1;33m.\u001b[0m\u001b[0m_shared_y_axes\u001b[0m\u001b[1;33m,\u001b[0m \u001b[1;34m'intervaly'\u001b[0m\u001b[1;33m,\u001b[0m\u001b[1;33m\u001b[0m\u001b[0m\n",
      "\u001b[1;32mc:\\python27\\lib\\site-packages\\matplotlib\\axes\\_base.pyc\u001b[0m in \u001b[0;36mhandle_single_axis\u001b[1;34m(scale, autoscaleon, shared_axes, interval, minpos, axis, margin, stickies, set_bound)\u001b[0m\n\u001b[0;32m   2493\u001b[0m             \u001b[0mdl\u001b[0m \u001b[1;33m=\u001b[0m \u001b[1;33m[\u001b[0m\u001b[0max\u001b[0m\u001b[1;33m.\u001b[0m\u001b[0mdataLim\u001b[0m \u001b[1;32mfor\u001b[0m \u001b[0max\u001b[0m \u001b[1;32min\u001b[0m \u001b[0mshared\u001b[0m\u001b[1;33m]\u001b[0m\u001b[1;33m\u001b[0m\u001b[0m\n\u001b[0;32m   2494\u001b[0m             \u001b[1;31m# ignore non-finite data limits if good limits exist\u001b[0m\u001b[1;33m\u001b[0m\u001b[1;33m\u001b[0m\u001b[0m\n\u001b[1;32m-> 2495\u001b[1;33m             \u001b[0mfinite_dl\u001b[0m \u001b[1;33m=\u001b[0m \u001b[1;33m[\u001b[0m\u001b[0md\u001b[0m \u001b[1;32mfor\u001b[0m \u001b[0md\u001b[0m \u001b[1;32min\u001b[0m \u001b[0mdl\u001b[0m \u001b[1;32mif\u001b[0m \u001b[0mnp\u001b[0m\u001b[1;33m.\u001b[0m\u001b[0misfinite\u001b[0m\u001b[1;33m(\u001b[0m\u001b[0md\u001b[0m\u001b[1;33m)\u001b[0m\u001b[1;33m.\u001b[0m\u001b[0mall\u001b[0m\u001b[1;33m(\u001b[0m\u001b[1;33m)\u001b[0m\u001b[1;33m]\u001b[0m\u001b[1;33m\u001b[0m\u001b[0m\n\u001b[0m\u001b[0;32m   2496\u001b[0m             \u001b[1;32mif\u001b[0m \u001b[0mlen\u001b[0m\u001b[1;33m(\u001b[0m\u001b[0mfinite_dl\u001b[0m\u001b[1;33m)\u001b[0m\u001b[1;33m:\u001b[0m\u001b[1;33m\u001b[0m\u001b[0m\n\u001b[0;32m   2497\u001b[0m                 \u001b[1;31m# if finite limits exist for atleast one axis (and the\u001b[0m\u001b[1;33m\u001b[0m\u001b[1;33m\u001b[0m\u001b[0m\n",
      "\u001b[1;32mc:\\python27\\lib\\site-packages\\matplotlib\\transforms.pyc\u001b[0m in \u001b[0;36m__array__\u001b[1;34m(self, *args, **kwargs)\u001b[0m\n\u001b[0;32m    284\u001b[0m     \u001b[0mfrozen\u001b[0m\u001b[1;33m.\u001b[0m\u001b[0m__doc__\u001b[0m \u001b[1;33m=\u001b[0m \u001b[0mTransformNode\u001b[0m\u001b[1;33m.\u001b[0m\u001b[0m__doc__\u001b[0m\u001b[1;33m\u001b[0m\u001b[0m\n\u001b[0;32m    285\u001b[0m \u001b[1;33m\u001b[0m\u001b[0m\n\u001b[1;32m--> 286\u001b[1;33m     \u001b[1;32mdef\u001b[0m \u001b[0m__array__\u001b[0m\u001b[1;33m(\u001b[0m\u001b[0mself\u001b[0m\u001b[1;33m,\u001b[0m \u001b[1;33m*\u001b[0m\u001b[0margs\u001b[0m\u001b[1;33m,\u001b[0m \u001b[1;33m**\u001b[0m\u001b[0mkwargs\u001b[0m\u001b[1;33m)\u001b[0m\u001b[1;33m:\u001b[0m\u001b[1;33m\u001b[0m\u001b[0m\n\u001b[0m\u001b[0;32m    287\u001b[0m         \u001b[1;32mreturn\u001b[0m \u001b[0mself\u001b[0m\u001b[1;33m.\u001b[0m\u001b[0mget_points\u001b[0m\u001b[1;33m(\u001b[0m\u001b[1;33m)\u001b[0m\u001b[1;33m\u001b[0m\u001b[0m\n\u001b[0;32m    288\u001b[0m \u001b[1;33m\u001b[0m\u001b[0m\n",
      "\u001b[1;31mKeyboardInterrupt\u001b[0m: "
     ]
    },
    {
     "data": {
      "image/png": "[encoded data removed]",
      "text/plain": [
       "<Figure size 432x288 with 1 Axes>"
      ]
     },
     "metadata": {
      "needs_background": "light"
     },
     "output_type": "display_data"
    }
   ],
   "source": [
    "# Lets plot them\n",
    "plt.bar(housing_data['price_range'],height = housing_data['sale_price'])"
   ]
  },
  {
   "cell_type": "code",
   "execution_count": null,
   "metadata": {},
   "outputs": [],
   "source": []
  }
 ],
 "metadata": {
  "kernelspec": {
   "display_name": "HelloWorld",
   "language": "python",
   "name": "helloworld"
  },
  "language_info": {
   "codemirror_mode": {
    "name": "ipython",
    "version": 2
   },
   "file_extension": ".py",
   "mimetype": "text/x-python",
   "name": "python",
   "nbconvert_exporter": "python",
   "pygments_lexer": "ipython2",
   "version": "2.7.15"
  }
 },
 "nbformat": 4,
 "nbformat_minor": 2
}
