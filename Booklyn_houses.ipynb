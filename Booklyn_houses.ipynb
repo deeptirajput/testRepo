{
 "cells": [
  {
   "cell_type": "code",
   "execution_count": 338,
   "metadata": {},
   "outputs": [],
   "source": [
    "import pandas as pd"
   ]
  },
  {
   "cell_type": "markdown",
   "metadata": {},
   "source": [
    "### source - https://hackernoon.com/predicting-the-price-of-houses-in-brooklyn-using-python-1abd7997083b\n",
    "#### Another https://medium.com/@hjhuney/quantitative-data-exploration-for-regression-in-python-ames-housing-part-1-25879dd4cc4a\n",
    "\n",
    "####plotting http://queirozf.com/entries/pandas-dataframe-plot-examples-with-matplotlib-pyplot"
   ]
  },
  {
   "cell_type": "code",
   "execution_count": 393,
   "metadata": {},
   "outputs": [],
   "source": [
    "housing_data = pd.read_csv(\"datasets/housing/brooklyn_sales_map.csv\")"
   ]
  },
  {
   "cell_type": "code",
   "execution_count": 394,
   "metadata": {},
   "outputs": [
    {
     "name": "stdout",
     "output_type": "stream",
     "text": [
      "<class 'pandas.core.frame.DataFrame'>\n",
      "RangeIndex: 390883 entries, 0 to 390882\n",
      "Columns: 111 entries, Unnamed: 0 to SHAPE_Area\n",
      "dtypes: float64(64), int64(11), object(36)\n",
      "memory usage: 331.0+ MB\n"
     ]
    }
   ],
   "source": [
    "housing_data.info()"
   ]
  },
  {
   "cell_type": "code",
   "execution_count": 395,
   "metadata": {},
   "outputs": [
    {
     "data": {
      "text/html": [
       "<div>\n",
       "<style scoped>\n",
       "    .dataframe tbody tr th:only-of-type {\n",
       "        vertical-align: middle;\n",
       "    }\n",
       "\n",
       "    .dataframe tbody tr th {\n",
       "        vertical-align: top;\n",
       "    }\n",
       "\n",
       "    .dataframe thead th {\n",
       "        text-align: right;\n",
       "    }\n",
       "</style>\n",
       "<table border=\"1\" class=\"dataframe\">\n",
       "  <thead>\n",
       "    <tr style=\"text-align: right;\">\n",
       "      <th></th>\n",
       "      <th>Unnamed: 0</th>\n",
       "      <th>borough</th>\n",
       "      <th>block</th>\n",
       "      <th>lot</th>\n",
       "      <th>easement</th>\n",
       "      <th>zip_code</th>\n",
       "      <th>residential_units</th>\n",
       "      <th>commercial_units</th>\n",
       "      <th>total_units</th>\n",
       "      <th>land_sqft</th>\n",
       "      <th>...</th>\n",
       "      <th>XCoord</th>\n",
       "      <th>YCoord</th>\n",
       "      <th>TaxMap</th>\n",
       "      <th>APPBBL</th>\n",
       "      <th>PLUTOMapID</th>\n",
       "      <th>FIRM07_FLA</th>\n",
       "      <th>PFIRM15_FL</th>\n",
       "      <th>MAPPLUTO_F</th>\n",
       "      <th>SHAPE_Leng</th>\n",
       "      <th>SHAPE_Area</th>\n",
       "    </tr>\n",
       "  </thead>\n",
       "  <tbody>\n",
       "    <tr>\n",
       "      <th>count</th>\n",
       "      <td>390883.000000</td>\n",
       "      <td>390883.0</td>\n",
       "      <td>390883.000000</td>\n",
       "      <td>390883.000000</td>\n",
       "      <td>0.0</td>\n",
       "      <td>390883.000000</td>\n",
       "      <td>390883.000000</td>\n",
       "      <td>390883.000000</td>\n",
       "      <td>390883.000000</td>\n",
       "      <td>3.908830e+05</td>\n",
       "      <td>...</td>\n",
       "      <td>3.037280e+05</td>\n",
       "      <td>303728.000000</td>\n",
       "      <td>303710.000000</td>\n",
       "      <td>3.037280e+05</td>\n",
       "      <td>303728.000000</td>\n",
       "      <td>8653.0</td>\n",
       "      <td>27773.0</td>\n",
       "      <td>303728.000000</td>\n",
       "      <td>303728.000000</td>\n",
       "      <td>3.037280e+05</td>\n",
       "    </tr>\n",
       "    <tr>\n",
       "      <th>mean</th>\n",
       "      <td>195442.000000</td>\n",
       "      <td>3.0</td>\n",
       "      <td>4275.651169</td>\n",
       "      <td>272.509986</td>\n",
       "      <td>NaN</td>\n",
       "      <td>11208.429087</td>\n",
       "      <td>2.486138</td>\n",
       "      <td>0.174142</td>\n",
       "      <td>2.673227</td>\n",
       "      <td>2.368464e+03</td>\n",
       "      <td>...</td>\n",
       "      <td>9.921077e+05</td>\n",
       "      <td>175146.073694</td>\n",
       "      <td>31396.728152</td>\n",
       "      <td>1.927884e+08</td>\n",
       "      <td>1.000145</td>\n",
       "      <td>1.0</td>\n",
       "      <td>1.0</td>\n",
       "      <td>0.000244</td>\n",
       "      <td>337.445796</td>\n",
       "      <td>8.645885e+03</td>\n",
       "    </tr>\n",
       "    <tr>\n",
       "      <th>std</th>\n",
       "      <td>112838.346973</td>\n",
       "      <td>0.0</td>\n",
       "      <td>2642.765332</td>\n",
       "      <td>484.658837</td>\n",
       "      <td>NaN</td>\n",
       "      <td>361.207836</td>\n",
       "      <td>48.200178</td>\n",
       "      <td>1.653362</td>\n",
       "      <td>48.233343</td>\n",
       "      <td>2.509129e+04</td>\n",
       "      <td>...</td>\n",
       "      <td>7.391759e+04</td>\n",
       "      <td>18390.569903</td>\n",
       "      <td>754.905314</td>\n",
       "      <td>7.409608e+08</td>\n",
       "      <td>0.017021</td>\n",
       "      <td>0.0</td>\n",
       "      <td>0.0</td>\n",
       "      <td>0.036740</td>\n",
       "      <td>329.587401</td>\n",
       "      <td>3.116106e+04</td>\n",
       "    </tr>\n",
       "    <tr>\n",
       "      <th>min</th>\n",
       "      <td>1.000000</td>\n",
       "      <td>3.0</td>\n",
       "      <td>1.000000</td>\n",
       "      <td>1.000000</td>\n",
       "      <td>NaN</td>\n",
       "      <td>0.000000</td>\n",
       "      <td>0.000000</td>\n",
       "      <td>0.000000</td>\n",
       "      <td>0.000000</td>\n",
       "      <td>0.000000e+00</td>\n",
       "      <td>...</td>\n",
       "      <td>0.000000e+00</td>\n",
       "      <td>0.000000</td>\n",
       "      <td>3.000000</td>\n",
       "      <td>0.000000e+00</td>\n",
       "      <td>1.000000</td>\n",
       "      <td>1.0</td>\n",
       "      <td>1.0</td>\n",
       "      <td>0.000000</td>\n",
       "      <td>2.143758</td>\n",
       "      <td>1.007072e-01</td>\n",
       "    </tr>\n",
       "    <tr>\n",
       "      <th>25%</th>\n",
       "      <td>97721.500000</td>\n",
       "      <td>3.0</td>\n",
       "      <td>1786.000000</td>\n",
       "      <td>21.000000</td>\n",
       "      <td>NaN</td>\n",
       "      <td>11209.000000</td>\n",
       "      <td>1.000000</td>\n",
       "      <td>0.000000</td>\n",
       "      <td>1.000000</td>\n",
       "      <td>0.000000e+00</td>\n",
       "      <td>...</td>\n",
       "      <td>9.892368e+05</td>\n",
       "      <td>165334.750000</td>\n",
       "      <td>30611.000000</td>\n",
       "      <td>0.000000e+00</td>\n",
       "      <td>1.000000</td>\n",
       "      <td>1.0</td>\n",
       "      <td>1.0</td>\n",
       "      <td>0.000000</td>\n",
       "      <td>238.997798</td>\n",
       "      <td>1.938904e+03</td>\n",
       "    </tr>\n",
       "    <tr>\n",
       "      <th>50%</th>\n",
       "      <td>195442.000000</td>\n",
       "      <td>3.0</td>\n",
       "      <td>4305.000000</td>\n",
       "      <td>45.000000</td>\n",
       "      <td>NaN</td>\n",
       "      <td>11219.000000</td>\n",
       "      <td>1.000000</td>\n",
       "      <td>0.000000</td>\n",
       "      <td>1.000000</td>\n",
       "      <td>1.900000e+03</td>\n",
       "      <td>...</td>\n",
       "      <td>9.975955e+05</td>\n",
       "      <td>175906.000000</td>\n",
       "      <td>31506.000000</td>\n",
       "      <td>0.000000e+00</td>\n",
       "      <td>1.000000</td>\n",
       "      <td>1.0</td>\n",
       "      <td>1.0</td>\n",
       "      <td>0.000000</td>\n",
       "      <td>249.411350</td>\n",
       "      <td>2.316886e+03</td>\n",
       "    </tr>\n",
       "    <tr>\n",
       "      <th>75%</th>\n",
       "      <td>293162.500000</td>\n",
       "      <td>3.0</td>\n",
       "      <td>6585.000000</td>\n",
       "      <td>94.000000</td>\n",
       "      <td>NaN</td>\n",
       "      <td>11230.000000</td>\n",
       "      <td>2.000000</td>\n",
       "      <td>0.000000</td>\n",
       "      <td>2.000000</td>\n",
       "      <td>2.500000e+03</td>\n",
       "      <td>...</td>\n",
       "      <td>1.005059e+06</td>\n",
       "      <td>187140.000000</td>\n",
       "      <td>32005.000000</td>\n",
       "      <td>0.000000e+00</td>\n",
       "      <td>1.000000</td>\n",
       "      <td>1.0</td>\n",
       "      <td>1.0</td>\n",
       "      <td>0.000000</td>\n",
       "      <td>283.169119</td>\n",
       "      <td>3.478477e+03</td>\n",
       "    </tr>\n",
       "    <tr>\n",
       "      <th>max</th>\n",
       "      <td>390883.000000</td>\n",
       "      <td>3.0</td>\n",
       "      <td>8955.000000</td>\n",
       "      <td>9133.000000</td>\n",
       "      <td>NaN</td>\n",
       "      <td>33803.000000</td>\n",
       "      <td>20811.000000</td>\n",
       "      <td>355.000000</td>\n",
       "      <td>20811.000000</td>\n",
       "      <td>7.446955e+06</td>\n",
       "      <td>...</td>\n",
       "      <td>1.024202e+06</td>\n",
       "      <td>208406.000000</td>\n",
       "      <td>32605.000000</td>\n",
       "      <td>3.089321e+09</td>\n",
       "      <td>3.000000</td>\n",
       "      <td>1.0</td>\n",
       "      <td>1.0</td>\n",
       "      <td>7.000000</td>\n",
       "      <td>19861.521019</td>\n",
       "      <td>7.149338e+06</td>\n",
       "    </tr>\n",
       "  </tbody>\n",
       "</table>\n",
       "<p>8 rows × 75 columns</p>\n",
       "</div>"
      ],
      "text/plain": [
       "          Unnamed: 0   borough          block            lot  easement  \\\n",
       "count  390883.000000  390883.0  390883.000000  390883.000000       0.0   \n",
       "mean   195442.000000       3.0    4275.651169     272.509986       NaN   \n",
       "std    112838.346973       0.0    2642.765332     484.658837       NaN   \n",
       "min         1.000000       3.0       1.000000       1.000000       NaN   \n",
       "25%     97721.500000       3.0    1786.000000      21.000000       NaN   \n",
       "50%    195442.000000       3.0    4305.000000      45.000000       NaN   \n",
       "75%    293162.500000       3.0    6585.000000      94.000000       NaN   \n",
       "max    390883.000000       3.0    8955.000000    9133.000000       NaN   \n",
       "\n",
       "            zip_code  residential_units  commercial_units    total_units  \\\n",
       "count  390883.000000      390883.000000     390883.000000  390883.000000   \n",
       "mean    11208.429087           2.486138          0.174142       2.673227   \n",
       "std       361.207836          48.200178          1.653362      48.233343   \n",
       "min         0.000000           0.000000          0.000000       0.000000   \n",
       "25%     11209.000000           1.000000          0.000000       1.000000   \n",
       "50%     11219.000000           1.000000          0.000000       1.000000   \n",
       "75%     11230.000000           2.000000          0.000000       2.000000   \n",
       "max     33803.000000       20811.000000        355.000000   20811.000000   \n",
       "\n",
       "          land_sqft  ...        XCoord         YCoord         TaxMap  \\\n",
       "count  3.908830e+05  ...  3.037280e+05  303728.000000  303710.000000   \n",
       "mean   2.368464e+03  ...  9.921077e+05  175146.073694   31396.728152   \n",
       "std    2.509129e+04  ...  7.391759e+04   18390.569903     754.905314   \n",
       "min    0.000000e+00  ...  0.000000e+00       0.000000       3.000000   \n",
       "25%    0.000000e+00  ...  9.892368e+05  165334.750000   30611.000000   \n",
       "50%    1.900000e+03  ...  9.975955e+05  175906.000000   31506.000000   \n",
       "75%    2.500000e+03  ...  1.005059e+06  187140.000000   32005.000000   \n",
       "max    7.446955e+06  ...  1.024202e+06  208406.000000   32605.000000   \n",
       "\n",
       "             APPBBL     PLUTOMapID  FIRM07_FLA  PFIRM15_FL     MAPPLUTO_F  \\\n",
       "count  3.037280e+05  303728.000000      8653.0     27773.0  303728.000000   \n",
       "mean   1.927884e+08       1.000145         1.0         1.0       0.000244   \n",
       "std    7.409608e+08       0.017021         0.0         0.0       0.036740   \n",
       "min    0.000000e+00       1.000000         1.0         1.0       0.000000   \n",
       "25%    0.000000e+00       1.000000         1.0         1.0       0.000000   \n",
       "50%    0.000000e+00       1.000000         1.0         1.0       0.000000   \n",
       "75%    0.000000e+00       1.000000         1.0         1.0       0.000000   \n",
       "max    3.089321e+09       3.000000         1.0         1.0       7.000000   \n",
       "\n",
       "          SHAPE_Leng    SHAPE_Area  \n",
       "count  303728.000000  3.037280e+05  \n",
       "mean      337.445796  8.645885e+03  \n",
       "std       329.587401  3.116106e+04  \n",
       "min         2.143758  1.007072e-01  \n",
       "25%       238.997798  1.938904e+03  \n",
       "50%       249.411350  2.316886e+03  \n",
       "75%       283.169119  3.478477e+03  \n",
       "max     19861.521019  7.149338e+06  \n",
       "\n",
       "[8 rows x 75 columns]"
      ]
     },
     "execution_count": 395,
     "metadata": {},
     "output_type": "execute_result"
    }
   ],
   "source": [
    "housing_data.describe()"
   ]
  },
  {
   "cell_type": "code",
   "execution_count": 396,
   "metadata": {},
   "outputs": [],
   "source": [
    "features = housing_data.columns.array"
   ]
  },
  {
   "cell_type": "code",
   "execution_count": 397,
   "metadata": {},
   "outputs": [
    {
     "name": "stdout",
     "output_type": "stream",
     "text": [
      "Unnamed: 0\n",
      "borough\n",
      "neighborhood\n",
      "building_class_category\n",
      "tax_class\n",
      "block\n",
      "lot\n",
      "easement\n",
      "building_class\n",
      "address\n",
      "apartment_number\n",
      "zip_code\n",
      "residential_units\n",
      "commercial_units\n",
      "total_units\n",
      "land_sqft\n",
      "gross_sqft\n",
      "year_built\n",
      "tax_class_at_sale\n",
      "building_class_at_sale\n",
      "sale_price\n",
      "sale_date\n",
      "year_of_sale\n",
      "Borough\n",
      "CD\n",
      "CT2010\n",
      "CB2010\n",
      "SchoolDist\n",
      "Council\n",
      "ZipCode\n",
      "FireComp\n",
      "PolicePrct\n",
      "HealthCent\n",
      "HealthArea\n",
      "SanitBoro\n",
      "SanitDistr\n",
      "SanitSub\n",
      "Address\n",
      "ZoneDist1\n",
      "ZoneDist2\n",
      "ZoneDist3\n",
      "ZoneDist4\n",
      "Overlay1\n",
      "Overlay2\n",
      "SPDist1\n",
      "SPDist2\n",
      "SPDist3\n",
      "LtdHeight\n",
      "SplitZone\n",
      "BldgClass\n",
      "LandUse\n",
      "Easements\n",
      "OwnerType\n",
      "OwnerName\n",
      "LotArea\n",
      "BldgArea\n",
      "ComArea\n",
      "ResArea\n",
      "OfficeArea\n",
      "RetailArea\n",
      "GarageArea\n",
      "StrgeArea\n",
      "FactryArea\n",
      "OtherArea\n",
      "AreaSource\n",
      "NumBldgs\n",
      "NumFloors\n",
      "UnitsRes\n",
      "UnitsTotal\n",
      "LotFront\n",
      "LotDepth\n",
      "BldgFront\n",
      "BldgDepth\n",
      "Ext\n",
      "ProxCode\n",
      "IrrLotCode\n",
      "LotType\n",
      "BsmtCode\n",
      "AssessLand\n",
      "AssessTot\n",
      "ExemptLand\n",
      "ExemptTot\n",
      "YearBuilt\n",
      "YearAlter1\n",
      "YearAlter2\n",
      "HistDist\n",
      "Landmark\n",
      "BuiltFAR\n",
      "ResidFAR\n",
      "CommFAR\n",
      "FacilFAR\n",
      "BoroCode\n",
      "BBL\n",
      "CondoNo\n",
      "Tract2010\n",
      "XCoord\n",
      "YCoord\n",
      "ZoneMap\n",
      "ZMCode\n",
      "Sanborn\n",
      "TaxMap\n",
      "EDesigNum\n",
      "APPBBL\n",
      "APPDate\n",
      "PLUTOMapID\n",
      "FIRM07_FLA\n",
      "PFIRM15_FL\n",
      "Version\n",
      "MAPPLUTO_F\n",
      "SHAPE_Leng\n",
      "SHAPE_Area\n"
     ]
    }
   ],
   "source": [
    "for feature in features:\n",
    "    print(feature)"
   ]
  },
  {
   "cell_type": "markdown",
   "metadata": {},
   "source": [
    "### First unnamed one is sequence number in csv.Lets drop it."
   ]
  },
  {
   "cell_type": "code",
   "execution_count": 398,
   "metadata": {},
   "outputs": [
    {
     "data": {
      "text/plain": [
       "pandas.core.frame.DataFrame"
      ]
     },
     "execution_count": 398,
     "metadata": {},
     "output_type": "execute_result"
    }
   ],
   "source": [
    "type(housing_data)"
   ]
  },
  {
   "cell_type": "code",
   "execution_count": 399,
   "metadata": {},
   "outputs": [],
   "source": [
    "housing_data =housing_data.drop([\"Unnamed: 0\"],axis=1)"
   ]
  },
  {
   "cell_type": "code",
   "execution_count": 400,
   "metadata": {},
   "outputs": [
    {
     "data": {
      "text/html": [
       "<div>\n",
       "<style scoped>\n",
       "    .dataframe tbody tr th:only-of-type {\n",
       "        vertical-align: middle;\n",
       "    }\n",
       "\n",
       "    .dataframe tbody tr th {\n",
       "        vertical-align: top;\n",
       "    }\n",
       "\n",
       "    .dataframe thead th {\n",
       "        text-align: right;\n",
       "    }\n",
       "</style>\n",
       "<table border=\"1\" class=\"dataframe\">\n",
       "  <thead>\n",
       "    <tr style=\"text-align: right;\">\n",
       "      <th></th>\n",
       "      <th>borough</th>\n",
       "      <th>neighborhood</th>\n",
       "      <th>building_class_category</th>\n",
       "      <th>tax_class</th>\n",
       "      <th>block</th>\n",
       "      <th>lot</th>\n",
       "      <th>easement</th>\n",
       "      <th>building_class</th>\n",
       "      <th>address</th>\n",
       "      <th>apartment_number</th>\n",
       "      <th>...</th>\n",
       "      <th>EDesigNum</th>\n",
       "      <th>APPBBL</th>\n",
       "      <th>APPDate</th>\n",
       "      <th>PLUTOMapID</th>\n",
       "      <th>FIRM07_FLA</th>\n",
       "      <th>PFIRM15_FL</th>\n",
       "      <th>Version</th>\n",
       "      <th>MAPPLUTO_F</th>\n",
       "      <th>SHAPE_Leng</th>\n",
       "      <th>SHAPE_Area</th>\n",
       "    </tr>\n",
       "  </thead>\n",
       "  <tbody>\n",
       "    <tr>\n",
       "      <th>0</th>\n",
       "      <td>3</td>\n",
       "      <td>DOWNTOWN-METROTECH</td>\n",
       "      <td>28  COMMERCIAL CONDOS</td>\n",
       "      <td>4</td>\n",
       "      <td>140</td>\n",
       "      <td>1001</td>\n",
       "      <td>NaN</td>\n",
       "      <td>R5</td>\n",
       "      <td>330 JAY STREET</td>\n",
       "      <td>COURT</td>\n",
       "      <td>...</td>\n",
       "      <td>NaN</td>\n",
       "      <td>NaN</td>\n",
       "      <td>NaN</td>\n",
       "      <td>NaN</td>\n",
       "      <td>NaN</td>\n",
       "      <td>NaN</td>\n",
       "      <td>NaN</td>\n",
       "      <td>NaN</td>\n",
       "      <td>NaN</td>\n",
       "      <td>NaN</td>\n",
       "    </tr>\n",
       "  </tbody>\n",
       "</table>\n",
       "<p>1 rows × 110 columns</p>\n",
       "</div>"
      ],
      "text/plain": [
       "   borough        neighborhood building_class_category tax_class  block   lot  \\\n",
       "0        3  DOWNTOWN-METROTECH   28  COMMERCIAL CONDOS         4    140  1001   \n",
       "\n",
       "   easement building_class         address apartment_number  ...  EDesigNum  \\\n",
       "0       NaN             R5  330 JAY STREET            COURT  ...        NaN   \n",
       "\n",
       "   APPBBL  APPDate  PLUTOMapID  FIRM07_FLA  PFIRM15_FL  Version  MAPPLUTO_F  \\\n",
       "0     NaN      NaN         NaN         NaN         NaN      NaN         NaN   \n",
       "\n",
       "  SHAPE_Leng  SHAPE_Area  \n",
       "0        NaN         NaN  \n",
       "\n",
       "[1 rows x 110 columns]"
      ]
     },
     "execution_count": 400,
     "metadata": {},
     "output_type": "execute_result"
    }
   ],
   "source": [
    "housing_data.head(1)"
   ]
  },
  {
   "cell_type": "markdown",
   "metadata": {},
   "source": [
    "### Reading all features and try to get sense of what feature means what"
   ]
  },
  {
   "cell_type": "code",
   "execution_count": 401,
   "metadata": {},
   "outputs": [],
   "source": [
    "tax_class=housing_data[\"tax_class\"]"
   ]
  },
  {
   "cell_type": "code",
   "execution_count": 402,
   "metadata": {},
   "outputs": [
    {
     "data": {
      "text/plain": [
       "1     198969\n",
       "2      87640\n",
       "4      35331\n",
       "2A     25956\n",
       "2C     14402\n",
       "1A      7814\n",
       "2B      7302\n",
       "1B      5067\n",
       "1C      1450\n",
       "3         18\n",
       "Name: tax_class, dtype: int64"
      ]
     },
     "execution_count": 402,
     "metadata": {},
     "output_type": "execute_result"
    }
   ],
   "source": [
    "tax_class.value_counts()"
   ]
  },
  {
   "cell_type": "code",
   "execution_count": 403,
   "metadata": {},
   "outputs": [],
   "source": [
    "from matplotlib import pyplot as plt"
   ]
  },
  {
   "cell_type": "code",
   "execution_count": 404,
   "metadata": {},
   "outputs": [
    {
     "data": {
      "text/plain": [
       "<matplotlib.collections.PathCollection at 0x18468e048>"
      ]
     },
     "execution_count": 404,
     "metadata": {},
     "output_type": "execute_result"
    },
    {
     "data": {
      "image/png": "[encoded data removed]",
      "text/plain": [
       "<Figure size 432x288 with 1 Axes>"
      ]
     },
     "metadata": {
      "needs_background": "light"
     },
     "output_type": "display_data"
    }
   ],
   "source": [
    "plt.scatter(x=housing_data[\"year_of_sale\"],y=housing_data[\"sale_price\"])"
   ]
  },
  {
   "cell_type": "code",
   "execution_count": 405,
   "metadata": {},
   "outputs": [
    {
     "data": {
      "text/html": [
       "<div>\n",
       "<style scoped>\n",
       "    .dataframe tbody tr th:only-of-type {\n",
       "        vertical-align: middle;\n",
       "    }\n",
       "\n",
       "    .dataframe tbody tr th {\n",
       "        vertical-align: top;\n",
       "    }\n",
       "\n",
       "    .dataframe thead th {\n",
       "        text-align: right;\n",
       "    }\n",
       "</style>\n",
       "<table border=\"1\" class=\"dataframe\">\n",
       "  <thead>\n",
       "    <tr style=\"text-align: right;\">\n",
       "      <th></th>\n",
       "      <th>borough</th>\n",
       "      <th>neighborhood</th>\n",
       "      <th>building_class_category</th>\n",
       "      <th>tax_class</th>\n",
       "      <th>block</th>\n",
       "      <th>lot</th>\n",
       "      <th>easement</th>\n",
       "      <th>building_class</th>\n",
       "      <th>address</th>\n",
       "      <th>apartment_number</th>\n",
       "      <th>...</th>\n",
       "      <th>EDesigNum</th>\n",
       "      <th>APPBBL</th>\n",
       "      <th>APPDate</th>\n",
       "      <th>PLUTOMapID</th>\n",
       "      <th>FIRM07_FLA</th>\n",
       "      <th>PFIRM15_FL</th>\n",
       "      <th>Version</th>\n",
       "      <th>MAPPLUTO_F</th>\n",
       "      <th>SHAPE_Leng</th>\n",
       "      <th>SHAPE_Area</th>\n",
       "    </tr>\n",
       "  </thead>\n",
       "  <tbody>\n",
       "    <tr>\n",
       "      <th>195441</th>\n",
       "      <td>3</td>\n",
       "      <td>FLATLANDS</td>\n",
       "      <td>02 TWO FAMILY HOMES</td>\n",
       "      <td>1</td>\n",
       "      <td>7761</td>\n",
       "      <td>45</td>\n",
       "      <td>NaN</td>\n",
       "      <td>B1</td>\n",
       "      <td>5712 AVENUE H</td>\n",
       "      <td>NaN</td>\n",
       "      <td>...</td>\n",
       "      <td>NaN</td>\n",
       "      <td>0.0</td>\n",
       "      <td>NaN</td>\n",
       "      <td>1.0</td>\n",
       "      <td>NaN</td>\n",
       "      <td>NaN</td>\n",
       "      <td>17V1.1</td>\n",
       "      <td>0.0</td>\n",
       "      <td>227.222452</td>\n",
       "      <td>1724.950388</td>\n",
       "    </tr>\n",
       "  </tbody>\n",
       "</table>\n",
       "<p>1 rows × 110 columns</p>\n",
       "</div>"
      ],
      "text/plain": [
       "        borough neighborhood building_class_category tax_class  block  lot  \\\n",
       "195441        3    FLATLANDS     02 TWO FAMILY HOMES         1   7761   45   \n",
       "\n",
       "        easement building_class        address apartment_number  ...  \\\n",
       "195441       NaN             B1  5712 AVENUE H              NaN  ...   \n",
       "\n",
       "        EDesigNum  APPBBL  APPDate  PLUTOMapID  FIRM07_FLA  PFIRM15_FL  \\\n",
       "195441        NaN     0.0      NaN         1.0         NaN         NaN   \n",
       "\n",
       "        Version  MAPPLUTO_F  SHAPE_Leng   SHAPE_Area  \n",
       "195441   17V1.1         0.0  227.222452  1724.950388  \n",
       "\n",
       "[1 rows x 110 columns]"
      ]
     },
     "execution_count": 405,
     "metadata": {},
     "output_type": "execute_result"
    }
   ],
   "source": [
    "housing_data.sort_values(by=\"sale_price\",ascending=False).tail(1)"
   ]
  },
  {
   "cell_type": "code",
   "execution_count": 406,
   "metadata": {},
   "outputs": [
    {
     "data": {
      "text/plain": [
       "count       390883.000000\n",
       "mean        506754.477693\n",
       "std        2353964.664225\n",
       "min              0.000000\n",
       "25%              0.000000\n",
       "50%         275000.000000\n",
       "75%         593000.000000\n",
       "max      499401179.000000\n",
       "Name: sale_price, dtype: object"
      ]
     },
     "execution_count": 406,
     "metadata": {},
     "output_type": "execute_result"
    }
   ],
   "source": [
    "housing_data['sale_price'].describe().apply(lambda x: format(x,'f'))"
   ]
  },
  {
   "cell_type": "code",
   "execution_count": 407,
   "metadata": {},
   "outputs": [],
   "source": [
    "zero_price_houses = housing_data[housing_data['sale_price']==0]"
   ]
  },
  {
   "cell_type": "code",
   "execution_count": 408,
   "metadata": {},
   "outputs": [
    {
     "data": {
      "text/plain": [
       "140143"
      ]
     },
     "execution_count": 408,
     "metadata": {},
     "output_type": "execute_result"
    }
   ],
   "source": [
    "len(zero_price_houses)"
   ]
  },
  {
   "cell_type": "code",
   "execution_count": 409,
   "metadata": {},
   "outputs": [
    {
     "name": "stdout",
     "output_type": "stream",
     "text": [
      "<class 'pandas.core.frame.DataFrame'>\n",
      "RangeIndex: 390883 entries, 0 to 390882\n",
      "Columns: 110 entries, borough to SHAPE_Area\n",
      "dtypes: float64(64), int64(10), object(36)\n",
      "memory usage: 328.0+ MB\n"
     ]
    }
   ],
   "source": [
    "housing_data.info()"
   ]
  },
  {
   "cell_type": "markdown",
   "metadata": {},
   "source": [
    "### There are 140143 instances where sale price is zero. Remove them"
   ]
  },
  {
   "cell_type": "code",
   "execution_count": 410,
   "metadata": {},
   "outputs": [],
   "source": [
    "housing_data = housing_data[housing_data['sale_price']>0]"
   ]
  },
  {
   "cell_type": "code",
   "execution_count": 411,
   "metadata": {},
   "outputs": [
    {
     "data": {
      "text/plain": [
       "count       250740.000000\n",
       "mean        789988.476127\n",
       "std        2900768.102545\n",
       "min              1.000000\n",
       "25%         300000.000000\n",
       "50%         496860.000000\n",
       "75%         755000.000000\n",
       "max      499401179.000000\n",
       "Name: sale_price, dtype: object"
      ]
     },
     "execution_count": 411,
     "metadata": {},
     "output_type": "execute_result"
    }
   ],
   "source": [
    "housing_data['sale_price'].describe().apply(lambda x: format(x,'f'))"
   ]
  },
  {
   "cell_type": "code",
   "execution_count": 412,
   "metadata": {},
   "outputs": [
    {
     "data": {
      "text/plain": [
       "([bad, bad, medium, good, good]\n",
       " Categories (3, object): [bad < medium < good], array([ 0,  5, 10, 16]))"
      ]
     },
     "execution_count": 412,
     "metadata": {},
     "output_type": "execute_result"
    }
   ],
   "source": [
    "import numpy as np\n",
    "pd.cut(np.array([1,4,8,12,16]), bins=[0,5,10,16], retbins=True,labels=['bad','medium','good'])"
   ]
  },
  {
   "cell_type": "markdown",
   "metadata": {},
   "source": [
    "### Using cut function to put price values in bins"
   ]
  },
  {
   "cell_type": "code",
   "execution_count": 413,
   "metadata": {},
   "outputs": [],
   "source": [
    "price_range_label = ['0-200k','200k-500k','500k-800k','800k-1min','1min-10min','10min-100min','100min-500min']\n",
    "bins_range = [0,200000,500000,800000,1000000,10000000,100000000,500000000]\n",
    "housing_data['price_range']=pd.cut(housing_data['sale_price'],bins=bins_range,labels=price_range_label)"
   ]
  },
  {
   "cell_type": "code",
   "execution_count": 414,
   "metadata": {},
   "outputs": [
    {
     "data": {
      "text/html": [
       "<div>\n",
       "<style scoped>\n",
       "    .dataframe tbody tr th:only-of-type {\n",
       "        vertical-align: middle;\n",
       "    }\n",
       "\n",
       "    .dataframe tbody tr th {\n",
       "        vertical-align: top;\n",
       "    }\n",
       "\n",
       "    .dataframe thead th {\n",
       "        text-align: right;\n",
       "    }\n",
       "</style>\n",
       "<table border=\"1\" class=\"dataframe\">\n",
       "  <thead>\n",
       "    <tr style=\"text-align: right;\">\n",
       "      <th></th>\n",
       "      <th>price_range</th>\n",
       "      <th>sale_price</th>\n",
       "    </tr>\n",
       "  </thead>\n",
       "  <tbody>\n",
       "    <tr>\n",
       "      <th>0</th>\n",
       "      <td>100min-500min</td>\n",
       "      <td>499401179.0</td>\n",
       "    </tr>\n",
       "    <tr>\n",
       "      <th>1</th>\n",
       "      <td>100min-500min</td>\n",
       "      <td>345000000.0</td>\n",
       "    </tr>\n",
       "    <tr>\n",
       "      <th>2</th>\n",
       "      <td>100min-500min</td>\n",
       "      <td>340000000.0</td>\n",
       "    </tr>\n",
       "    <tr>\n",
       "      <th>3</th>\n",
       "      <td>100min-500min</td>\n",
       "      <td>276947000.0</td>\n",
       "    </tr>\n",
       "    <tr>\n",
       "      <th>4</th>\n",
       "      <td>100min-500min</td>\n",
       "      <td>202500000.0</td>\n",
       "    </tr>\n",
       "  </tbody>\n",
       "</table>\n",
       "</div>"
      ],
      "text/plain": [
       "     price_range   sale_price\n",
       "0  100min-500min  499401179.0\n",
       "1  100min-500min  345000000.0\n",
       "2  100min-500min  340000000.0\n",
       "3  100min-500min  276947000.0\n",
       "4  100min-500min  202500000.0"
      ]
     },
     "execution_count": 414,
     "metadata": {},
     "output_type": "execute_result"
    }
   ],
   "source": [
    "housing_data[['price_range','sale_price']].head()"
   ]
  },
  {
   "cell_type": "code",
   "execution_count": 415,
   "metadata": {},
   "outputs": [],
   "source": [
    "housing_data_test = housing_data[:5]"
   ]
  },
  {
   "cell_type": "code",
   "execution_count": 416,
   "metadata": {},
   "outputs": [],
   "source": [
    "price_RangeDF = housing_data_test[['year_of_sale','price_range']]"
   ]
  },
  {
   "cell_type": "code",
   "execution_count": 417,
   "metadata": {},
   "outputs": [
    {
     "data": {
      "text/html": [
       "<div>\n",
       "<style scoped>\n",
       "    .dataframe tbody tr th:only-of-type {\n",
       "        vertical-align: middle;\n",
       "    }\n",
       "\n",
       "    .dataframe tbody tr th {\n",
       "        vertical-align: top;\n",
       "    }\n",
       "\n",
       "    .dataframe thead th {\n",
       "        text-align: right;\n",
       "    }\n",
       "</style>\n",
       "<table border=\"1\" class=\"dataframe\">\n",
       "  <thead>\n",
       "    <tr style=\"text-align: right;\">\n",
       "      <th></th>\n",
       "      <th>year_of_sale</th>\n",
       "      <th>price_range</th>\n",
       "    </tr>\n",
       "  </thead>\n",
       "  <tbody>\n",
       "    <tr>\n",
       "      <th>0</th>\n",
       "      <td>2008</td>\n",
       "      <td>100min-500min</td>\n",
       "    </tr>\n",
       "    <tr>\n",
       "      <th>1</th>\n",
       "      <td>2016</td>\n",
       "      <td>100min-500min</td>\n",
       "    </tr>\n",
       "    <tr>\n",
       "      <th>2</th>\n",
       "      <td>2016</td>\n",
       "      <td>100min-500min</td>\n",
       "    </tr>\n",
       "    <tr>\n",
       "      <th>3</th>\n",
       "      <td>2012</td>\n",
       "      <td>100min-500min</td>\n",
       "    </tr>\n",
       "    <tr>\n",
       "      <th>4</th>\n",
       "      <td>2017</td>\n",
       "      <td>100min-500min</td>\n",
       "    </tr>\n",
       "  </tbody>\n",
       "</table>\n",
       "</div>"
      ],
      "text/plain": [
       "   year_of_sale    price_range\n",
       "0          2008  100min-500min\n",
       "1          2016  100min-500min\n",
       "2          2016  100min-500min\n",
       "3          2012  100min-500min\n",
       "4          2017  100min-500min"
      ]
     },
     "execution_count": 417,
     "metadata": {},
     "output_type": "execute_result"
    }
   ],
   "source": [
    "price_RangeDF"
   ]
  },
  {
   "cell_type": "code",
   "execution_count": 418,
   "metadata": {},
   "outputs": [],
   "source": [
    "housing_data_test_count=housing_data_test.groupby(['year_of_sale'])['price_range'].value_counts()"
   ]
  },
  {
   "cell_type": "code",
   "execution_count": 419,
   "metadata": {},
   "outputs": [
    {
     "data": {
      "text/plain": [
       "year_of_sale  price_range  \n",
       "2008          100min-500min    1\n",
       "2012          100min-500min    1\n",
       "2016          100min-500min    2\n",
       "2017          100min-500min    1\n",
       "Name: price_range, dtype: int64"
      ]
     },
     "execution_count": 419,
     "metadata": {},
     "output_type": "execute_result"
    }
   ],
   "source": [
    "housing_data_test_count"
   ]
  },
  {
   "cell_type": "code",
   "execution_count": 420,
   "metadata": {},
   "outputs": [
    {
     "data": {
      "text/plain": [
       "<matplotlib.axes._subplots.AxesSubplot at 0x18468e6d8>"
      ]
     },
     "execution_count": 420,
     "metadata": {},
     "output_type": "execute_result"
    },
    {
     "data": {
      "image/png": "[encoded data removed]",
      "text/plain": [
       "<Figure size 432x288 with 1 Axes>"
      ]
     },
     "metadata": {
      "needs_background": "light"
     },
     "output_type": "display_data"
    }
   ],
   "source": [
    "housing_data_test.groupby(['year_of_sale'])['price_range'].size().plot(kind='bar')"
   ]
  },
  {
   "cell_type": "code",
   "execution_count": 421,
   "metadata": {},
   "outputs": [
    {
     "data": {
      "text/plain": [
       "<matplotlib.axes._subplots.AxesSubplot at 0xc3705f28>"
      ]
     },
     "execution_count": 421,
     "metadata": {},
     "output_type": "execute_result"
    },
    {
     "data": {
      "image/png": "[encoded data removed]",
      "text/plain": [
       "<Figure size 432x288 with 1 Axes>"
      ]
     },
     "metadata": {
      "needs_background": "light"
     },
     "output_type": "display_data"
    }
   ],
   "source": [
    "housing_data.groupby(['year_of_sale','price_range']).size().unstack().plot(kind='bar',stacked=True)"
   ]
  },
  {
   "cell_type": "code",
   "execution_count": 422,
   "metadata": {},
   "outputs": [],
   "source": [
    "def conv(year):\n",
    "    return housing_data[housing_data['year_of_sale']==year].groupby('price_range').size()"
   ]
  },
  {
   "cell_type": "code",
   "execution_count": 423,
   "metadata": {},
   "outputs": [],
   "source": [
    "housing_data_conv = conv(2010)"
   ]
  },
  {
   "cell_type": "code",
   "execution_count": 424,
   "metadata": {},
   "outputs": [
    {
     "data": {
      "text/plain": [
       "price_range\n",
       "0-200k           12.406110\n",
       "200k-500k        41.412777\n",
       "500k-800k        29.242974\n",
       "800k-1min         7.950038\n",
       "1min-10min        8.777112\n",
       "10min-100min      0.210988\n",
       "100min-500min     0.000000\n",
       "dtype: float64"
      ]
     },
     "execution_count": 424,
     "metadata": {},
     "output_type": "execute_result"
    }
   ],
   "source": [
    "x=housing_data_conv\n",
    "percentage_total = x/sum(x)*100\n",
    "percentage_total"
   ]
  },
  {
   "cell_type": "code",
   "execution_count": 425,
   "metadata": {},
   "outputs": [
    {
     "data": {
      "text/html": [
       "<div>\n",
       "<style scoped>\n",
       "    .dataframe tbody tr th:only-of-type {\n",
       "        vertical-align: middle;\n",
       "    }\n",
       "\n",
       "    .dataframe tbody tr th {\n",
       "        vertical-align: top;\n",
       "    }\n",
       "\n",
       "    .dataframe thead th {\n",
       "        text-align: right;\n",
       "    }\n",
       "</style>\n",
       "<table border=\"1\" class=\"dataframe\">\n",
       "  <thead>\n",
       "    <tr style=\"text-align: right;\">\n",
       "      <th>price_range</th>\n",
       "      <th>0-200k</th>\n",
       "      <th>200k-500k</th>\n",
       "      <th>500k-800k</th>\n",
       "      <th>800k-1min</th>\n",
       "      <th>1min-10min</th>\n",
       "      <th>10min-100min</th>\n",
       "      <th>100min-500min</th>\n",
       "    </tr>\n",
       "  </thead>\n",
       "  <tbody>\n",
       "    <tr>\n",
       "      <th>2003</th>\n",
       "      <td>25.461646</td>\n",
       "      <td>54.915385</td>\n",
       "      <td>13.335905</td>\n",
       "      <td>2.603539</td>\n",
       "      <td>3.567813</td>\n",
       "      <td>0.115713</td>\n",
       "      <td>0.000000</td>\n",
       "    </tr>\n",
       "    <tr>\n",
       "      <th>2004</th>\n",
       "      <td>21.107296</td>\n",
       "      <td>51.064378</td>\n",
       "      <td>19.313305</td>\n",
       "      <td>3.793991</td>\n",
       "      <td>4.557940</td>\n",
       "      <td>0.158798</td>\n",
       "      <td>0.004292</td>\n",
       "    </tr>\n",
       "    <tr>\n",
       "      <th>2005</th>\n",
       "      <td>14.819097</td>\n",
       "      <td>42.641833</td>\n",
       "      <td>29.685292</td>\n",
       "      <td>5.634768</td>\n",
       "      <td>6.962107</td>\n",
       "      <td>0.252623</td>\n",
       "      <td>0.004282</td>\n",
       "    </tr>\n",
       "    <tr>\n",
       "      <th>2006</th>\n",
       "      <td>12.325593</td>\n",
       "      <td>33.814513</td>\n",
       "      <td>37.816830</td>\n",
       "      <td>7.261140</td>\n",
       "      <td>8.448800</td>\n",
       "      <td>0.328296</td>\n",
       "      <td>0.004828</td>\n",
       "    </tr>\n",
       "    <tr>\n",
       "      <th>2007</th>\n",
       "      <td>11.976928</td>\n",
       "      <td>32.018284</td>\n",
       "      <td>35.517223</td>\n",
       "      <td>9.658813</td>\n",
       "      <td>10.496817</td>\n",
       "      <td>0.326495</td>\n",
       "      <td>0.005442</td>\n",
       "    </tr>\n",
       "  </tbody>\n",
       "</table>\n",
       "</div>"
      ],
      "text/plain": [
       "price_range     0-200k  200k-500k  500k-800k  800k-1min  1min-10min  \\\n",
       "2003         25.461646  54.915385  13.335905   2.603539    3.567813   \n",
       "2004         21.107296  51.064378  19.313305   3.793991    4.557940   \n",
       "2005         14.819097  42.641833  29.685292   5.634768    6.962107   \n",
       "2006         12.325593  33.814513  37.816830   7.261140    8.448800   \n",
       "2007         11.976928  32.018284  35.517223   9.658813   10.496817   \n",
       "\n",
       "price_range  10min-100min  100min-500min  \n",
       "2003             0.115713       0.000000  \n",
       "2004             0.158798       0.004292  \n",
       "2005             0.252623       0.004282  \n",
       "2006             0.328296       0.004828  \n",
       "2007             0.326495       0.005442  "
      ]
     },
     "execution_count": 425,
     "metadata": {},
     "output_type": "execute_result"
    }
   ],
   "source": [
    "year_names = list(range(2003,2018))\n",
    "perc_total = []\n",
    "\n",
    "for year in year_names:\n",
    "    x=conv(year)\n",
    "    percentage_total = x/sum(x)*100\n",
    "    perc_total.append(percentage_total)\n",
    "    \n",
    "df_years = pd.DataFrame(perc_total, index= year_names)\n",
    "df_years.head()"
   ]
  },
  {
   "cell_type": "code",
   "execution_count": 426,
   "metadata": {},
   "outputs": [
    {
     "data": {
      "text/plain": [
       "<matplotlib.axes._subplots.AxesSubplot at 0x17e081710>"
      ]
     },
     "execution_count": 426,
     "metadata": {},
     "output_type": "execute_result"
    },
    {
     "data": {
      "image/png": "[encoded data removed]",
      "text/plain": [
       "<Figure size 432x288 with 1 Axes>"
      ]
     },
     "metadata": {
      "needs_background": "light"
     },
     "output_type": "display_data"
    }
   ],
   "source": [
    "df_years.plot(kind='bar')\n"
   ]
  },
  {
   "cell_type": "markdown",
   "metadata": {},
   "source": [
    "housing_df2.plot(kind='bar')"
   ]
  },
  {
   "cell_type": "markdown",
   "metadata": {},
   "source": [
    "### Lavender and red colours bars are going higher every year suggesting that buyers of high range price are increasing. Lets analyse neighborhood\n",
    "\n"
   ]
  },
  {
   "cell_type": "code",
   "execution_count": 427,
   "metadata": {},
   "outputs": [
    {
     "data": {
      "image/png": "[encoded data removed]",
      "text/plain": [
       "<Figure size 1080x360 with 1 Axes>"
      ]
     },
     "metadata": {
      "needs_background": "light"
     },
     "output_type": "display_data"
    }
   ],
   "source": [
    "%matplotlib inline\n",
    "housing_data.groupby(['neighborhood','price_range']).size().unstack().plot(kind='bar',stacked=True,figsize=(15,5))\n",
    "plt.show()"
   ]
  },
  {
   "cell_type": "markdown",
   "metadata": {},
   "source": [
    "### Removing outliers using Interquartile Range"
   ]
  },
  {
   "cell_type": "code",
   "execution_count": 428,
   "metadata": {},
   "outputs": [],
   "source": [
    "def remove_outlier(df, col):\n",
    "    q1 = df[col].quantile(0.25)\n",
    "    q3 = df[col].quantile(0.75)\n",
    "    iqr = q3 - q1\n",
    "    lower_bound  = q1 - (1.5  * iqr)\n",
    "    upper_bound = q3 + (1.5 * iqr)\n",
    "    out_df = df.loc[(df[col] > lower_bound) & (df[col] < upper_bound)]\n",
    "    return out_df\n",
    "\n",
    "housing_data_cleaned = remove_outlier(housing_data,\"sale_price\")\n",
    "\n"
   ]
  },
  {
   "cell_type": "code",
   "execution_count": 429,
   "metadata": {},
   "outputs": [
    {
     "data": {
      "text/plain": [
       "231108"
      ]
     },
     "execution_count": 429,
     "metadata": {},
     "output_type": "execute_result"
    }
   ],
   "source": [
    "len(housing_data_cleaned)"
   ]
  },
  {
   "cell_type": "markdown",
   "metadata": {},
   "source": [
    "### Dropping all columns which have less than 75 % non NA values"
   ]
  },
  {
   "cell_type": "code",
   "execution_count": 430,
   "metadata": {},
   "outputs": [],
   "source": [
    "threshold = len(housing_data_cleaned)*0.75"
   ]
  },
  {
   "cell_type": "code",
   "execution_count": 431,
   "metadata": {},
   "outputs": [
    {
     "name": "stderr",
     "output_type": "stream",
     "text": [
      "c:\\python27\\lib\\site-packages\\ipykernel_launcher.py:1: SettingWithCopyWarning: \n",
      "A value is trying to be set on a copy of a slice from a DataFrame\n",
      "\n",
      "See the caveats in the documentation: http://pandas.pydata.org/pandas-docs/stable/indexing.html#indexing-view-versus-copy\n",
      "  \"\"\"Entry point for launching an IPython kernel.\n"
     ]
    }
   ],
   "source": [
    "housing_data_cleaned.dropna(thresh=threshold,axis=1,inplace=True)"
   ]
  },
  {
   "cell_type": "markdown",
   "metadata": {},
   "source": [
    "### Remove unused or duplicate columns"
   ]
  },
  {
   "cell_type": "code",
   "execution_count": 433,
   "metadata": {},
   "outputs": [],
   "source": [
    "housing_data_cleaned = housing_data_cleaned.drop(['APPBBL','BoroCode','Borough','BBL','PLUTOMapID','YearBuilt','CondoNo','BuiltFAR','FireComp','MAPPLUTO_F','Sanborn','SanitBoro','Version', 'block','borough','Address','OwnerName','zip_code'],axis=1)"
   ]
  },
  {
   "cell_type": "code",
   "execution_count": 435,
   "metadata": {},
   "outputs": [
    {
     "data": {
      "text/plain": [
       "(231108, 73)"
      ]
     },
     "execution_count": 435,
     "metadata": {},
     "output_type": "execute_result"
    }
   ],
   "source": [
    "housing_data_cleaned.shape"
   ]
  },
  {
   "cell_type": "code",
   "execution_count": 381,
   "metadata": {},
   "outputs": [],
   "source": [
    "#13, 13, 13, 13, 14, 14, 16, 18, 21\n",
    "\n",
    "#So the median is 14.\n",
    "\n",
    "#The mode is the number that is repeated more often than any other, so 13 is the mode.\n",
    "\n",
    "#housing_data_cleaned.head(5)['BsmtCode']"
   ]
  },
  {
   "cell_type": "code",
   "execution_count": 436,
   "metadata": {},
   "outputs": [],
   "source": [
    "housing_data_cleaned['BsmtCode'] = housing_data_cleaned['BsmtCode'].fillna(5)"
   ]
  },
  {
   "cell_type": "markdown",
   "metadata": {},
   "source": [
    "### Fill NA data with 0"
   ]
  },
  {
   "cell_type": "code",
   "execution_count": 437,
   "metadata": {},
   "outputs": [],
   "source": [
    "#Community Area- not applicable or available if Na\n",
    "housing_data_cleaned[['ComArea','CommFAR','FacilFAR','FactryArea','RetailArea','ProxCode','YearAlter1','YearAlter2']] = housing_data_cleaned[['ComArea','CommFAR','FacilFAR','FactryArea','RetailArea','ProxCode','YearAlter1','YearAlter2']].fillna(0)\n"
   ]
  },
  {
   "cell_type": "markdown",
   "metadata": {},
   "source": [
    "### Fill NA data with mode"
   ]
  },
  {
   "cell_type": "code",
   "execution_count": 438,
   "metadata": {},
   "outputs": [],
   "source": [
    "housing_data_cleaned[['XCoord','YCoord','ZipCode','LotType','SanitDistr','HealthArea','HealthCent','PolicePrct','SchoolDist','tax_class_at_sale','CD','Council']] = housing_data[['XCoord','YCoord','ZipCode','LotType','SanitDistr','HealthArea','HealthCent','PolicePrct','SchoolDist','tax_class_at_sale','CD','Council']].apply(lambda x: x.fillna(x.mode()[0]))"
   ]
  },
  {
   "cell_type": "code",
   "execution_count": 442,
   "metadata": {},
   "outputs": [],
   "source": [
    "housing_data_cleaned.shape\n",
    "housing_data_cleaned_backup=housing_data_cleaned"
   ]
  },
  {
   "cell_type": "code",
   "execution_count": 448,
   "metadata": {},
   "outputs": [],
   "source": [
    "housing_data_cleaned_rm=housing_data_cleaned.drop(columns=housing_data_cleaned_num_col.columns,axis=1)"
   ]
  },
  {
   "cell_type": "markdown",
   "metadata": {},
   "source": [
    "housing_data_cleaned.info()"
   ]
  },
  {
   "cell_type": "code",
   "execution_count": 455,
   "metadata": {},
   "outputs": [
    {
     "data": {
      "text/plain": [
       "(231108, 14)"
      ]
     },
     "execution_count": 455,
     "metadata": {},
     "output_type": "execute_result"
    }
   ],
   "source": [
    "housing_data_cleaned_rm.shape"
   ]
  },
  {
   "cell_type": "code",
   "execution_count": 478,
   "metadata": {},
   "outputs": [
    {
     "ename": "TypeError",
     "evalue": "join() got an unexpected keyword argument 'right_index'",
     "output_type": "error",
     "traceback": [
      "\u001b[1;31m---------------------------------------------------------------------------\u001b[0m",
      "\u001b[1;31mTypeError\u001b[0m                                 Traceback (most recent call last)",
      "\u001b[1;32m<ipython-input-478-47bbf22a0aea>\u001b[0m in \u001b[0;36m<module>\u001b[1;34m()\u001b[0m\n\u001b[1;32m----> 1\u001b[1;33m \u001b[0mhousing_data_cleaned_refined_withoutNAN\u001b[0m\u001b[1;33m=\u001b[0m\u001b[0mhousing_data_cleaned_rm\u001b[0m\u001b[1;33m.\u001b[0m\u001b[0mjoin\u001b[0m\u001b[1;33m(\u001b[0m\u001b[0mother\u001b[0m\u001b[1;33m=\u001b[0m\u001b[0mimputed_df\u001b[0m\u001b[1;33m,\u001b[0m\u001b[0mhow\u001b[0m\u001b[1;33m=\u001b[0m\u001b[1;34m'left'\u001b[0m\u001b[1;33m,\u001b[0m\u001b[0mright_index\u001b[0m\u001b[1;33m=\u001b[0m\u001b[0mTrue\u001b[0m\u001b[1;33m,\u001b[0m \u001b[0mleft_index\u001b[0m\u001b[1;33m=\u001b[0m\u001b[0mTrue\u001b[0m\u001b[1;33m)\u001b[0m\u001b[1;33m\u001b[0m\u001b[0m\n\u001b[0m",
      "\u001b[1;31mTypeError\u001b[0m: join() got an unexpected keyword argument 'right_index'"
     ]
    }
   ],
   "source": [
    "housing_data_cleaned_refined_withoutNAN=housing_data_cleaned_rm.join(other=imputed_df,how='left',right_index=True, left_index=True)"
   ]
  },
  {
   "cell_type": "markdown",
   "metadata": {},
   "source": [
    "### Here i am stuck"
   ]
  },
  {
   "cell_type": "code",
   "execution_count": 477,
   "metadata": {},
   "outputs": [
    {
     "ename": "MergeError",
     "evalue": "No common columns to perform merge on. Merge options: left_on=None, right_on=None, left_index=False, right_index=False",
     "output_type": "error",
     "traceback": [
      "\u001b[1;31m---------------------------------------------------------------------------\u001b[0m",
      "\u001b[1;31mMergeError\u001b[0m                                Traceback (most recent call last)",
      "\u001b[1;32m<ipython-input-477-779e4e12b140>\u001b[0m in \u001b[0;36m<module>\u001b[1;34m()\u001b[0m\n\u001b[0;32m      2\u001b[0m \u001b[0mdf2\u001b[0m\u001b[1;33m=\u001b[0m\u001b[0mimputed_df\u001b[0m\u001b[1;33m\u001b[0m\u001b[0m\n\u001b[0;32m      3\u001b[0m \u001b[1;33m\u001b[0m\u001b[0m\n\u001b[1;32m----> 4\u001b[1;33m \u001b[0mdf_combine\u001b[0m \u001b[1;33m=\u001b[0m \u001b[0mpd\u001b[0m\u001b[1;33m.\u001b[0m\u001b[0mmerge\u001b[0m\u001b[1;33m(\u001b[0m\u001b[0mdf1\u001b[0m\u001b[1;33m,\u001b[0m \u001b[0mdf2\u001b[0m\u001b[1;33m)\u001b[0m\u001b[1;33m\u001b[0m\u001b[0m\n\u001b[0m",
      "\u001b[1;32mc:\\python27\\lib\\site-packages\\pandas\\core\\reshape\\merge.pyc\u001b[0m in \u001b[0;36mmerge\u001b[1;34m(left, right, how, on, left_on, right_on, left_index, right_index, sort, suffixes, copy, indicator, validate)\u001b[0m\n\u001b[0;32m     45\u001b[0m                          \u001b[0mright_index\u001b[0m\u001b[1;33m=\u001b[0m\u001b[0mright_index\u001b[0m\u001b[1;33m,\u001b[0m \u001b[0msort\u001b[0m\u001b[1;33m=\u001b[0m\u001b[0msort\u001b[0m\u001b[1;33m,\u001b[0m \u001b[0msuffixes\u001b[0m\u001b[1;33m=\u001b[0m\u001b[0msuffixes\u001b[0m\u001b[1;33m,\u001b[0m\u001b[1;33m\u001b[0m\u001b[0m\n\u001b[0;32m     46\u001b[0m                          \u001b[0mcopy\u001b[0m\u001b[1;33m=\u001b[0m\u001b[0mcopy\u001b[0m\u001b[1;33m,\u001b[0m \u001b[0mindicator\u001b[0m\u001b[1;33m=\u001b[0m\u001b[0mindicator\u001b[0m\u001b[1;33m,\u001b[0m\u001b[1;33m\u001b[0m\u001b[0m\n\u001b[1;32m---> 47\u001b[1;33m                          validate=validate)\n\u001b[0m\u001b[0;32m     48\u001b[0m     \u001b[1;32mreturn\u001b[0m \u001b[0mop\u001b[0m\u001b[1;33m.\u001b[0m\u001b[0mget_result\u001b[0m\u001b[1;33m(\u001b[0m\u001b[1;33m)\u001b[0m\u001b[1;33m\u001b[0m\u001b[0m\n\u001b[0;32m     49\u001b[0m \u001b[1;33m\u001b[0m\u001b[0m\n",
      "\u001b[1;32mc:\\python27\\lib\\site-packages\\pandas\\core\\reshape\\merge.pyc\u001b[0m in \u001b[0;36m__init__\u001b[1;34m(self, left, right, how, on, left_on, right_on, axis, left_index, right_index, sort, suffixes, copy, indicator, validate)\u001b[0m\n\u001b[0;32m    522\u001b[0m             \u001b[0mwarnings\u001b[0m\u001b[1;33m.\u001b[0m\u001b[0mwarn\u001b[0m\u001b[1;33m(\u001b[0m\u001b[0mmsg\u001b[0m\u001b[1;33m,\u001b[0m \u001b[0mUserWarning\u001b[0m\u001b[1;33m)\u001b[0m\u001b[1;33m\u001b[0m\u001b[0m\n\u001b[0;32m    523\u001b[0m \u001b[1;33m\u001b[0m\u001b[0m\n\u001b[1;32m--> 524\u001b[1;33m         \u001b[0mself\u001b[0m\u001b[1;33m.\u001b[0m\u001b[0m_validate_specification\u001b[0m\u001b[1;33m(\u001b[0m\u001b[1;33m)\u001b[0m\u001b[1;33m\u001b[0m\u001b[0m\n\u001b[0m\u001b[0;32m    525\u001b[0m \u001b[1;33m\u001b[0m\u001b[0m\n\u001b[0;32m    526\u001b[0m         \u001b[1;31m# note this function has side effects\u001b[0m\u001b[1;33m\u001b[0m\u001b[1;33m\u001b[0m\u001b[0m\n",
      "\u001b[1;32mc:\\python27\\lib\\site-packages\\pandas\\core\\reshape\\merge.pyc\u001b[0m in \u001b[0;36m_validate_specification\u001b[1;34m(self)\u001b[0m\n\u001b[0;32m   1031\u001b[0m                         \u001b[1;34m'left_index={lidx}, right_index={ridx}'\u001b[0m\u001b[1;33m\u001b[0m\u001b[0m\n\u001b[0;32m   1032\u001b[0m                         .format(lon=self.left_on, ron=self.right_on,\n\u001b[1;32m-> 1033\u001b[1;33m                                 lidx=self.left_index, ridx=self.right_index))\n\u001b[0m\u001b[0;32m   1034\u001b[0m                 \u001b[1;32mif\u001b[0m \u001b[1;32mnot\u001b[0m \u001b[0mcommon_cols\u001b[0m\u001b[1;33m.\u001b[0m\u001b[0mis_unique\u001b[0m\u001b[1;33m:\u001b[0m\u001b[1;33m\u001b[0m\u001b[0m\n\u001b[0;32m   1035\u001b[0m                     raise MergeError(\"Data columns not unique: {common!r}\"\n",
      "\u001b[1;31mMergeError\u001b[0m: No common columns to perform merge on. Merge options: left_on=None, right_on=None, left_index=False, right_index=False"
     ]
    }
   ],
   "source": [
    "df1=housing_data_cleaned_rm\n",
    "df2=imputed_df\n",
    "\n",
    "df_combine = pd.merge(df1, df2)"
   ]
  },
  {
   "cell_type": "code",
   "execution_count": 468,
   "metadata": {},
   "outputs": [
    {
     "data": {
      "text/plain": [
       "((231108, 14), (231108, 59), (231108, 73))"
      ]
     },
     "execution_count": 468,
     "metadata": {},
     "output_type": "execute_result"
    }
   ],
   "source": [
    "housing_data_cleaned_rm.shape,imputed_df.shape,housing_data_cleaned_refined_withoutNAN.shape"
   ]
  },
  {
   "cell_type": "code",
   "execution_count": 484,
   "metadata": {},
   "outputs": [],
   "source": [
    "# Checking categorical data\n",
    "category_dataframe=housing_data_cleaned.select_dtypes(exclude=[np.number])"
   ]
  },
  {
   "cell_type": "code",
   "execution_count": 488,
   "metadata": {},
   "outputs": [],
   "source": [
    "test_cat = category_dataframe[['neighborhood','price_range']]"
   ]
  },
  {
   "cell_type": "code",
   "execution_count": 489,
   "metadata": {},
   "outputs": [],
   "source": [
    "from sklearn.preprocessing import OneHotEncoder"
   ]
  },
  {
   "cell_type": "code",
   "execution_count": 490,
   "metadata": {},
   "outputs": [],
   "source": [
    "drop_enc = OneHotEncoder().fit(test_cat)"
   ]
  },
  {
   "cell_type": "code",
   "execution_count": 494,
   "metadata": {},
   "outputs": [],
   "source": [
    "val=drop_enc.transform(test_cat)"
   ]
  },
  {
   "cell_type": "code",
   "execution_count": 501,
   "metadata": {},
   "outputs": [
    {
     "data": {
      "text/plain": [
       "array([u'x0_3004', u'x0_BATH BEACH', u'x0_BAY RIDGE',\n",
       "       u'x0_BEDFORD STUYVESANT', u'x0_BENSONHURST', u'x0_BERGEN BEACH',\n",
       "       u'x0_BOERUM HILL', u'x0_BOROUGH PARK', u'x0_BRIGHTON BEACH',\n",
       "       u'x0_BROOKLYN HEIGHTS', u'x0_BROOKLYN-UNKNOWN', u'x0_BROWNSVILLE',\n",
       "       u'x0_BUSH TERMINAL', u'x0_BUSHWICK', u'x0_CANARSIE',\n",
       "       u'x0_CARROLL GARDENS', u'x0_CLINTON HILL', u'x0_COBBLE HILL',\n",
       "       u'x0_COBBLE HILL-WEST', u'x0_CONEY ISLAND', u'x0_CROWN HEIGHTS',\n",
       "       u'x0_CYPRESS HILLS', u'x0_DOWNTOWN-FULTON FERRY',\n",
       "       u'x0_DOWNTOWN-FULTON MALL', u'x0_DOWNTOWN-METROTECH',\n",
       "       u'x0_DYKER HEIGHTS', u'x0_EAST NEW YORK', u'x0_FLATBUSH-CENTRAL',\n",
       "       u'x0_FLATBUSH-EAST', u'x0_FLATBUSH-LEFFERTS GARDEN',\n",
       "       u'x0_FLATBUSH-NORTH', u'x0_FLATLANDS', u'x0_FORT GREENE',\n",
       "       u'x0_GERRITSEN BEACH', u'x0_GOWANUS', u'x0_GRAVESEND',\n",
       "       u'x0_GREENPOINT', u'x0_JAMAICA BAY', u'x0_KENSINGTON',\n",
       "       u'x0_MADISON', u'x0_MANHATTAN BEACH', u'x0_MARINE PARK',\n",
       "       u'x0_MIDWOOD', u'x0_MILL BASIN', u'x0_NAVY YARD', u'x0_OCEAN HILL',\n",
       "       u'x0_OCEAN PARKWAY-NORTH', u'x0_OCEAN PARKWAY-SOUTH',\n",
       "       u'x0_OLD MILL BASIN', u'x0_PARK SLOPE', u'x0_PARK SLOPE SOUTH',\n",
       "       u'x0_PROSPECT HEIGHTS', u'x0_RED HOOK', u'x0_SEAGATE',\n",
       "       u'x0_SHEEPSHEAD BAY', u'x0_SPRING CREEK', u'x0_SUNSET PARK',\n",
       "       u'x0_WILLIAMSBURG-CENTRAL', u'x0_WILLIAMSBURG-EAST',\n",
       "       u'x0_WILLIAMSBURG-NORTH', u'x0_WILLIAMSBURG-SOUTH',\n",
       "       u'x0_WINDSOR TERRACE', u'x0_WYCKOFF HEIGHTS', u'x1_0-200k',\n",
       "       u'x1_1min-10min', u'x1_200k-500k', u'x1_500k-800k',\n",
       "       u'x1_800k-1min'], dtype=object)"
      ]
     },
     "execution_count": 501,
     "metadata": {},
     "output_type": "execute_result"
    }
   ],
   "source": [
    "drop_enc.get_feature_names()"
   ]
  },
  {
   "cell_type": "markdown",
   "metadata": {},
   "source": [
    "### one hot encoder will increase feature length of two feature address,price-range to 68.Hence not suitable in this scenario."
   ]
  },
  {
   "cell_type": "code",
   "execution_count": 509,
   "metadata": {},
   "outputs": [
    {
     "data": {
      "text/plain": [
       "{'GG', 'hello', 'world'}"
      ]
     },
     "execution_count": 509,
     "metadata": {},
     "output_type": "execute_result"
    }
   ],
   "source": [
    "set(['hello','world','hello','GG'])"
   ]
  },
  {
   "cell_type": "code",
   "execution_count": 512,
   "metadata": {},
   "outputs": [
    {
     "data": {
      "text/plain": [
       "0    kitten\n",
       "1     puppy\n",
       "2       NaN\n",
       "3       NaN\n",
       "dtype: object"
      ]
     },
     "execution_count": 512,
     "metadata": {},
     "output_type": "execute_result"
    }
   ],
   "source": [
    "#Map is used for substituting each value in a Series with another value\n",
    "s = pd.Series(['cat', 'dog', np.nan, 'rabbit'])\n",
    "s.map({'cat': 'kitten', 'dog': 'puppy'})"
   ]
  },
  {
   "cell_type": "markdown",
   "metadata": {},
   "source": [
    "### Make a set of categorical columns. make list of range and map categorical value to numerical value.\n",
    "example\n",
    "address = maple street, park avenue, high street\n"
   ]
  },
  {
   "cell_type": "code",
   "execution_count": 516,
   "metadata": {},
   "outputs": [
    {
     "data": {
      "text/plain": [
       "{'high street': 2, 'maple street': 0, 'park avenue': 1}"
      ]
     },
     "execution_count": 516,
     "metadata": {},
     "output_type": "execute_result"
    }
   ],
   "source": [
    "dict(zip(set(['maple street', 'park avenue', 'high street']),list(range(0,len(set(['maple street', 'park avenue', 'high street']))))))"
   ]
  },
  {
   "cell_type": "code",
   "execution_count": 519,
   "metadata": {},
   "outputs": [
    {
     "data": {
      "text/plain": [
       "0    0\n",
       "1    1\n",
       "2    2\n",
       "dtype: int64"
      ]
     },
     "execution_count": 519,
     "metadata": {},
     "output_type": "execute_result"
    }
   ],
   "source": [
    "mapping_dictionary=dict(zip(set(['maple street', 'park avenue', 'high street']),list(range(0,len(set(['maple street', 'park avenue', 'high street']))))))\n",
    "address_names=pd.Series(['maple street', 'park avenue', 'high street'])\n",
    "address_names.map(mapping_dictionary)"
   ]
  },
  {
   "cell_type": "code",
   "execution_count": 514,
   "metadata": {},
   "outputs": [],
   "source": [
    "def strnums(cols,df):\n",
    "    return dict(zip(set(df[cols]),list(range(0,len(set(df[cols]))))))\n",
    "for columns in set(housing_data_cleaned.select_dtypes(exclude='number')):\n",
    "    housing_data_cleaned[columns] = housing_data_cleaned[columns].map(strnums(columns,housing_data_cleaned))"
   ]
  },
  {
   "cell_type": "code",
   "execution_count": 520,
   "metadata": {},
   "outputs": [
    {
     "data": {
      "text/html": [
       "<div>\n",
       "<style scoped>\n",
       "    .dataframe tbody tr th:only-of-type {\n",
       "        vertical-align: middle;\n",
       "    }\n",
       "\n",
       "    .dataframe tbody tr th {\n",
       "        vertical-align: top;\n",
       "    }\n",
       "\n",
       "    .dataframe thead th {\n",
       "        text-align: right;\n",
       "    }\n",
       "</style>\n",
       "<table border=\"1\" class=\"dataframe\">\n",
       "  <thead>\n",
       "    <tr style=\"text-align: right;\">\n",
       "      <th></th>\n",
       "      <th>neighborhood</th>\n",
       "      <th>building_class_category</th>\n",
       "      <th>tax_class</th>\n",
       "      <th>lot</th>\n",
       "      <th>building_class</th>\n",
       "      <th>address</th>\n",
       "      <th>residential_units</th>\n",
       "      <th>commercial_units</th>\n",
       "      <th>total_units</th>\n",
       "      <th>land_sqft</th>\n",
       "      <th>...</th>\n",
       "      <th>CommFAR</th>\n",
       "      <th>FacilFAR</th>\n",
       "      <th>Tract2010</th>\n",
       "      <th>XCoord</th>\n",
       "      <th>YCoord</th>\n",
       "      <th>ZoneMap</th>\n",
       "      <th>TaxMap</th>\n",
       "      <th>SHAPE_Leng</th>\n",
       "      <th>SHAPE_Area</th>\n",
       "      <th>price_range</th>\n",
       "    </tr>\n",
       "  </thead>\n",
       "  <tbody>\n",
       "    <tr>\n",
       "      <th>17076</th>\n",
       "      <td>30</td>\n",
       "      <td>6</td>\n",
       "      <td>5</td>\n",
       "      <td>24</td>\n",
       "      <td>152</td>\n",
       "      <td>122488</td>\n",
       "      <td>0</td>\n",
       "      <td>0</td>\n",
       "      <td>0</td>\n",
       "      <td>0.0</td>\n",
       "      <td>...</td>\n",
       "      <td>0.0</td>\n",
       "      <td>4.8</td>\n",
       "      <td>502.0</td>\n",
       "      <td>986392.0</td>\n",
       "      <td>192894.0</td>\n",
       "      <td>2</td>\n",
       "      <td>30106.0</td>\n",
       "      <td>393.470109</td>\n",
       "      <td>7482.061896</td>\n",
       "      <td>1</td>\n",
       "    </tr>\n",
       "    <tr>\n",
       "      <th>17077</th>\n",
       "      <td>55</td>\n",
       "      <td>14</td>\n",
       "      <td>3</td>\n",
       "      <td>72</td>\n",
       "      <td>46</td>\n",
       "      <td>53498</td>\n",
       "      <td>2</td>\n",
       "      <td>0</td>\n",
       "      <td>2</td>\n",
       "      <td>2489.0</td>\n",
       "      <td>...</td>\n",
       "      <td>0.0</td>\n",
       "      <td>2.0</td>\n",
       "      <td>207.0</td>\n",
       "      <td>993093.0</td>\n",
       "      <td>185529.0</td>\n",
       "      <td>8</td>\n",
       "      <td>30408.0</td>\n",
       "      <td>302.630161</td>\n",
       "      <td>2489.192890</td>\n",
       "      <td>1</td>\n",
       "    </tr>\n",
       "  </tbody>\n",
       "</table>\n",
       "<p>2 rows × 73 columns</p>\n",
       "</div>"
      ],
      "text/plain": [
       "       neighborhood  building_class_category  tax_class  lot  building_class  \\\n",
       "17076            30                        6          5   24             152   \n",
       "17077            55                       14          3   72              46   \n",
       "\n",
       "       address  residential_units  commercial_units  total_units  land_sqft  \\\n",
       "17076   122488                  0                 0            0        0.0   \n",
       "17077    53498                  2                 0            2     2489.0   \n",
       "\n",
       "       ...  CommFAR  FacilFAR  Tract2010    XCoord    YCoord  ZoneMap  \\\n",
       "17076  ...      0.0       4.8      502.0  986392.0  192894.0        2   \n",
       "17077  ...      0.0       2.0      207.0  993093.0  185529.0        8   \n",
       "\n",
       "        TaxMap  SHAPE_Leng   SHAPE_Area  price_range  \n",
       "17076  30106.0  393.470109  7482.061896            1  \n",
       "17077  30408.0  302.630161  2489.192890            1  \n",
       "\n",
       "[2 rows x 73 columns]"
      ]
     },
     "execution_count": 520,
     "metadata": {},
     "output_type": "execute_result"
    }
   ],
   "source": [
    "housing_data_cleaned.head(2)"
   ]
  },
  {
   "cell_type": "code",
   "execution_count": null,
   "metadata": {},
   "outputs": [],
   "source": []
  }
 ],
 "metadata": {
  "kernelspec": {
   "display_name": "HelloWorld",
   "language": "python",
   "name": "helloworld"
  },
  "language_info": {
   "codemirror_mode": {
    "name": "ipython",
    "version": 2
   },
   "file_extension": ".py",
   "mimetype": "text/x-python",
   "name": "python",
   "nbconvert_exporter": "python",
   "pygments_lexer": "ipython2",
   "version": "2.7.15"
  }
 },
 "nbformat": 4,
 "nbformat_minor": 2
}
