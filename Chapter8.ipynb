{
 "cells": [
  {
   "cell_type": "code",
   "execution_count": 1,
   "metadata": {},
   "outputs": [],
   "source": [
    "from sklearn.datasets import load_boston\n",
    "boston_home = load_boston()\n",
    "feature_names = boston_home[\"feature_names\"]\n",
    "feature_names.shape\n",
    "boston_data = boston_home[\"data\"]\n",
    "boston_data.shape\n",
    "boston_target = boston_home[\"target\"]\n",
    "X=  boston_data\n",
    "y=  boston_target\n",
    "X_train,X_test,y_train,y_test = X[:406],X[406:],y[:406],y[406:]"
   ]
  },
  {
   "cell_type": "code",
   "execution_count": 8,
   "metadata": {},
   "outputs": [
    {
     "data": {
      "text/plain": [
       "array([[6.320e-03, 1.800e+01, 2.310e+00, 0.000e+00, 5.380e-01, 6.575e+00,\n",
       "        6.520e+01, 4.090e+00, 1.000e+00, 2.960e+02, 1.530e+01, 3.969e+02,\n",
       "        4.980e+00]])"
      ]
     },
     "execution_count": 8,
     "metadata": {},
     "output_type": "execute_result"
    }
   ],
   "source": [
    "X.shape\n",
    "X[:1]"
   ]
  },
  {
   "cell_type": "code",
   "execution_count": 69,
   "metadata": {},
   "outputs": [
    {
     "data": {
      "text/plain": [
       "numpy.ndarray"
      ]
     },
     "execution_count": 69,
     "metadata": {},
     "output_type": "execute_result"
    }
   ],
   "source": [
    "X_centered = X - X.mean(axis=0)\n",
    "type(X_centered)"
   ]
  },
  {
   "cell_type": "code",
   "execution_count": 70,
   "metadata": {},
   "outputs": [
    {
     "data": {
      "text/plain": [
       "array([[-3.60720356e+00,  6.63636364e+00, -8.82677866e+00,\n",
       "        -6.91699605e-02, -1.66950593e-02,  2.90365613e-01,\n",
       "        -3.37490119e+00,  2.94957312e-01, -8.54940711e+00,\n",
       "        -1.12237154e+02, -3.15553360e+00,  4.02259684e+01,\n",
       "        -7.67306324e+00]])"
      ]
     },
     "execution_count": 70,
     "metadata": {},
     "output_type": "execute_result"
    }
   ],
   "source": [
    "X_centered[:1]"
   ]
  },
  {
   "cell_type": "code",
   "execution_count": 71,
   "metadata": {},
   "outputs": [],
   "source": [
    "#X_test = [[1,2],[4,4],[6,6]]\n",
    "import numpy as np\n",
    "X_test = np.array([[20, 8], [20,20],[80,4]])"
   ]
  },
  {
   "cell_type": "code",
   "execution_count": 72,
   "metadata": {},
   "outputs": [],
   "source": [
    "X_test_centered = X_test- X_test.mean(axis=0)"
   ]
  },
  {
   "cell_type": "code",
   "execution_count": 73,
   "metadata": {},
   "outputs": [
    {
     "name": "stdout",
     "output_type": "stream",
     "text": [
      "[[-20.          -2.66666667]\n",
      " [-20.           9.33333333]\n",
      " [ 40.          -6.66666667]]\n"
     ]
    }
   ],
   "source": [
    "print(X_test_centered)"
   ]
  },
  {
   "cell_type": "code",
   "execution_count": 74,
   "metadata": {},
   "outputs": [
    {
     "name": "stdout",
     "output_type": "stream",
     "text": [
      "[[20  8]\n",
      " [20 20]\n",
      " [80  4]]\n"
     ]
    }
   ],
   "source": [
    "print(X_test)"
   ]
  },
  {
   "cell_type": "code",
   "execution_count": 75,
   "metadata": {},
   "outputs": [
    {
     "name": "stdout",
     "output_type": "stream",
     "text": [
      "[40.         10.66666667]\n"
     ]
    }
   ],
   "source": [
    "print(X_test.mean(axis=0))"
   ]
  },
  {
   "cell_type": "code",
   "execution_count": 76,
   "metadata": {},
   "outputs": [],
   "source": [
    "U,s,V = np.linalg.svd(X_centered)"
   ]
  },
  {
   "cell_type": "code",
   "execution_count": 77,
   "metadata": {},
   "outputs": [
    {
     "data": {
      "text/plain": [
       "array([[ 2.92973218e-02, -4.35898000e-02,  2.83309382e-02,\n",
       "        -5.55846350e-05,  4.49721818e-04, -1.16815860e-03,\n",
       "         8.36335746e-02, -6.56163360e-03,  4.50053753e-02,\n",
       "         9.49741169e-01,  5.60011721e-03, -2.91218514e-01,\n",
       "         2.29433756e-02],\n",
       "       [-6.66847277e-03, -1.17564821e-03,  4.94975624e-03,\n",
       "         1.02678850e-04, -1.82069867e-06, -3.65750108e-04,\n",
       "         5.72246652e-03, -3.53685109e-04,  8.61865948e-03,\n",
       "         2.92406308e-01,  2.52898538e-03,  9.56180551e-01,\n",
       "        -5.76719865e-03]])"
      ]
     },
     "execution_count": 77,
     "metadata": {},
     "output_type": "execute_result"
    }
   ],
   "source": [
    "V[:2,:]"
   ]
  },
  {
   "cell_type": "code",
   "execution_count": 78,
   "metadata": {},
   "outputs": [
    {
     "data": {
      "text/plain": [
       "array([[ 2.92973218e-02, -6.66847277e-03, -1.14793645e-02,\n",
       "         2.71309632e-02,  9.52338065e-01, -1.69050862e-01,\n",
       "         2.16220534e-01,  1.24410586e-01,  1.37713177e-02,\n",
       "        -1.66179883e-02, -1.99666297e-03, -1.99499182e-03,\n",
       "         5.12974614e-04],\n",
       "       [-4.35898000e-02, -1.17564821e-03,  6.32897481e-01,\n",
       "         7.68058991e-01, -5.67213995e-03,  4.68215380e-02,\n",
       "         3.51598379e-02, -5.13731838e-02,  2.35075239e-02,\n",
       "         3.06891846e-02,  5.51190327e-03,  1.93735139e-04,\n",
       "         1.27249747e-04]])"
      ]
     },
     "execution_count": 78,
     "metadata": {},
     "output_type": "execute_result"
    }
   ],
   "source": [
    "V.T[:2,]"
   ]
  },
  {
   "cell_type": "code",
   "execution_count": 79,
   "metadata": {},
   "outputs": [],
   "source": [
    "c1 = V.T[:,0]\n",
    "c2 = V.T[:,1]"
   ]
  },
  {
   "cell_type": "code",
   "execution_count": 80,
   "metadata": {},
   "outputs": [
    {
     "name": "stdout",
     "output_type": "stream",
     "text": [
      "[ 2.92973218e-02 -4.35898000e-02  2.83309382e-02 -5.55846350e-05\n",
      "  4.49721818e-04 -1.16815860e-03  8.36335746e-02 -6.56163360e-03\n",
      "  4.50053753e-02  9.49741169e-01  5.60011721e-03 -2.91218514e-01\n",
      "  2.29433756e-02]\n"
     ]
    }
   ],
   "source": [
    "print(c1)"
   ]
  },
  {
   "cell_type": "code",
   "execution_count": 81,
   "metadata": {},
   "outputs": [],
   "source": [
    "W2 = V.T[:,:2]  # 2 as for 2 dimensions"
   ]
  },
  {
   "cell_type": "code",
   "execution_count": 82,
   "metadata": {},
   "outputs": [],
   "source": [
    "X2D = X_centered.dot(W2)"
   ]
  },
  {
   "cell_type": "code",
   "execution_count": 83,
   "metadata": {},
   "outputs": [
    {
     "data": {
      "text/plain": [
       "array([[-119.81884272,    5.56005586],\n",
       "       [-168.89015548,  -10.11620863],\n",
       "       [-169.31170747,  -14.0805323 ],\n",
       "       ...,\n",
       "       [-138.38716306,   -0.9380922 ],\n",
       "       [-137.50517338,   -4.2518251 ],\n",
       "       [-139.19033295,   -1.00906423]])"
      ]
     },
     "execution_count": 83,
     "metadata": {},
     "output_type": "execute_result"
    }
   ],
   "source": [
    "X2D # 2 dimensions data reduced from 13 dimensiones data"
   ]
  },
  {
   "cell_type": "code",
   "execution_count": 84,
   "metadata": {},
   "outputs": [],
   "source": [
    "#using scikit learn instead of numpy and python\n",
    "from sklearn.decomposition import PCA"
   ]
  },
  {
   "cell_type": "code",
   "execution_count": 89,
   "metadata": {},
   "outputs": [],
   "source": [
    "pca = PCA(n_components=2)\n",
    "X2D = pca.fit_transform(X)"
   ]
  },
  {
   "cell_type": "markdown",
   "metadata": {},
   "source": [
    "X2D"
   ]
  },
  {
   "cell_type": "markdown",
   "metadata": {},
   "source": [
    "i wonder why it is different 2 col"
   ]
  },
  {
   "cell_type": "code",
   "execution_count": 97,
   "metadata": {},
   "outputs": [
    {
     "data": {
      "text/plain": [
       "array([8.58499809e-01, 7.83197054e-02, 4.41584549e-02, 1.44305686e-02,\n",
       "       1.86954325e-03, 1.30580820e-03, 7.83009642e-04, 3.72875359e-04,\n",
       "       1.81166604e-04, 6.37437617e-05, 1.17590801e-05, 3.42577258e-06,\n",
       "       1.30681356e-07])"
      ]
     },
     "execution_count": 97,
     "metadata": {},
     "output_type": "execute_result"
    }
   ],
   "source": [
    "pca.explained_variance_ratio_"
   ]
  },
  {
   "cell_type": "code",
   "execution_count": 98,
   "metadata": {},
   "outputs": [
    {
     "data": {
      "text/plain": [
       "PCA(copy=True, iterated_power='auto', n_components=None, random_state=None,\n",
       "    svd_solver='auto', tol=0.0, whiten=False)"
      ]
     },
     "execution_count": 98,
     "metadata": {},
     "output_type": "execute_result"
    }
   ],
   "source": [
    "pca = PCA()\n",
    "pca.fit(X_train)"
   ]
  },
  {
   "cell_type": "code",
   "execution_count": 99,
   "metadata": {},
   "outputs": [],
   "source": [
    "cumsum = np.cumsum(pca.explained_variance_ratio_) #Return the cumulative sum of the elements along a given axis.The default (None) is to compute the cumsum over the flattened array."
   ]
  },
  {
   "cell_type": "code",
   "execution_count": 100,
   "metadata": {},
   "outputs": [
    {
     "data": {
      "text/plain": [
       "array([0.85849981, 0.93681951, 0.98097797, 0.99540854, 0.99727808,\n",
       "       0.99858389, 0.9993669 , 0.99973977, 0.99992094, 0.99998468,\n",
       "       0.99999644, 0.99999987, 1.        ])"
      ]
     },
     "execution_count": 100,
     "metadata": {},
     "output_type": "execute_result"
    }
   ],
   "source": [
    "cumsum"
   ]
  },
  {
   "cell_type": "code",
   "execution_count": 102,
   "metadata": {},
   "outputs": [],
   "source": [
    "dimension = np.argmax(cumsum > 0.95) + 1"
   ]
  },
  {
   "cell_type": "code",
   "execution_count": null,
   "metadata": {},
   "outputs": [],
   "source": [
    "# hence dimension =3 will cover 95% of variance"
   ]
  },
  {
   "cell_type": "code",
   "execution_count": 104,
   "metadata": {},
   "outputs": [],
   "source": [
    "pca = PCA(n_components=0.95)\n",
    "X_reduced = pca.fit_transform(X_train)"
   ]
  },
  {
   "cell_type": "code",
   "execution_count": 105,
   "metadata": {},
   "outputs": [
    {
     "data": {
      "text/plain": [
       "array([[ -59.58891458,  -12.47468146,   -6.77634568],\n",
       "       [-110.47575584,   -2.29243568,  -33.87886032],\n",
       "       [-112.22360179,   -2.11489135,  -20.0127386 ],\n",
       "       ...,\n",
       "       [ 313.35984928,  -32.93044604,   -7.79021745],\n",
       "       [ 316.5479224 ,   29.88180227,   16.56916849],\n",
       "       [ 315.86269421,  -20.94489708,   -8.12841474]])"
      ]
     },
     "execution_count": 105,
     "metadata": {},
     "output_type": "execute_result"
    }
   ],
   "source": [
    "X_reduced # here X_reduced is data in dimensions which has 95 % variance"
   ]
  },
  {
   "cell_type": "code",
   "execution_count": 108,
   "metadata": {},
   "outputs": [],
   "source": [
    "#increamental PCA - do PCA in chunks to use less memory at a one\n",
    "from sklearn.decomposition import IncrementalPCA\n",
    "n_batches =50\n",
    "int_pca = IncrementalPCA(n_components=4)\n",
    "for X_batch in np.array_split(X_train, n_batches):\n",
    "    int_pca.partial_fit(X_batch)\n",
    "    \n",
    "X_reduced = int_pca.transform(X_train)"
   ]
  },
  {
   "cell_type": "code",
   "execution_count": 110,
   "metadata": {},
   "outputs": [
    {
     "data": {
      "text/plain": [
       "array([[ -59.58879392,   12.47543296,    6.7801208 ,    5.57442921],\n",
       "       [-110.47573024,    2.28843256,   33.88002627,    3.41328257],\n",
       "       [-112.22356207,    2.11299547,   20.01271633,   -8.89758296],\n",
       "       ...,\n",
       "       [ 313.35963754,   32.92787431,    7.79381356,    0.79140917],\n",
       "       [ 316.54739162,  -29.88516683,  -16.57699392,   -7.69012929],\n",
       "       [ 315.86185426,   20.93830715,    8.12843382,    3.5199974 ]])"
      ]
     },
     "execution_count": 110,
     "metadata": {},
     "output_type": "execute_result"
    }
   ],
   "source": [
    "X_reduced"
   ]
  },
  {
   "cell_type": "code",
   "execution_count": 111,
   "metadata": {},
   "outputs": [],
   "source": [
    "#Randomzed PCA\n",
    "rnd_pca = PCA(n_components=4,svd_solver=\"randomized\")"
   ]
  },
  {
   "cell_type": "code",
   "execution_count": 112,
   "metadata": {},
   "outputs": [],
   "source": [
    "X_reduced = rnd_pca.fit_transform(X_train)"
   ]
  },
  {
   "cell_type": "code",
   "execution_count": 113,
   "metadata": {},
   "outputs": [
    {
     "data": {
      "text/plain": [
       "array([[ -59.58891458,  -12.47468146,   -6.77634568,   -5.59162722],\n",
       "       [-110.47575584,   -2.29243568,  -33.87886032,   -3.42430727],\n",
       "       [-112.22360179,   -2.11489135,  -20.0127386 ,    8.87870616],\n",
       "       ...,\n",
       "       [ 313.35984928,  -32.93044604,   -7.79021745,   -0.7907019 ],\n",
       "       [ 316.5479224 ,   29.88180227,   16.56916849,    7.72069789],\n",
       "       [ 315.86269421,  -20.94489708,   -8.12841474,   -3.51042345]])"
      ]
     },
     "execution_count": 113,
     "metadata": {},
     "output_type": "execute_result"
    }
   ],
   "source": [
    "X_reduced"
   ]
  },
  {
   "cell_type": "code",
   "execution_count": null,
   "metadata": {},
   "outputs": [],
   "source": []
  }
 ],
 "metadata": {
  "kernelspec": {
   "display_name": "Python 3",
   "language": "python",
   "name": "python3"
  },
  "language_info": {
   "codemirror_mode": {
    "name": "ipython",
    "version": 3
   },
   "file_extension": ".py",
   "mimetype": "text/x-python",
   "name": "python",
   "nbconvert_exporter": "python",
   "pygments_lexer": "ipython3",
   "version": "3.6.0"
  }
 },
 "nbformat": 4,
 "nbformat_minor": 2
}
