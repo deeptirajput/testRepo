{
 "cells": [
  {
   "cell_type": "code",
   "execution_count": 162,
   "metadata": {},
   "outputs": [],
   "source": [
    "import pandas as pd\n",
    "from sklearn.base import BaseEstimator, TransformerMixin\n",
    "from sklearn.preprocessing import StandardScaler\n",
    "from sklearn.pipeline import Pipeline\n",
    "from matplotlib import pyplot as plt\n",
    "import numpy as np\n",
    "from sklearn.model_selection import cross_val_score\n",
    "from sklearn.model_selection import cross_val_predict\n",
    "from sklearn.metrics import roc_auc_score\n",
    "\n",
    "features=[\"Plasma\",\"BMI\",\"AGE\",\"PEDIGREE\",\"BP\",\"NOP\",\"SERUM_INSULIN\",\"TSKIN_THICKNESS\",\"Target\"]\n",
    "attributesToClean = [\"Plasma\",\"BMI\",\"BP\"]\n",
    "\n",
    "def load_data(path):\n",
    "    diabetes = pd.read_csv(path,header=0)\n",
    "    return diabetes\n",
    "\n",
    "def load_diabetes_data():\n",
    "    PATH = \"datasets/Diabetes/pima-indians-diabetes.csv\"\n",
    "    diabetes_df = load_data(PATH)\n",
    "    feature_names = diabetes_df.columns.array.copy()\n",
    "    return diabetes_df,feature_names\n",
    "    \n",
    "def Separate_X_y_data(data):\n",
    "    np.random.seed(42)\n",
    "    shuffled_indices = np.random.permutation(len(data))\n",
    "    data = data.iloc[shuffled_indices]\n",
    "    y = data[[\"Target\"]]\n",
    "    X = data.drop(columns='Target')\n",
    "    return X,y\n",
    "\n",
    "# This returns X_train, X_test, y_train, y_test\n",
    "def produce_train_test_data(X,y,test_ratio):\n",
    "    test_set_size = int(len(X)*test_ratio)\n",
    "    return X[test_set_size:], X[:test_set_size],y[test_set_size:],y[:test_set_size]\n",
    "\n",
    "class RemoveInvalidZeroValuesAttributes(BaseEstimator, TransformerMixin):\n",
    "    def __init__(self,attributes):\n",
    "        self.attributes = attributes\n",
    "    def fit(self,X,y=None):\n",
    "        return self\n",
    "    def transform(self,X,y=None):\n",
    "        attrs = self.attributes\n",
    "        for attribute in attrs:\n",
    "            X= X[X[attribute]>0]\n",
    "        return X\n",
    "\n",
    "class FeatureSelection(BaseEstimator, TransformerMixin):\n",
    "    def __init__(self,features):\n",
    "        self.features = features\n",
    "    def fit(self,X,y=None):\n",
    "        return self\n",
    "    def transform(self,X,y=None):\n",
    "        features = self.features\n",
    "        X = X[features]\n",
    "        return X\n",
    "\n",
    "def preprocess_data(X,features,attributes):\n",
    "    #data_preprocess_pipeline = Pipeline([(\"feature_selection\",FeatureSelection(features)),(\"clean_zero\",RemoveInvalidZeroValuesAttributes(attributes)),])\n",
    "    data_preprocess_pipeline = Pipeline([(\"clean_zero\",RemoveInvalidZeroValuesAttributes(attributes)),])\n",
    "    X = data_preprocess_pipeline.fit_transform(X)\n",
    "    return X\n",
    "\n",
    "def scaleAndPreprocessData(data,features,attributes):\n",
    "    data = preprocess_data(data,features,attributes)\n",
    "    X,y = Separate_X_y_data(data)\n",
    "    col = X.columns.array.copy()\n",
    "    scaler = StandardScaler()\n",
    "    X=scaler.fit_transform(X)\n",
    "    X = pd.DataFrame(data=X,columns=col)\n",
    "    return X, y\n",
    "    \n",
    "# trying chapter 7 concepts\n",
    "\n",
    "from sklearn.ensemble import RandomForestClassifier\n",
    "from sklearn.linear_model import LogisticRegression\n",
    "from sklearn.svm import SVC\n",
    "from sklearn.ensemble import BaggingClassifier\n",
    "from sklearn.tree import DecisionTreeClassifier\n",
    "from sklearn.neighbors import KNeighborsClassifier\n",
    "from sklearn.ensemble import GradientBoostingClassifier\n",
    "from sklearn.ensemble import VotingClassifier\n",
    "from sklearn.metrics import accuracy_score\n",
    "\n",
    "def getPerformances(X_train, X_test, y_train, y_test):\n",
    "    clf_name = []\n",
    "    clf_performance = []\n",
    "    rnd_clf = RandomForestClassifier()\n",
    "    log_clf = LogisticRegression()\n",
    "    svm_clf = SVC()\n",
    "    tree_clf = DecisionTreeClassifier()\n",
    "    KNN_clf = KNeighborsClassifier()\n",
    "    gradient_clf = GradientBoostingClassifier()\n",
    "    voting_clf = VotingClassifier(\n",
    "        estimators = [('lr',log_clf),('rf',rnd_clf),('svc',svm_clf),('tree',tree_clf),('KNN',KNN_clf),('gradient',gradient_clf)],voting = 'hard')\n",
    "    voting_clf.fit(X_train,y_train)\n",
    "    for clf in (log_clf,rnd_clf,svm_clf,voting_clf,tree_clf,KNN_clf,gradient_clf):\n",
    "        clf.fit(X_train,y_train)\n",
    "        y_pred = clf.predict(X_test)\n",
    "        clf_name.append(clf.__class__.__name__)\n",
    "        score = accuracy_score(y_test,y_pred)\n",
    "        clf_performance.append(score)\n",
    "        print(clf.__class__.__name__,accuracy_score(y_test,y_pred))\n",
    "    return clf_name,clf_performance\n",
    "        \n",
    "    \n",
    "def getPerformanceCV(X_train, y_train):\n",
    "    clf_name = []\n",
    "    clf_performance = []\n",
    "    rnd_clf = RandomForestClassifier()\n",
    "    log_clf = LogisticRegression()\n",
    "    svm_clf = SVC()\n",
    "    tree_clf = DecisionTreeClassifier()\n",
    "    KNN_clf = KNeighborsClassifier()\n",
    "    gradient_clf = GradientBoostingClassifier()\n",
    "    voting_clf = VotingClassifier(\n",
    "        estimators = [('lr',log_clf),('rf',rnd_clf),('svc',svm_clf),('tree',tree_clf),('KNN',KNN_clf),('gradient',gradient_clf)],voting = 'hard')\n",
    "    voting_clf.fit(X_train,y_train)\n",
    "    for clf in (log_clf,rnd_clf,svm_clf,voting_clf,tree_clf,KNN_clf,gradient_clf):\n",
    "        score = cross_val_score(clf,X_train,y_train,cv=4,scoring=\"accuracy\").mean()\n",
    "        clf_name.append(clf.__class__.__name__)\n",
    "        clf_performance.append(score)\n",
    "        print(clf.__class__.__name__,score)\n",
    "    return clf_name,clf_performance\n",
    "    \n",
    "# TODO : Need to look into how to calculate AUC for voting classifier\n",
    "def getAUCScore(X_train, y_train):\n",
    "    clf_name = []\n",
    "    clf_performance = []\n",
    "    rnd_clf = RandomForestClassifier()\n",
    "    log_clf = LogisticRegression()\n",
    "    svm_clf = SVC()\n",
    "    tree_clf = DecisionTreeClassifier()\n",
    "    KNN_clf = KNeighborsClassifier()\n",
    "    gradient_clf = GradientBoostingClassifier()\n",
    "    voting_clf = VotingClassifier(\n",
    "        estimators = [('lr',log_clf),('rf',rnd_clf),('svc',svm_clf),('tree',tree_clf),('KNN',KNN_clf),('gradient',gradient_clf)],voting = 'hard')\n",
    "    voting_clf.fit(X_train,y_train)\n",
    "    for clf in (log_clf,rnd_clf,svm_clf,voting_clf,tree_clf,KNN_clf,gradient_clf):\n",
    "        name = clf.__class__.__name__\n",
    "        if name in ['SVC','Logistic Regression']:\n",
    "            y_scores = cross_val_predict(clf,X_train,y_train,cv=3, method=\"decision_function\")\n",
    "            score = roc_auc_score(y_train, y_scores)\n",
    "        elif name in ['VotingClassifier']:\n",
    "            score = cross_val_score(clf,X_train,y_train,cv=4,scoring=\"accuracy\").mean()\n",
    "        else:\n",
    "            print(name)\n",
    "            y_scores = cross_val_predict(clf,X_train,y_train,cv=3, method = \"predict_proba\")\n",
    "            y_scores = y_scores[:,1]\n",
    "            score = roc_auc_score(y_train, y_scores)\n",
    "        clf_name.append(name)\n",
    "        clf_performance.append(score)\n",
    "        print(name,score)\n",
    "    return clf_name,clf_performance\n"
   ]
  },
  {
   "cell_type": "code",
   "execution_count": 163,
   "metadata": {},
   "outputs": [
    {
     "name": "stdout",
     "output_type": "stream",
     "text": [
      "('LogisticRegression', 0.75)\n",
      "('RandomForestClassifier', 0.7777777777777778)\n",
      "('SVC', 0.7222222222222222)\n",
      "('VotingClassifier', 0.7638888888888888)\n",
      "('DecisionTreeClassifier', 0.8333333333333334)\n",
      "('KNeighborsClassifier', 0.7222222222222222)\n"
     ]
    },
    {
     "name": "stderr",
     "output_type": "stream",
     "text": [
      "c:\\python27\\lib\\site-packages\\ipykernel_launcher.py:98: DataConversionWarning: A column-vector y was passed when a 1d array was expected. Please change the shape of y to (n_samples,), for example using ravel().\n",
      "c:\\python27\\lib\\site-packages\\ipykernel_launcher.py:98: DataConversionWarning: A column-vector y was passed when a 1d array was expected. Please change the shape of y to (n_samples, ), for example using ravel().\n"
     ]
    },
    {
     "name": "stdout",
     "output_type": "stream",
     "text": [
      "('GradientBoostingClassifier', 0.8194444444444444)\n",
      "--------------------------now with CV---------------------------\n",
      "('LogisticRegression', 0.7837569944377017)\n",
      "('RandomForestClassifier', 0.7529782357298692)\n",
      "('SVC', 0.7621522870818347)\n",
      "('VotingClassifier', 0.7698871560971914)\n",
      "('DecisionTreeClassifier', 0.685539294469291)\n",
      "('KNeighborsClassifier', 0.7469467166553057)\n",
      "('GradientBoostingClassifier', 0.7621804588018614)\n",
      "--------------------------now with CV AUC---------------------------\n",
      "LogisticRegression\n",
      "('LogisticRegression', 0.8406011920186578)\n",
      "RandomForestClassifier\n",
      "('RandomForestClassifier', 0.76)\n",
      "('SVC', 0.8151956465405545)\n",
      "('VotingClassifier', 0.7744883830910565)\n",
      "DecisionTreeClassifier\n",
      "('DecisionTreeClassifier', 0.678258616221819)\n",
      "KNeighborsClassifier\n",
      "('KNeighborsClassifier', 0.7654884685151594)\n",
      "GradientBoostingClassifier\n",
      "('GradientBoostingClassifier', 0.8182327027727391)\n"
     ]
    }
   ],
   "source": [
    "# Try with scaling\n",
    "features=[\"Plasma\",\"BMI\",\"AGE\",\"PEDIGREE\",\"BP\",\"NOP\",\"SERUM_INSULIN\",\"TSKIN_THICKNESS\",\"Target\"]\n",
    "data, feature = load_diabetes_data()\n",
    "X, y = scaleAndPreprocessData(data,features,attributesToClean)\n",
    "X_train, X_test, y_train, y_test = produce_train_test_data(X,y,0.1)\n",
    "name, performance = getPerformances(X_train, X_test, y_train, y_test)\n",
    "\n",
    "# Try with scaling using CV\n",
    "print(\"--------------------------now with CV---------------------------\")\n",
    "name, performance = getPerformanceCV(X_train, y_train)\n",
    "print(\"--------------------------now with CV AUC---------------------------\")\n",
    "name, performance  = getAUCScore(X_train, y_train)"
   ]
  },
  {
   "cell_type": "code",
   "execution_count": 164,
   "metadata": {},
   "outputs": [
    {
     "name": "stdout",
     "output_type": "stream",
     "text": [
      "('LogisticRegression', 0.7777777777777778)\n",
      "('RandomForestClassifier', 0.7777777777777778)\n",
      "('SVC', 0.6944444444444444)\n"
     ]
    },
    {
     "name": "stderr",
     "output_type": "stream",
     "text": [
      "c:\\python27\\lib\\site-packages\\ipykernel_launcher.py:98: DataConversionWarning: A column-vector y was passed when a 1d array was expected. Please change the shape of y to (n_samples,), for example using ravel().\n"
     ]
    },
    {
     "name": "stdout",
     "output_type": "stream",
     "text": [
      "('VotingClassifier', 0.8194444444444444)\n",
      "('DecisionTreeClassifier', 0.8333333333333334)\n",
      "('KNeighborsClassifier', 0.75)\n",
      "('GradientBoostingClassifier', 0.8194444444444444)\n",
      "--------------------------now with CV---------------------------\n"
     ]
    },
    {
     "name": "stderr",
     "output_type": "stream",
     "text": [
      "c:\\python27\\lib\\site-packages\\ipykernel_launcher.py:98: DataConversionWarning: A column-vector y was passed when a 1d array was expected. Please change the shape of y to (n_samples, ), for example using ravel().\n"
     ]
    },
    {
     "name": "stdout",
     "output_type": "stream",
     "text": [
      "('LogisticRegression', 0.7561869253661861)\n",
      "('RandomForestClassifier', 0.7530065229077649)\n",
      "('SVC', 0.6518433772442701)\n",
      "('VotingClassifier', 0.7469088464742861)\n",
      "('DecisionTreeClassifier', 0.685539294469291)\n",
      "('KNeighborsClassifier', 0.7208159453782677)\n",
      "('GradientBoostingClassifier', 0.7621804588018614)\n",
      "--------------------------now with CV AUC---------------------------\n",
      "LogisticRegression\n",
      "('LogisticRegression', 0.8258823529411764)\n",
      "RandomForestClassifier\n",
      "('RandomForestClassifier', 0.7586887794765483)\n",
      "('SVC', 0.5799170769629438)\n",
      "('VotingClassifier', 0.7499765620526007)\n",
      "DecisionTreeClassifier\n",
      "('DecisionTreeClassifier', 0.6823633065561026)\n",
      "KNeighborsClassifier\n",
      "('KNeighborsClassifier', 0.763192536926665)\n",
      "GradientBoostingClassifier\n",
      "('GradientBoostingClassifier', 0.817838818346722)\n"
     ]
    }
   ],
   "source": [
    "# lets try without scaling\n",
    "\n",
    "data, feature = load_diabetes_data()\n",
    "data = preprocess_data(data,features,attributesToClean)\n",
    "X,y = Separate_X_y_data(data)\n",
    "X_train, X_test, y_train, y_test = produce_train_test_data(X,y,0.1)\n",
    "name, performance = getPerformances(X_train, X_test, y_train, y_test)\n",
    "# Try without scaling using CV\n",
    "print(\"--------------------------now with CV---------------------------\")\n",
    "name, performance = getPerformanceCV(X_train, y_train)\n",
    "print(\"--------------------------now with CV AUC---------------------------\")\n",
    "name, performance  = getAUCScore(X_train, y_train)"
   ]
  },
  {
   "cell_type": "code",
   "execution_count": 325,
   "metadata": {},
   "outputs": [
    {
     "data": {
      "text/plain": [
       "<BarContainer object of 7 artists>"
      ]
     },
     "execution_count": 325,
     "metadata": {},
     "output_type": "execute_result"
    },
    {
     "data": {
      "image/png": "[encoded data removed]",
      "text/plain": [
       "<Figure size 432x288 with 1 Axes>"
      ]
     },
     "metadata": {
      "needs_background": "light"
     },
     "output_type": "display_data"
    }
   ],
   "source": [
    "name, performance\n",
    "plt.bar(name, performance,width=0.1)"
   ]
  },
  {
   "cell_type": "code",
   "execution_count": 326,
   "metadata": {},
   "outputs": [
    {
     "data": {
      "text/plain": [
       "[<matplotlib.lines.Line2D at 0x1cb294a8>]"
      ]
     },
     "execution_count": 326,
     "metadata": {},
     "output_type": "execute_result"
    },
    {
     "data": {
      "image/png": "[encoded data removed]",
      "text/plain": [
       "<Figure size 432x288 with 1 Axes>"
      ]
     },
     "metadata": {
      "needs_background": "light"
     },
     "output_type": "display_data"
    }
   ],
   "source": [
    "plt.plot(name,performance)"
   ]
  },
  {
   "cell_type": "code",
   "execution_count": 223,
   "metadata": {},
   "outputs": [
    {
     "name": "stdout",
     "output_type": "stream",
     "text": [
      "('BaggingClassifier', 0.7916666666666666)\n"
     ]
    },
    {
     "data": {
      "text/plain": [
       "[<matplotlib.lines.Line2D at 0x1b501128>]"
      ]
     },
     "execution_count": 223,
     "metadata": {},
     "output_type": "execute_result"
    },
    {
     "data": {
      "image/png": "[encoded data removed]",
      "text/plain": [
       "<Figure size 432x288 with 1 Axes>"
      ]
     },
     "metadata": {
      "needs_background": "light"
     },
     "output_type": "display_data"
    }
   ],
   "source": [
    "# Try with scaling\n",
    "features=[\"Plasma\",\"BMI\",\"AGE\",\"PEDIGREE\",\"BP\",\"NOP\",\"SERUM_INSULIN\",\"TSKIN_THICKNESS\",\"Target\"]\n",
    "data, feature = load_diabetes_data()\n",
    "X, y = scaleAndPreprocessData(data,features,attributesToClean)\n",
    "X_train, X_test, y_train, y_test = produce_train_test_data(X,y,0.1)\n",
    "\n",
    "# bagging classifier\n",
    "\n",
    "from sklearn.ensemble import BaggingClassifier\n",
    "from sklearn.tree import DecisionTreeClassifier\n",
    "\n",
    "bag_clf = BaggingClassifier(\n",
    "    DecisionTreeClassifier(),n_estimators=100,max_samples=600,bootstrap=True,n_jobs=-1\n",
    ")\n",
    "bag_clf.fit(X_train,y_train)\n",
    "y_pred = bag_clf.predict(X_test)\n",
    "print(bag_clf.__class__.__name__,accuracy_score(y_test,y_pred))\n",
    "\n",
    "estomator_number=[]\n",
    "scoreBag = []\n",
    "for n_estimator in [200,250,300,350,400,450,500,550,600,650,700]:\n",
    "    bag_clf = BaggingClassifier(\n",
    "    DecisionTreeClassifier(),n_estimators=n_estimator,max_samples=600,bootstrap=True,n_jobs=-1,oob_score=True)\n",
    "    bag_clf.fit(X_train,y_train)\n",
    "    y_pred = bag_clf.predict(X_test)\n",
    "    score = accuracy_score(y_test,y_pred)\n",
    "    estomator_number.append(n_estimator)\n",
    "    #scoreBag.append(score)\n",
    "    scoreBag.append(bag_clf.oob_score_)\n",
    "\n",
    "plt.plot(estomator_number,scoreBag)"
   ]
  },
  {
   "cell_type": "code",
   "execution_count": 225,
   "metadata": {},
   "outputs": [
    {
     "name": "stdout",
     "output_type": "stream",
     "text": [
      "('BaggingClassifier', 0.8055555555555556)\n",
      "('oob score', 0.7622699386503068)\n"
     ]
    }
   ],
   "source": [
    "bag_clf = BaggingClassifier(\n",
    "    DecisionTreeClassifier(),n_estimators=400,max_samples=200,bootstrap=True,n_jobs=-1,oob_score=True\n",
    ")\n",
    "bag_clf.fit(X_train,y_train)\n",
    "y_pred = bag_clf.predict(X_test)\n",
    "print(bag_clf.__class__.__name__,accuracy_score(y_test,y_pred))\n",
    "print(\"oob score\",bag_clf.oob_score_)"
   ]
  },
  {
   "cell_type": "code",
   "execution_count": null,
   "metadata": {},
   "outputs": [],
   "source": []
  },
  {
   "cell_type": "code",
   "execution_count": 179,
   "metadata": {},
   "outputs": [
    {
     "name": "stdout",
     "output_type": "stream",
     "text": [
      "('BaggingClassifier', 0.8055555555555556)\n"
     ]
    }
   ],
   "source": [
    "# bagging classifier of sampling feature instead of sampling data\n",
    "\n",
    "from sklearn.ensemble import BaggingClassifier\n",
    "from sklearn.tree import DecisionTreeClassifier\n",
    "\n",
    "bag_clf = BaggingClassifier(\n",
    "    DecisionTreeClassifier(),n_estimators=500,max_samples=1.0,bootstrap=False,n_jobs=-1,bootstrap_features=True,max_features=1.0\n",
    ")\n",
    "bag_clf.fit(X_train,y_train)\n",
    "y_pred = bag_clf.predict(X_test)\n",
    "print(bag_clf.__class__.__name__,accuracy_score(y_test,y_pred))"
   ]
  },
  {
   "cell_type": "code",
   "execution_count": 296,
   "metadata": {},
   "outputs": [
    {
     "name": "stdout",
     "output_type": "stream",
     "text": [
      "('BaggingClassifier', 0.8055555555555556)\n"
     ]
    }
   ],
   "source": [
    "# Try with scaling\n",
    "features=[\"Plasma\",\"BMI\",\"AGE\",\"PEDIGREE\",\"BP\",\"NOP\",\"SERUM_INSULIN\",\"TSKIN_THICKNESS\",\"Target\"]\n",
    "data, feature = load_diabetes_data()\n",
    "X, y = scaleAndPreprocessData(data,features,attributesToClean)\n",
    "X_train, X_test, y_train, y_test = produce_train_test_data(X,y,0.1)\n",
    "\n",
    "# pasting classifier\n",
    "\n",
    "from sklearn.ensemble import BaggingClassifier\n",
    "from sklearn.tree import DecisionTreeClassifier\n",
    "\n",
    "bag_clf = BaggingClassifier(\n",
    "    DecisionTreeClassifier(),n_estimators=350,max_samples=200,bootstrap=False,n_jobs=-1\n",
    ")\n",
    "bag_clf.fit(X_train,y_train)\n",
    "y_pred = bag_clf.predict(X_test)\n",
    "print(bag_clf.__class__.__name__,accuracy_score(y_test,y_pred))"
   ]
  },
  {
   "cell_type": "code",
   "execution_count": 295,
   "metadata": {},
   "outputs": [
    {
     "data": {
      "text/plain": [
       "[<matplotlib.lines.Line2D at 0x194749b0>]"
      ]
     },
     "execution_count": 295,
     "metadata": {},
     "output_type": "execute_result"
    },
    {
     "data": {
      "image/png": "[encoded data removed]",
      "text/plain": [
       "<Figure size 432x288 with 1 Axes>"
      ]
     },
     "metadata": {
      "needs_background": "light"
     },
     "output_type": "display_data"
    }
   ],
   "source": [
    "estomator_number=[]\n",
    "scoreBag = []\n",
    "for n_estimator in [300,325,350,375,400]:\n",
    "    bag_clf = BaggingClassifier(\n",
    "    DecisionTreeClassifier(),n_estimators=n_estimator,max_samples=200,bootstrap=False,n_jobs=-1)\n",
    "    bag_clf.fit(X_train,y_train)\n",
    "    y_pred = bag_clf.predict(X_test)\n",
    "    score = accuracy_score(y_test,y_pred)\n",
    "    estomator_number.append(n_estimator)\n",
    "    scoreBag.append(score)\n",
    "\n",
    "plt.plot(estomator_number,scoreBag)"
   ]
  },
  {
   "cell_type": "code",
   "execution_count": 240,
   "metadata": {},
   "outputs": [
    {
     "name": "stderr",
     "output_type": "stream",
     "text": [
      "c:\\python27\\lib\\site-packages\\ipykernel_launcher.py:4: DataConversionWarning: A column-vector y was passed when a 1d array was expected. Please change the shape of y to (n_samples,), for example using ravel().\n",
      "  after removing the cwd from sys.path.\n"
     ]
    },
    {
     "data": {
      "text/plain": [
       "0.7777777777777778"
      ]
     },
     "execution_count": 240,
     "metadata": {},
     "output_type": "execute_result"
    }
   ],
   "source": [
    "# Random forest\n",
    "from sklearn.ensemble import RandomForestClassifier\n",
    "rnd_clf = RandomForestClassifier(n_estimators=500,max_leaf_nodes=16,n_jobs=-1)\n",
    "rnd_clf.fit(X_train,y_train)\n",
    "y_pred_rf = rnd_clf.predict(X_test)\n",
    "accuracy_score(y_test,y_pred_rf)"
   ]
  },
  {
   "cell_type": "code",
   "execution_count": 247,
   "metadata": {},
   "outputs": [
    {
     "name": "stdout",
     "output_type": "stream",
     "text": [
      "('NOP', 0.06512509169230594)\n",
      "('Plasma', 0.35450716172407837)\n",
      "('BP', 0.04380964070637186)\n",
      "('TSKIN_THICKNESS', 0.04331297873857227)\n",
      "('SERUM_INSULIN', 0.08205787719288458)\n",
      "('BMI', 0.17235042734947642)\n",
      "('PEDIGREE', 0.08385086566049263)\n",
      "('AGE', 0.15498595693581801)\n"
     ]
    }
   ],
   "source": [
    "rnd_clf.feature_importances_\n",
    "featureNames  = X_train.columns.array.copy()\n",
    "for name,score in zip(featureNames,rnd_clf.feature_importances_):\n",
    "    print(name,score)"
   ]
  },
  {
   "cell_type": "code",
   "execution_count": 248,
   "metadata": {},
   "outputs": [
    {
     "name": "stdout",
     "output_type": "stream",
     "text": [
      "('LogisticRegression', 0.75)\n",
      "('RandomForestClassifier', 0.7777777777777778)\n",
      "('SVC', 0.7222222222222222)\n"
     ]
    },
    {
     "name": "stderr",
     "output_type": "stream",
     "text": [
      "c:\\python27\\lib\\site-packages\\ipykernel_launcher.py:98: DataConversionWarning: A column-vector y was passed when a 1d array was expected. Please change the shape of y to (n_samples,), for example using ravel().\n"
     ]
    },
    {
     "name": "stdout",
     "output_type": "stream",
     "text": [
      "('VotingClassifier', 0.7638888888888888)\n",
      "('DecisionTreeClassifier', 0.8333333333333334)\n",
      "('KNeighborsClassifier', 0.7222222222222222)\n",
      "('GradientBoostingClassifier', 0.8194444444444444)\n"
     ]
    },
    {
     "name": "stderr",
     "output_type": "stream",
     "text": [
      "c:\\python27\\lib\\site-packages\\ipykernel_launcher.py:98: DataConversionWarning: A column-vector y was passed when a 1d array was expected. Please change the shape of y to (n_samples, ), for example using ravel().\n"
     ]
    }
   ],
   "source": [
    "# try with selected features\n",
    "# Try with scaling\n",
    "features=[\"Plasma\",\"BMI\",\"AGE\",\"PEDIGREE\",\"BP\",\"NOP\",\"SERUM_INSULIN\",\"Target\"]\n",
    "data, feature = load_diabetes_data()\n",
    "X, y = scaleAndPreprocessData(data,features,attributesToClean)\n",
    "X_train, X_test, y_train, y_test = produce_train_test_data(X,y,0.1)\n",
    "name, performance = getPerformances(X_train, X_test, y_train, y_test)"
   ]
  },
  {
   "cell_type": "code",
   "execution_count": 259,
   "metadata": {},
   "outputs": [
    {
     "data": {
      "text/plain": [
       "0.8055555555555556"
      ]
     },
     "execution_count": 259,
     "metadata": {},
     "output_type": "execute_result"
    }
   ],
   "source": [
    "# not improving with selected features, now try ADA boosting\n",
    "\n",
    "# Adaboost - Adaptive boost\n",
    "#SAMME.R - Stagewise Additive Modeling using a multiclass exponential loss function\n",
    "from sklearn.ensemble import AdaBoostClassifier\n",
    "ada_clf = AdaBoostClassifier(\n",
    "  DecisionTreeClassifier(max_depth=3),n_estimators=15, algorithm=\"SAMME.R\", learning_rate=0.5\n",
    ")\n",
    "\n",
    "ada_clf.fit(X_train,y_train)\n",
    "y_test_pred = ada_clf.predict(X_test)\n",
    "accuracy_score(y_test,y_test_pred)"
   ]
  },
  {
   "cell_type": "code",
   "execution_count": 266,
   "metadata": {},
   "outputs": [
    {
     "data": {
      "text/plain": [
       "[<matplotlib.lines.Line2D at 0x1ab41898>]"
      ]
     },
     "execution_count": 266,
     "metadata": {},
     "output_type": "execute_result"
    },
    {
     "data": {
      "image/png": "[encoded data removed]",
      "text/plain": [
       "<Figure size 432x288 with 1 Axes>"
      ]
     },
     "metadata": {
      "needs_background": "light"
     },
     "output_type": "display_data"
    }
   ],
   "source": [
    "# check best number of estimator\n",
    "estomator_number=[]\n",
    "scoreBag = []\n",
    "for n_estimator in [10,11,12,13,14,15,16,17,18,19,20]:\n",
    "    ada_clf = AdaBoostClassifier(DecisionTreeClassifier(max_depth=3),n_estimators=n_estimator, algorithm=\"SAMME.R\", learning_rate=0.5)\n",
    "    ada_clf.fit(X_train,y_train)\n",
    "    y_pred = ada_clf.predict(X_test)\n",
    "    score = accuracy_score(y_test,y_pred)\n",
    "    estomator_number.append(n_estimator)\n",
    "    scoreBag.append(score)\n",
    "\n",
    "plt.plot(estomator_number,scoreBag)"
   ]
  },
  {
   "cell_type": "code",
   "execution_count": 307,
   "metadata": {},
   "outputs": [
    {
     "data": {
      "text/plain": [
       "0.8611111111111112"
      ]
     },
     "execution_count": 307,
     "metadata": {},
     "output_type": "execute_result"
    }
   ],
   "source": [
    "# with best estimator\n",
    "from sklearn.ensemble import AdaBoostClassifier\n",
    "ada_clf = AdaBoostClassifier(\n",
    "  DecisionTreeClassifier(max_depth=3),n_estimators=14, algorithm=\"SAMME.R\", learning_rate=0.5\n",
    ")\n",
    "\n",
    "ada_clf.fit(X_train,y_train)\n",
    "y_test_pred = ada_clf.predict(X_test)\n",
    "accuracy_score(y_test,y_test_pred)"
   ]
  },
  {
   "cell_type": "code",
   "execution_count": 270,
   "metadata": {},
   "outputs": [
    {
     "data": {
      "text/plain": [
       "0.8194444444444444"
      ]
     },
     "execution_count": 270,
     "metadata": {},
     "output_type": "execute_result"
    }
   ],
   "source": [
    "#Gradient boosting or Gradient Tree Boosting Regression  Trees\n",
    "gradient_clf = GradientBoostingClassifier(max_depth=60,n_estimators=100,learning_rate=1.0)\n",
    "gradient_clf.fit(X_train,y_train)\n",
    "y_test_pred = gradient_clf.predict(X_test)\n",
    "accuracy_score(y_test,y_test_pred)"
   ]
  },
  {
   "cell_type": "code",
   "execution_count": 283,
   "metadata": {},
   "outputs": [
    {
     "data": {
      "text/plain": [
       "[<matplotlib.lines.Line2D at 0x1adf6cf8>]"
      ]
     },
     "execution_count": 283,
     "metadata": {},
     "output_type": "execute_result"
    },
    {
     "data": {
      "image/png": "[encoded data removed]",
      "text/plain": [
       "<Figure size 432x288 with 1 Axes>"
      ]
     },
     "metadata": {
      "needs_background": "light"
     },
     "output_type": "display_data"
    }
   ],
   "source": [
    "# check best number of estimator\n",
    "estomator_number=[]\n",
    "scoreBag = []\n",
    "for n_estimator in [50,60,70,80,90,100]:\n",
    "    gradient_clf = GradientBoostingClassifier(max_depth=60,n_estimators=n_estimator,learning_rate=1.0)\n",
    "    gradient_clf.fit(X_train,y_train)\n",
    "    y_pred = gradient_clf.predict(X_test)\n",
    "    score = accuracy_score(y_test,y_pred)\n",
    "    estomator_number.append(n_estimator)\n",
    "    scoreBag.append(score)\n",
    "\n",
    "plt.plot(estomator_number,scoreBag)"
   ]
  },
  {
   "cell_type": "code",
   "execution_count": 286,
   "metadata": {},
   "outputs": [
    {
     "data": {
      "text/plain": [
       "0.8194444444444444"
      ]
     },
     "execution_count": 286,
     "metadata": {},
     "output_type": "execute_result"
    }
   ],
   "source": [
    "#Gradient boosting with best estimator\n",
    "gradient_clf = GradientBoostingClassifier(max_depth=60,n_estimators=80,learning_rate=1.0)\n",
    "gradient_clf.fit(X_train,y_train)\n",
    "y_test_pred = gradient_clf.predict(X_test)\n",
    "accuracy_score(y_test,y_test_pred)"
   ]
  },
  {
   "cell_type": "code",
   "execution_count": 310,
   "metadata": {},
   "outputs": [],
   "source": [
    "# trying chapter 8 concepts\n",
    "from sklearn.decomposition import PCA\n",
    "pca = PCA(n_components=2)\n",
    "X2D = pca.fit_transform(X)"
   ]
  },
  {
   "cell_type": "code",
   "execution_count": 311,
   "metadata": {},
   "outputs": [
    {
     "data": {
      "text/plain": [
       "array([0.25440964, 0.2326305 ])"
      ]
     },
     "execution_count": 311,
     "metadata": {},
     "output_type": "execute_result"
    }
   ],
   "source": [
    "pca.explained_variance_ratio_"
   ]
  },
  {
   "cell_type": "code",
   "execution_count": 314,
   "metadata": {},
   "outputs": [
    {
     "data": {
      "text/plain": [
       "array([0.25440964, 0.48704014, 0.61395801, 0.72410071, 0.8263627 ,\n",
       "       0.89681484, 0.94978663, 1.        ])"
      ]
     },
     "execution_count": 314,
     "metadata": {},
     "output_type": "execute_result"
    }
   ],
   "source": [
    "pca = PCA()\n",
    "pca.fit(X)\n",
    "cumsum = np.cumsum(pca.explained_variance_ratio_) #Return the cumulative sum of the elements along a given axis.The default (None) is to compute the cumsum over the flattened array.\n",
    "cumsum"
   ]
  },
  {
   "cell_type": "code",
   "execution_count": 316,
   "metadata": {},
   "outputs": [
    {
     "data": {
      "text/plain": [
       "8"
      ]
     },
     "execution_count": 316,
     "metadata": {},
     "output_type": "execute_result"
    }
   ],
   "source": [
    "dimension = np.argmax(cumsum > 0.95) + 1\n",
    "dimension"
   ]
  },
  {
   "cell_type": "code",
   "execution_count": 319,
   "metadata": {},
   "outputs": [],
   "source": [
    "# trying chapter 8 concepts\n",
    "from sklearn.decomposition import PCA\n",
    "pca = PCA(n_components=7)\n",
    "X2D_train = pca.fit_transform(X_train)"
   ]
  },
  {
   "cell_type": "code",
   "execution_count": 321,
   "metadata": {},
   "outputs": [
    {
     "name": "stdout",
     "output_type": "stream",
     "text": [
      "('LogisticRegression', 0.75)\n",
      "('RandomForestClassifier', 0.75)\n",
      "('SVC', 0.7222222222222222)\n"
     ]
    },
    {
     "name": "stderr",
     "output_type": "stream",
     "text": [
      "c:\\python27\\lib\\site-packages\\ipykernel_launcher.py:98: DataConversionWarning: A column-vector y was passed when a 1d array was expected. Please change the shape of y to (n_samples,), for example using ravel().\n"
     ]
    },
    {
     "name": "stdout",
     "output_type": "stream",
     "text": [
      "('VotingClassifier', 0.75)\n",
      "('DecisionTreeClassifier', 0.6805555555555556)\n",
      "('KNeighborsClassifier', 0.75)\n",
      "('GradientBoostingClassifier', 0.7361111111111112)\n"
     ]
    },
    {
     "name": "stderr",
     "output_type": "stream",
     "text": [
      "c:\\python27\\lib\\site-packages\\ipykernel_launcher.py:98: DataConversionWarning: A column-vector y was passed when a 1d array was expected. Please change the shape of y to (n_samples, ), for example using ravel().\n"
     ]
    }
   ],
   "source": [
    "# Try with scaling\n",
    "features=[\"Plasma\",\"BMI\",\"AGE\",\"PEDIGREE\",\"BP\",\"NOP\",\"SERUM_INSULIN\",\"TSKIN_THICKNESS\",\"Target\"]\n",
    "data, feature = load_diabetes_data()\n",
    "X, y = scaleAndPreprocessData(data,features,attributesToClean)\n",
    "pca = PCA(n_components=7)\n",
    "X2D = pca.fit_transform(X)\n",
    "X_train, X_test, y_train, y_test = produce_train_test_data(X2D,y,0.1)\n",
    "name, performance = getPerformances(X_train, X_test, y_train, y_test)\n"
   ]
  },
  {
   "cell_type": "code",
   "execution_count": null,
   "metadata": {},
   "outputs": [],
   "source": [
    "# Above is not any better than others"
   ]
  }
 ],
 "metadata": {
  "kernelspec": {
   "display_name": "HelloWorld",
   "language": "python",
   "name": "helloworld"
  },
  "language_info": {
   "codemirror_mode": {
    "name": "ipython",
    "version": 2
   },
   "file_extension": ".py",
   "mimetype": "text/x-python",
   "name": "python",
   "nbconvert_exporter": "python",
   "pygments_lexer": "ipython2",
   "version": "2.7.15"
  }
 },
 "nbformat": 4,
 "nbformat_minor": 2
}
